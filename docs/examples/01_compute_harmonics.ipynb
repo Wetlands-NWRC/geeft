{
 "cells": [
  {
   "cell_type": "code",
   "execution_count": 2,
   "metadata": {},
   "outputs": [
    {
     "data": {
      "text/html": [
       "\n",
       "            <style>\n",
       "                .geemap-dark {\n",
       "                    --jp-widgets-color: white;\n",
       "                    --jp-widgets-label-color: white;\n",
       "                    --jp-ui-font-color1: white;\n",
       "                    --jp-layout-color2: #454545;\n",
       "                    background-color: #383838;\n",
       "                }\n",
       "\n",
       "                .geemap-dark .jupyter-button {\n",
       "                    --jp-layout-color3: #383838;\n",
       "                }\n",
       "\n",
       "                .geemap-colab {\n",
       "                    background-color: var(--colab-primary-surface-color, white);\n",
       "                }\n",
       "\n",
       "                .geemap-colab .jupyter-button {\n",
       "                    --jp-layout-color3: var(--colab-primary-surface-color, white);\n",
       "                }\n",
       "            </style>\n",
       "            "
      ],
      "text/plain": [
       "<IPython.core.display.HTML object>"
      ]
     },
     "metadata": {},
     "output_type": "display_data"
    }
   ],
   "source": [
    "%load_ext autoreload\n",
    "%autoreload 2"
   ]
  },
  {
   "cell_type": "code",
   "execution_count": 70,
   "metadata": {},
   "outputs": [
    {
     "data": {
      "text/html": [
       "\n",
       "            <style>\n",
       "                .geemap-dark {\n",
       "                    --jp-widgets-color: white;\n",
       "                    --jp-widgets-label-color: white;\n",
       "                    --jp-ui-font-color1: white;\n",
       "                    --jp-layout-color2: #454545;\n",
       "                    background-color: #383838;\n",
       "                }\n",
       "\n",
       "                .geemap-dark .jupyter-button {\n",
       "                    --jp-layout-color3: #383838;\n",
       "                }\n",
       "\n",
       "                .geemap-colab {\n",
       "                    background-color: var(--colab-primary-surface-color, white);\n",
       "                }\n",
       "\n",
       "                .geemap-colab .jupyter-button {\n",
       "                    --jp-layout-color3: var(--colab-primary-surface-color, white);\n",
       "                }\n",
       "            </style>\n",
       "            "
      ],
      "text/plain": [
       "<IPython.core.display.HTML object>"
      ]
     },
     "metadata": {},
     "output_type": "display_data"
    }
   ],
   "source": [
    "import ee\n",
    "import geemap\n",
    "\n",
    "import geeft"
   ]
  },
  {
   "cell_type": "code",
   "execution_count": 71,
   "metadata": {},
   "outputs": [
    {
     "data": {
      "text/html": [
       "\n",
       "            <style>\n",
       "                .geemap-dark {\n",
       "                    --jp-widgets-color: white;\n",
       "                    --jp-widgets-label-color: white;\n",
       "                    --jp-ui-font-color1: white;\n",
       "                    --jp-layout-color2: #454545;\n",
       "                    background-color: #383838;\n",
       "                }\n",
       "\n",
       "                .geemap-dark .jupyter-button {\n",
       "                    --jp-layout-color3: #383838;\n",
       "                }\n",
       "\n",
       "                .geemap-colab {\n",
       "                    background-color: var(--colab-primary-surface-color, white);\n",
       "                }\n",
       "\n",
       "                .geemap-colab .jupyter-button {\n",
       "                    --jp-layout-color3: var(--colab-primary-surface-color, white);\n",
       "                }\n",
       "            </style>\n",
       "            "
      ],
      "text/plain": [
       "<IPython.core.display.HTML object>"
      ]
     },
     "metadata": {},
     "output_type": "display_data"
    }
   ],
   "source": [
    "from helpers import LandSAT8SR\n",
    "from helpers import AOI\n",
    "from helpers import DATES"
   ]
  },
  {
   "cell_type": "code",
   "execution_count": 72,
   "metadata": {},
   "outputs": [
    {
     "data": {
      "text/html": [
       "\n",
       "            <style>\n",
       "                .geemap-dark {\n",
       "                    --jp-widgets-color: white;\n",
       "                    --jp-widgets-label-color: white;\n",
       "                    --jp-ui-font-color1: white;\n",
       "                    --jp-layout-color2: #454545;\n",
       "                    background-color: #383838;\n",
       "                }\n",
       "\n",
       "                .geemap-dark .jupyter-button {\n",
       "                    --jp-layout-color3: #383838;\n",
       "                }\n",
       "\n",
       "                .geemap-colab {\n",
       "                    background-color: var(--colab-primary-surface-color, white);\n",
       "                }\n",
       "\n",
       "                .geemap-colab .jupyter-button {\n",
       "                    --jp-layout-color3: var(--colab-primary-surface-color, white);\n",
       "                }\n",
       "            </style>\n",
       "            "
      ],
      "text/plain": [
       "<IPython.core.display.HTML object>"
      ]
     },
     "metadata": {},
     "output_type": "display_data"
    }
   ],
   "source": [
    "ee.Initialize()"
   ]
  },
  {
   "cell_type": "code",
   "execution_count": 73,
   "metadata": {},
   "outputs": [
    {
     "data": {
      "text/html": [
       "\n",
       "            <style>\n",
       "                .geemap-dark {\n",
       "                    --jp-widgets-color: white;\n",
       "                    --jp-widgets-label-color: white;\n",
       "                    --jp-ui-font-color1: white;\n",
       "                    --jp-layout-color2: #454545;\n",
       "                    background-color: #383838;\n",
       "                }\n",
       "\n",
       "                .geemap-dark .jupyter-button {\n",
       "                    --jp-layout-color3: #383838;\n",
       "                }\n",
       "\n",
       "                .geemap-colab {\n",
       "                    background-color: var(--colab-primary-surface-color, white);\n",
       "                }\n",
       "\n",
       "                .geemap-colab .jupyter-button {\n",
       "                    --jp-layout-color3: var(--colab-primary-surface-color, white);\n",
       "                }\n",
       "            </style>\n",
       "            "
      ],
      "text/plain": [
       "<IPython.core.display.HTML object>"
      ]
     },
     "metadata": {},
     "output_type": "display_data"
    }
   ],
   "source": [
    "HARMONICS = 3\n",
    "\n",
    "frequencies = list(range(1, HARMONICS + 1))"
   ]
  },
  {
   "cell_type": "code",
   "execution_count": 74,
   "metadata": {},
   "outputs": [
    {
     "data": {
      "text/html": [
       "\n",
       "            <style>\n",
       "                .geemap-dark {\n",
       "                    --jp-widgets-color: white;\n",
       "                    --jp-widgets-label-color: white;\n",
       "                    --jp-ui-font-color1: white;\n",
       "                    --jp-layout-color2: #454545;\n",
       "                    background-color: #383838;\n",
       "                }\n",
       "\n",
       "                .geemap-dark .jupyter-button {\n",
       "                    --jp-layout-color3: #383838;\n",
       "                }\n",
       "\n",
       "                .geemap-colab {\n",
       "                    background-color: var(--colab-primary-surface-color, white);\n",
       "                }\n",
       "\n",
       "                .geemap-colab .jupyter-button {\n",
       "                    --jp-layout-color3: var(--colab-primary-surface-color, white);\n",
       "                }\n",
       "            </style>\n",
       "            "
      ],
      "text/plain": [
       "<IPython.core.display.HTML object>"
      ]
     },
     "metadata": {},
     "output_type": "display_data"
    }
   ],
   "source": [
    "# do inital pre processing\n",
    "dataset = LandSAT8SR().filterBounds(AOI).filterDate(*DATES).applyCloudMask().addNDVI()"
   ]
  },
  {
   "cell_type": "code",
   "execution_count": 75,
   "metadata": {},
   "outputs": [
    {
     "data": {
      "text/html": [
       "\n",
       "            <style>\n",
       "                .geemap-dark {\n",
       "                    --jp-widgets-color: white;\n",
       "                    --jp-widgets-label-color: white;\n",
       "                    --jp-ui-font-color1: white;\n",
       "                    --jp-layout-color2: #454545;\n",
       "                    background-color: #383838;\n",
       "                }\n",
       "\n",
       "                .geemap-dark .jupyter-button {\n",
       "                    --jp-layout-color3: #383838;\n",
       "                }\n",
       "\n",
       "                .geemap-colab {\n",
       "                    background-color: var(--colab-primary-surface-color, white);\n",
       "                }\n",
       "\n",
       "                .geemap-colab .jupyter-button {\n",
       "                    --jp-layout-color3: var(--colab-primary-surface-color, white);\n",
       "                }\n",
       "            </style>\n",
       "            "
      ],
      "text/plain": [
       "<IPython.core.display.HTML object>"
      ]
     },
     "metadata": {},
     "output_type": "display_data"
    },
    {
     "data": {
      "text/html": [
       "<div><style>:root {\n",
       "  --font-color-primary: var(--jp-content-font-color0, rgba(0, 0, 0, 1));\n",
       "  --font-color-secondary: var(--jp-content-font-color2, rgba(0, 0, 0, 0.6));\n",
       "  --font-color-accent: rgba(123, 31, 162, 1);\n",
       "  --border-color: var(--jp-border-color2, #e0e0e0);\n",
       "  --background-color: var(--jp-layout-color0, white);\n",
       "  --background-color-row-even: var(--jp-layout-color1, white);\n",
       "  --background-color-row-odd: var(--jp-layout-color2, #eeeeee);\n",
       "}\n",
       "\n",
       "html[theme=\"dark\"],\n",
       "body[data-theme=\"dark\"],\n",
       "body.vscode-dark {\n",
       "  --font-color-primary: rgba(255, 255, 255, 1);\n",
       "  --font-color-secondary: rgba(255, 255, 255, 0.6);\n",
       "  --font-color-accent: rgb(173, 132, 190);\n",
       "  --border-color: #2e2e2e;\n",
       "  --background-color: #111111;\n",
       "  --background-color-row-even: #111111;\n",
       "  --background-color-row-odd: #313131;\n",
       "}\n",
       "\n",
       ".ee {\n",
       "  padding: 1em;\n",
       "  line-height: 1.5em;\n",
       "  min-width: 300px;\n",
       "  max-width: 1200px;\n",
       "  overflow-y: scroll;\n",
       "  max-height: 600px;\n",
       "  border: 1px solid var(--border-color);\n",
       "  font-family: monospace;\n",
       "}\n",
       "\n",
       ".ee li {\n",
       "  list-style-type: none;\n",
       "}\n",
       "\n",
       ".ee ul {\n",
       "  padding-left: 1.5em !important;\n",
       "  margin: 0;\n",
       "}\n",
       "\n",
       ".ee > ul {\n",
       "  padding-left: 0 !important;\n",
       "}\n",
       "\n",
       ".ee-open,\n",
       ".ee-shut {\n",
       "  color: var(--font-color-secondary);\n",
       "  cursor: pointer;\n",
       "  margin: 0;\n",
       "}\n",
       "\n",
       ".ee-open:hover,\n",
       ".ee-shut:hover {\n",
       "  color: var(--font-color-primary);\n",
       "}\n",
       "\n",
       ".ee-k {\n",
       "  color: var(--font-color-accent);\n",
       "  margin-right: 6px;\n",
       "}\n",
       "\n",
       ".ee-v {\n",
       "  color: var(--font-color-primary);\n",
       "}\n",
       "\n",
       ".ee-toggle {\n",
       "  display: none;\n",
       "}\n",
       "\n",
       ".ee-shut + ul {\n",
       "  display: none;\n",
       "}\n",
       "\n",
       ".ee-open + ul {\n",
       "  display: block;\n",
       "}\n",
       "\n",
       ".ee-shut::before {\n",
       "  display: inline-block;\n",
       "  content: \"▼\";\n",
       "  margin-right: 6px;\n",
       "  transform: rotate(-90deg);\n",
       "  transition: transform 0.2s;\n",
       "}\n",
       "\n",
       ".ee-open::before {\n",
       "  transform: rotate(0deg);\n",
       "  display: inline-block;\n",
       "  content: \"▼\";\n",
       "  margin-right: 6px;\n",
       "  transition: transform 0.2s;\n",
       "}\n",
       "</style><div class='ee'><ul><li><label class='ee-shut'>Image LANDSAT/LC08/C02/T1_L2/LC08_043034_20130425 (20 bands)<input type='checkbox' class='ee-toggle'></label><ul><li><span class='ee-k'>type:</span><span class='ee-v'>Image</span></li><li><span class='ee-k'>id:</span><span class='ee-v'>LANDSAT/LC08/C02/T1_L2/LC08_043034_20130425</span></li><li><span class='ee-k'>version:</span><span class='ee-v'>1629894509510334</span></li><li><label class='ee-shut'>bands: List (20 elements)<input type='checkbox' class='ee-toggle'></label><ul><li><label class='ee-shut'>0: \"SR_B1\", double, EPSG:32610, 7501x7291 px<input type='checkbox' class='ee-toggle'></label><ul><li><span class='ee-k'>id:</span><span class='ee-v'>SR_B1</span></li><li><span class='ee-k'>crs:</span><span class='ee-v'>EPSG:32610</span></li><li><label class='ee-shut'>crs_transform: [30, 0, 604785, 0, -30, 4259115]<input type='checkbox' class='ee-toggle'></label><ul><li><span class='ee-k'>0:</span><span class='ee-v'>30</span></li><li><span class='ee-k'>1:</span><span class='ee-v'>0</span></li><li><span class='ee-k'>2:</span><span class='ee-v'>604785</span></li><li><span class='ee-k'>3:</span><span class='ee-v'>0</span></li><li><span class='ee-k'>4:</span><span class='ee-v'>-30</span></li><li><span class='ee-k'>5:</span><span class='ee-v'>4259115</span></li></ul></li><li><label class='ee-shut'>data_type: double<input type='checkbox' class='ee-toggle'></label><ul><li><span class='ee-k'>type:</span><span class='ee-v'>PixelType</span></li><li><span class='ee-k'>max:</span><span class='ee-v'>1.6022125</span></li><li><span class='ee-k'>min:</span><span class='ee-v'>-0.2</span></li><li><span class='ee-k'>precision:</span><span class='ee-v'>double</span></li></ul></li><li><label class='ee-shut'>dimensions: [7501, 7291]<input type='checkbox' class='ee-toggle'></label><ul><li><span class='ee-k'>0:</span><span class='ee-v'>7501</span></li><li><span class='ee-k'>1:</span><span class='ee-v'>7291</span></li></ul></li></ul></li><li><label class='ee-shut'>1: \"SR_B2\", double, EPSG:32610, 7501x7291 px<input type='checkbox' class='ee-toggle'></label><ul><li><span class='ee-k'>id:</span><span class='ee-v'>SR_B2</span></li><li><span class='ee-k'>crs:</span><span class='ee-v'>EPSG:32610</span></li><li><label class='ee-shut'>crs_transform: [30, 0, 604785, 0, -30, 4259115]<input type='checkbox' class='ee-toggle'></label><ul><li><span class='ee-k'>0:</span><span class='ee-v'>30</span></li><li><span class='ee-k'>1:</span><span class='ee-v'>0</span></li><li><span class='ee-k'>2:</span><span class='ee-v'>604785</span></li><li><span class='ee-k'>3:</span><span class='ee-v'>0</span></li><li><span class='ee-k'>4:</span><span class='ee-v'>-30</span></li><li><span class='ee-k'>5:</span><span class='ee-v'>4259115</span></li></ul></li><li><label class='ee-shut'>data_type: double<input type='checkbox' class='ee-toggle'></label><ul><li><span class='ee-k'>type:</span><span class='ee-v'>PixelType</span></li><li><span class='ee-k'>max:</span><span class='ee-v'>1.6022125</span></li><li><span class='ee-k'>min:</span><span class='ee-v'>-0.2</span></li><li><span class='ee-k'>precision:</span><span class='ee-v'>double</span></li></ul></li><li><label class='ee-shut'>dimensions: [7501, 7291]<input type='checkbox' class='ee-toggle'></label><ul><li><span class='ee-k'>0:</span><span class='ee-v'>7501</span></li><li><span class='ee-k'>1:</span><span class='ee-v'>7291</span></li></ul></li></ul></li><li><label class='ee-shut'>2: \"SR_B3\", double, EPSG:32610, 7501x7291 px<input type='checkbox' class='ee-toggle'></label><ul><li><span class='ee-k'>id:</span><span class='ee-v'>SR_B3</span></li><li><span class='ee-k'>crs:</span><span class='ee-v'>EPSG:32610</span></li><li><label class='ee-shut'>crs_transform: [30, 0, 604785, 0, -30, 4259115]<input type='checkbox' class='ee-toggle'></label><ul><li><span class='ee-k'>0:</span><span class='ee-v'>30</span></li><li><span class='ee-k'>1:</span><span class='ee-v'>0</span></li><li><span class='ee-k'>2:</span><span class='ee-v'>604785</span></li><li><span class='ee-k'>3:</span><span class='ee-v'>0</span></li><li><span class='ee-k'>4:</span><span class='ee-v'>-30</span></li><li><span class='ee-k'>5:</span><span class='ee-v'>4259115</span></li></ul></li><li><label class='ee-shut'>data_type: double<input type='checkbox' class='ee-toggle'></label><ul><li><span class='ee-k'>type:</span><span class='ee-v'>PixelType</span></li><li><span class='ee-k'>max:</span><span class='ee-v'>1.6022125</span></li><li><span class='ee-k'>min:</span><span class='ee-v'>-0.2</span></li><li><span class='ee-k'>precision:</span><span class='ee-v'>double</span></li></ul></li><li><label class='ee-shut'>dimensions: [7501, 7291]<input type='checkbox' class='ee-toggle'></label><ul><li><span class='ee-k'>0:</span><span class='ee-v'>7501</span></li><li><span class='ee-k'>1:</span><span class='ee-v'>7291</span></li></ul></li></ul></li><li><label class='ee-shut'>3: \"SR_B4\", double, EPSG:32610, 7501x7291 px<input type='checkbox' class='ee-toggle'></label><ul><li><span class='ee-k'>id:</span><span class='ee-v'>SR_B4</span></li><li><span class='ee-k'>crs:</span><span class='ee-v'>EPSG:32610</span></li><li><label class='ee-shut'>crs_transform: [30, 0, 604785, 0, -30, 4259115]<input type='checkbox' class='ee-toggle'></label><ul><li><span class='ee-k'>0:</span><span class='ee-v'>30</span></li><li><span class='ee-k'>1:</span><span class='ee-v'>0</span></li><li><span class='ee-k'>2:</span><span class='ee-v'>604785</span></li><li><span class='ee-k'>3:</span><span class='ee-v'>0</span></li><li><span class='ee-k'>4:</span><span class='ee-v'>-30</span></li><li><span class='ee-k'>5:</span><span class='ee-v'>4259115</span></li></ul></li><li><label class='ee-shut'>data_type: double<input type='checkbox' class='ee-toggle'></label><ul><li><span class='ee-k'>type:</span><span class='ee-v'>PixelType</span></li><li><span class='ee-k'>max:</span><span class='ee-v'>1.6022125</span></li><li><span class='ee-k'>min:</span><span class='ee-v'>-0.2</span></li><li><span class='ee-k'>precision:</span><span class='ee-v'>double</span></li></ul></li><li><label class='ee-shut'>dimensions: [7501, 7291]<input type='checkbox' class='ee-toggle'></label><ul><li><span class='ee-k'>0:</span><span class='ee-v'>7501</span></li><li><span class='ee-k'>1:</span><span class='ee-v'>7291</span></li></ul></li></ul></li><li><label class='ee-shut'>4: \"SR_B5\", double, EPSG:32610, 7501x7291 px<input type='checkbox' class='ee-toggle'></label><ul><li><span class='ee-k'>id:</span><span class='ee-v'>SR_B5</span></li><li><span class='ee-k'>crs:</span><span class='ee-v'>EPSG:32610</span></li><li><label class='ee-shut'>crs_transform: [30, 0, 604785, 0, -30, 4259115]<input type='checkbox' class='ee-toggle'></label><ul><li><span class='ee-k'>0:</span><span class='ee-v'>30</span></li><li><span class='ee-k'>1:</span><span class='ee-v'>0</span></li><li><span class='ee-k'>2:</span><span class='ee-v'>604785</span></li><li><span class='ee-k'>3:</span><span class='ee-v'>0</span></li><li><span class='ee-k'>4:</span><span class='ee-v'>-30</span></li><li><span class='ee-k'>5:</span><span class='ee-v'>4259115</span></li></ul></li><li><label class='ee-shut'>data_type: double<input type='checkbox' class='ee-toggle'></label><ul><li><span class='ee-k'>type:</span><span class='ee-v'>PixelType</span></li><li><span class='ee-k'>max:</span><span class='ee-v'>1.6022125</span></li><li><span class='ee-k'>min:</span><span class='ee-v'>-0.2</span></li><li><span class='ee-k'>precision:</span><span class='ee-v'>double</span></li></ul></li><li><label class='ee-shut'>dimensions: [7501, 7291]<input type='checkbox' class='ee-toggle'></label><ul><li><span class='ee-k'>0:</span><span class='ee-v'>7501</span></li><li><span class='ee-k'>1:</span><span class='ee-v'>7291</span></li></ul></li></ul></li><li><label class='ee-shut'>5: \"SR_B6\", double, EPSG:32610, 7501x7291 px<input type='checkbox' class='ee-toggle'></label><ul><li><span class='ee-k'>id:</span><span class='ee-v'>SR_B6</span></li><li><span class='ee-k'>crs:</span><span class='ee-v'>EPSG:32610</span></li><li><label class='ee-shut'>crs_transform: [30, 0, 604785, 0, -30, 4259115]<input type='checkbox' class='ee-toggle'></label><ul><li><span class='ee-k'>0:</span><span class='ee-v'>30</span></li><li><span class='ee-k'>1:</span><span class='ee-v'>0</span></li><li><span class='ee-k'>2:</span><span class='ee-v'>604785</span></li><li><span class='ee-k'>3:</span><span class='ee-v'>0</span></li><li><span class='ee-k'>4:</span><span class='ee-v'>-30</span></li><li><span class='ee-k'>5:</span><span class='ee-v'>4259115</span></li></ul></li><li><label class='ee-shut'>data_type: double<input type='checkbox' class='ee-toggle'></label><ul><li><span class='ee-k'>type:</span><span class='ee-v'>PixelType</span></li><li><span class='ee-k'>max:</span><span class='ee-v'>1.6022125</span></li><li><span class='ee-k'>min:</span><span class='ee-v'>-0.2</span></li><li><span class='ee-k'>precision:</span><span class='ee-v'>double</span></li></ul></li><li><label class='ee-shut'>dimensions: [7501, 7291]<input type='checkbox' class='ee-toggle'></label><ul><li><span class='ee-k'>0:</span><span class='ee-v'>7501</span></li><li><span class='ee-k'>1:</span><span class='ee-v'>7291</span></li></ul></li></ul></li><li><label class='ee-shut'>6: \"SR_B7\", double, EPSG:32610, 7501x7291 px<input type='checkbox' class='ee-toggle'></label><ul><li><span class='ee-k'>id:</span><span class='ee-v'>SR_B7</span></li><li><span class='ee-k'>crs:</span><span class='ee-v'>EPSG:32610</span></li><li><label class='ee-shut'>crs_transform: [30, 0, 604785, 0, -30, 4259115]<input type='checkbox' class='ee-toggle'></label><ul><li><span class='ee-k'>0:</span><span class='ee-v'>30</span></li><li><span class='ee-k'>1:</span><span class='ee-v'>0</span></li><li><span class='ee-k'>2:</span><span class='ee-v'>604785</span></li><li><span class='ee-k'>3:</span><span class='ee-v'>0</span></li><li><span class='ee-k'>4:</span><span class='ee-v'>-30</span></li><li><span class='ee-k'>5:</span><span class='ee-v'>4259115</span></li></ul></li><li><label class='ee-shut'>data_type: double<input type='checkbox' class='ee-toggle'></label><ul><li><span class='ee-k'>type:</span><span class='ee-v'>PixelType</span></li><li><span class='ee-k'>max:</span><span class='ee-v'>1.6022125</span></li><li><span class='ee-k'>min:</span><span class='ee-v'>-0.2</span></li><li><span class='ee-k'>precision:</span><span class='ee-v'>double</span></li></ul></li><li><label class='ee-shut'>dimensions: [7501, 7291]<input type='checkbox' class='ee-toggle'></label><ul><li><span class='ee-k'>0:</span><span class='ee-v'>7501</span></li><li><span class='ee-k'>1:</span><span class='ee-v'>7291</span></li></ul></li></ul></li><li><label class='ee-shut'>7: \"SR_QA_AEROSOL\", unsigned int8, EPSG:32610, 7501x7291 px<input type='checkbox' class='ee-toggle'></label><ul><li><span class='ee-k'>id:</span><span class='ee-v'>SR_QA_AEROSOL</span></li><li><span class='ee-k'>crs:</span><span class='ee-v'>EPSG:32610</span></li><li><label class='ee-shut'>crs_transform: [30, 0, 604785, 0, -30, 4259115]<input type='checkbox' class='ee-toggle'></label><ul><li><span class='ee-k'>0:</span><span class='ee-v'>30</span></li><li><span class='ee-k'>1:</span><span class='ee-v'>0</span></li><li><span class='ee-k'>2:</span><span class='ee-v'>604785</span></li><li><span class='ee-k'>3:</span><span class='ee-v'>0</span></li><li><span class='ee-k'>4:</span><span class='ee-v'>-30</span></li><li><span class='ee-k'>5:</span><span class='ee-v'>4259115</span></li></ul></li><li><label class='ee-shut'>data_type: unsigned int8<input type='checkbox' class='ee-toggle'></label><ul><li><span class='ee-k'>type:</span><span class='ee-v'>PixelType</span></li><li><span class='ee-k'>max:</span><span class='ee-v'>255</span></li><li><span class='ee-k'>min:</span><span class='ee-v'>0</span></li><li><span class='ee-k'>precision:</span><span class='ee-v'>int</span></li></ul></li><li><label class='ee-shut'>dimensions: [7501, 7291]<input type='checkbox' class='ee-toggle'></label><ul><li><span class='ee-k'>0:</span><span class='ee-v'>7501</span></li><li><span class='ee-k'>1:</span><span class='ee-v'>7291</span></li></ul></li></ul></li><li><label class='ee-shut'>8: \"ST_B10\", double, EPSG:32610, 7501x7291 px<input type='checkbox' class='ee-toggle'></label><ul><li><span class='ee-k'>id:</span><span class='ee-v'>ST_B10</span></li><li><span class='ee-k'>crs:</span><span class='ee-v'>EPSG:32610</span></li><li><label class='ee-shut'>crs_transform: [30, 0, 604785, 0, -30, 4259115]<input type='checkbox' class='ee-toggle'></label><ul><li><span class='ee-k'>0:</span><span class='ee-v'>30</span></li><li><span class='ee-k'>1:</span><span class='ee-v'>0</span></li><li><span class='ee-k'>2:</span><span class='ee-v'>604785</span></li><li><span class='ee-k'>3:</span><span class='ee-v'>0</span></li><li><span class='ee-k'>4:</span><span class='ee-v'>-30</span></li><li><span class='ee-k'>5:</span><span class='ee-v'>4259115</span></li></ul></li><li><label class='ee-shut'>data_type: double<input type='checkbox' class='ee-toggle'></label><ul><li><span class='ee-k'>type:</span><span class='ee-v'>PixelType</span></li><li><span class='ee-k'>max:</span><span class='ee-v'>372.9999407</span></li><li><span class='ee-k'>min:</span><span class='ee-v'>149</span></li><li><span class='ee-k'>precision:</span><span class='ee-v'>double</span></li></ul></li><li><label class='ee-shut'>dimensions: [7501, 7291]<input type='checkbox' class='ee-toggle'></label><ul><li><span class='ee-k'>0:</span><span class='ee-v'>7501</span></li><li><span class='ee-k'>1:</span><span class='ee-v'>7291</span></li></ul></li></ul></li><li><label class='ee-shut'>9: \"ST_ATRAN\", signed int16, EPSG:32610, 7501x7291 px<input type='checkbox' class='ee-toggle'></label><ul><li><span class='ee-k'>id:</span><span class='ee-v'>ST_ATRAN</span></li><li><span class='ee-k'>crs:</span><span class='ee-v'>EPSG:32610</span></li><li><label class='ee-shut'>crs_transform: [30, 0, 604785, 0, -30, 4259115]<input type='checkbox' class='ee-toggle'></label><ul><li><span class='ee-k'>0:</span><span class='ee-v'>30</span></li><li><span class='ee-k'>1:</span><span class='ee-v'>0</span></li><li><span class='ee-k'>2:</span><span class='ee-v'>604785</span></li><li><span class='ee-k'>3:</span><span class='ee-v'>0</span></li><li><span class='ee-k'>4:</span><span class='ee-v'>-30</span></li><li><span class='ee-k'>5:</span><span class='ee-v'>4259115</span></li></ul></li><li><label class='ee-shut'>data_type: signed int16<input type='checkbox' class='ee-toggle'></label><ul><li><span class='ee-k'>type:</span><span class='ee-v'>PixelType</span></li><li><span class='ee-k'>max:</span><span class='ee-v'>32767</span></li><li><span class='ee-k'>min:</span><span class='ee-v'>-32768</span></li><li><span class='ee-k'>precision:</span><span class='ee-v'>int</span></li></ul></li><li><label class='ee-shut'>dimensions: [7501, 7291]<input type='checkbox' class='ee-toggle'></label><ul><li><span class='ee-k'>0:</span><span class='ee-v'>7501</span></li><li><span class='ee-k'>1:</span><span class='ee-v'>7291</span></li></ul></li></ul></li><li><label class='ee-shut'>10: \"ST_CDIST\", signed int16, EPSG:32610, 7501x7291 px<input type='checkbox' class='ee-toggle'></label><ul><li><span class='ee-k'>id:</span><span class='ee-v'>ST_CDIST</span></li><li><span class='ee-k'>crs:</span><span class='ee-v'>EPSG:32610</span></li><li><label class='ee-shut'>crs_transform: [30, 0, 604785, 0, -30, 4259115]<input type='checkbox' class='ee-toggle'></label><ul><li><span class='ee-k'>0:</span><span class='ee-v'>30</span></li><li><span class='ee-k'>1:</span><span class='ee-v'>0</span></li><li><span class='ee-k'>2:</span><span class='ee-v'>604785</span></li><li><span class='ee-k'>3:</span><span class='ee-v'>0</span></li><li><span class='ee-k'>4:</span><span class='ee-v'>-30</span></li><li><span class='ee-k'>5:</span><span class='ee-v'>4259115</span></li></ul></li><li><label class='ee-shut'>data_type: signed int16<input type='checkbox' class='ee-toggle'></label><ul><li><span class='ee-k'>type:</span><span class='ee-v'>PixelType</span></li><li><span class='ee-k'>max:</span><span class='ee-v'>32767</span></li><li><span class='ee-k'>min:</span><span class='ee-v'>-32768</span></li><li><span class='ee-k'>precision:</span><span class='ee-v'>int</span></li></ul></li><li><label class='ee-shut'>dimensions: [7501, 7291]<input type='checkbox' class='ee-toggle'></label><ul><li><span class='ee-k'>0:</span><span class='ee-v'>7501</span></li><li><span class='ee-k'>1:</span><span class='ee-v'>7291</span></li></ul></li></ul></li><li><label class='ee-shut'>11: \"ST_DRAD\", signed int16, EPSG:32610, 7501x7291 px<input type='checkbox' class='ee-toggle'></label><ul><li><span class='ee-k'>id:</span><span class='ee-v'>ST_DRAD</span></li><li><span class='ee-k'>crs:</span><span class='ee-v'>EPSG:32610</span></li><li><label class='ee-shut'>crs_transform: [30, 0, 604785, 0, -30, 4259115]<input type='checkbox' class='ee-toggle'></label><ul><li><span class='ee-k'>0:</span><span class='ee-v'>30</span></li><li><span class='ee-k'>1:</span><span class='ee-v'>0</span></li><li><span class='ee-k'>2:</span><span class='ee-v'>604785</span></li><li><span class='ee-k'>3:</span><span class='ee-v'>0</span></li><li><span class='ee-k'>4:</span><span class='ee-v'>-30</span></li><li><span class='ee-k'>5:</span><span class='ee-v'>4259115</span></li></ul></li><li><label class='ee-shut'>data_type: signed int16<input type='checkbox' class='ee-toggle'></label><ul><li><span class='ee-k'>type:</span><span class='ee-v'>PixelType</span></li><li><span class='ee-k'>max:</span><span class='ee-v'>32767</span></li><li><span class='ee-k'>min:</span><span class='ee-v'>-32768</span></li><li><span class='ee-k'>precision:</span><span class='ee-v'>int</span></li></ul></li><li><label class='ee-shut'>dimensions: [7501, 7291]<input type='checkbox' class='ee-toggle'></label><ul><li><span class='ee-k'>0:</span><span class='ee-v'>7501</span></li><li><span class='ee-k'>1:</span><span class='ee-v'>7291</span></li></ul></li></ul></li><li><label class='ee-shut'>12: \"ST_EMIS\", signed int16, EPSG:32610, 7501x7291 px<input type='checkbox' class='ee-toggle'></label><ul><li><span class='ee-k'>id:</span><span class='ee-v'>ST_EMIS</span></li><li><span class='ee-k'>crs:</span><span class='ee-v'>EPSG:32610</span></li><li><label class='ee-shut'>crs_transform: [30, 0, 604785, 0, -30, 4259115]<input type='checkbox' class='ee-toggle'></label><ul><li><span class='ee-k'>0:</span><span class='ee-v'>30</span></li><li><span class='ee-k'>1:</span><span class='ee-v'>0</span></li><li><span class='ee-k'>2:</span><span class='ee-v'>604785</span></li><li><span class='ee-k'>3:</span><span class='ee-v'>0</span></li><li><span class='ee-k'>4:</span><span class='ee-v'>-30</span></li><li><span class='ee-k'>5:</span><span class='ee-v'>4259115</span></li></ul></li><li><label class='ee-shut'>data_type: signed int16<input type='checkbox' class='ee-toggle'></label><ul><li><span class='ee-k'>type:</span><span class='ee-v'>PixelType</span></li><li><span class='ee-k'>max:</span><span class='ee-v'>32767</span></li><li><span class='ee-k'>min:</span><span class='ee-v'>-32768</span></li><li><span class='ee-k'>precision:</span><span class='ee-v'>int</span></li></ul></li><li><label class='ee-shut'>dimensions: [7501, 7291]<input type='checkbox' class='ee-toggle'></label><ul><li><span class='ee-k'>0:</span><span class='ee-v'>7501</span></li><li><span class='ee-k'>1:</span><span class='ee-v'>7291</span></li></ul></li></ul></li><li><label class='ee-shut'>13: \"ST_EMSD\", signed int16, EPSG:32610, 7501x7291 px<input type='checkbox' class='ee-toggle'></label><ul><li><span class='ee-k'>id:</span><span class='ee-v'>ST_EMSD</span></li><li><span class='ee-k'>crs:</span><span class='ee-v'>EPSG:32610</span></li><li><label class='ee-shut'>crs_transform: [30, 0, 604785, 0, -30, 4259115]<input type='checkbox' class='ee-toggle'></label><ul><li><span class='ee-k'>0:</span><span class='ee-v'>30</span></li><li><span class='ee-k'>1:</span><span class='ee-v'>0</span></li><li><span class='ee-k'>2:</span><span class='ee-v'>604785</span></li><li><span class='ee-k'>3:</span><span class='ee-v'>0</span></li><li><span class='ee-k'>4:</span><span class='ee-v'>-30</span></li><li><span class='ee-k'>5:</span><span class='ee-v'>4259115</span></li></ul></li><li><label class='ee-shut'>data_type: signed int16<input type='checkbox' class='ee-toggle'></label><ul><li><span class='ee-k'>type:</span><span class='ee-v'>PixelType</span></li><li><span class='ee-k'>max:</span><span class='ee-v'>32767</span></li><li><span class='ee-k'>min:</span><span class='ee-v'>-32768</span></li><li><span class='ee-k'>precision:</span><span class='ee-v'>int</span></li></ul></li><li><label class='ee-shut'>dimensions: [7501, 7291]<input type='checkbox' class='ee-toggle'></label><ul><li><span class='ee-k'>0:</span><span class='ee-v'>7501</span></li><li><span class='ee-k'>1:</span><span class='ee-v'>7291</span></li></ul></li></ul></li><li><label class='ee-shut'>14: \"ST_QA\", signed int16, EPSG:32610, 7501x7291 px<input type='checkbox' class='ee-toggle'></label><ul><li><span class='ee-k'>id:</span><span class='ee-v'>ST_QA</span></li><li><span class='ee-k'>crs:</span><span class='ee-v'>EPSG:32610</span></li><li><label class='ee-shut'>crs_transform: [30, 0, 604785, 0, -30, 4259115]<input type='checkbox' class='ee-toggle'></label><ul><li><span class='ee-k'>0:</span><span class='ee-v'>30</span></li><li><span class='ee-k'>1:</span><span class='ee-v'>0</span></li><li><span class='ee-k'>2:</span><span class='ee-v'>604785</span></li><li><span class='ee-k'>3:</span><span class='ee-v'>0</span></li><li><span class='ee-k'>4:</span><span class='ee-v'>-30</span></li><li><span class='ee-k'>5:</span><span class='ee-v'>4259115</span></li></ul></li><li><label class='ee-shut'>data_type: signed int16<input type='checkbox' class='ee-toggle'></label><ul><li><span class='ee-k'>type:</span><span class='ee-v'>PixelType</span></li><li><span class='ee-k'>max:</span><span class='ee-v'>32767</span></li><li><span class='ee-k'>min:</span><span class='ee-v'>-32768</span></li><li><span class='ee-k'>precision:</span><span class='ee-v'>int</span></li></ul></li><li><label class='ee-shut'>dimensions: [7501, 7291]<input type='checkbox' class='ee-toggle'></label><ul><li><span class='ee-k'>0:</span><span class='ee-v'>7501</span></li><li><span class='ee-k'>1:</span><span class='ee-v'>7291</span></li></ul></li></ul></li><li><label class='ee-shut'>15: \"ST_TRAD\", signed int16, EPSG:32610, 7501x7291 px<input type='checkbox' class='ee-toggle'></label><ul><li><span class='ee-k'>id:</span><span class='ee-v'>ST_TRAD</span></li><li><span class='ee-k'>crs:</span><span class='ee-v'>EPSG:32610</span></li><li><label class='ee-shut'>crs_transform: [30, 0, 604785, 0, -30, 4259115]<input type='checkbox' class='ee-toggle'></label><ul><li><span class='ee-k'>0:</span><span class='ee-v'>30</span></li><li><span class='ee-k'>1:</span><span class='ee-v'>0</span></li><li><span class='ee-k'>2:</span><span class='ee-v'>604785</span></li><li><span class='ee-k'>3:</span><span class='ee-v'>0</span></li><li><span class='ee-k'>4:</span><span class='ee-v'>-30</span></li><li><span class='ee-k'>5:</span><span class='ee-v'>4259115</span></li></ul></li><li><label class='ee-shut'>data_type: signed int16<input type='checkbox' class='ee-toggle'></label><ul><li><span class='ee-k'>type:</span><span class='ee-v'>PixelType</span></li><li><span class='ee-k'>max:</span><span class='ee-v'>32767</span></li><li><span class='ee-k'>min:</span><span class='ee-v'>-32768</span></li><li><span class='ee-k'>precision:</span><span class='ee-v'>int</span></li></ul></li><li><label class='ee-shut'>dimensions: [7501, 7291]<input type='checkbox' class='ee-toggle'></label><ul><li><span class='ee-k'>0:</span><span class='ee-v'>7501</span></li><li><span class='ee-k'>1:</span><span class='ee-v'>7291</span></li></ul></li></ul></li><li><label class='ee-shut'>16: \"ST_URAD\", signed int16, EPSG:32610, 7501x7291 px<input type='checkbox' class='ee-toggle'></label><ul><li><span class='ee-k'>id:</span><span class='ee-v'>ST_URAD</span></li><li><span class='ee-k'>crs:</span><span class='ee-v'>EPSG:32610</span></li><li><label class='ee-shut'>crs_transform: [30, 0, 604785, 0, -30, 4259115]<input type='checkbox' class='ee-toggle'></label><ul><li><span class='ee-k'>0:</span><span class='ee-v'>30</span></li><li><span class='ee-k'>1:</span><span class='ee-v'>0</span></li><li><span class='ee-k'>2:</span><span class='ee-v'>604785</span></li><li><span class='ee-k'>3:</span><span class='ee-v'>0</span></li><li><span class='ee-k'>4:</span><span class='ee-v'>-30</span></li><li><span class='ee-k'>5:</span><span class='ee-v'>4259115</span></li></ul></li><li><label class='ee-shut'>data_type: signed int16<input type='checkbox' class='ee-toggle'></label><ul><li><span class='ee-k'>type:</span><span class='ee-v'>PixelType</span></li><li><span class='ee-k'>max:</span><span class='ee-v'>32767</span></li><li><span class='ee-k'>min:</span><span class='ee-v'>-32768</span></li><li><span class='ee-k'>precision:</span><span class='ee-v'>int</span></li></ul></li><li><label class='ee-shut'>dimensions: [7501, 7291]<input type='checkbox' class='ee-toggle'></label><ul><li><span class='ee-k'>0:</span><span class='ee-v'>7501</span></li><li><span class='ee-k'>1:</span><span class='ee-v'>7291</span></li></ul></li></ul></li><li><label class='ee-shut'>17: \"QA_PIXEL\", unsigned int16, EPSG:32610, 7501x7291 px<input type='checkbox' class='ee-toggle'></label><ul><li><span class='ee-k'>id:</span><span class='ee-v'>QA_PIXEL</span></li><li><span class='ee-k'>crs:</span><span class='ee-v'>EPSG:32610</span></li><li><label class='ee-shut'>crs_transform: [30, 0, 604785, 0, -30, 4259115]<input type='checkbox' class='ee-toggle'></label><ul><li><span class='ee-k'>0:</span><span class='ee-v'>30</span></li><li><span class='ee-k'>1:</span><span class='ee-v'>0</span></li><li><span class='ee-k'>2:</span><span class='ee-v'>604785</span></li><li><span class='ee-k'>3:</span><span class='ee-v'>0</span></li><li><span class='ee-k'>4:</span><span class='ee-v'>-30</span></li><li><span class='ee-k'>5:</span><span class='ee-v'>4259115</span></li></ul></li><li><label class='ee-shut'>data_type: unsigned int16<input type='checkbox' class='ee-toggle'></label><ul><li><span class='ee-k'>type:</span><span class='ee-v'>PixelType</span></li><li><span class='ee-k'>max:</span><span class='ee-v'>65535</span></li><li><span class='ee-k'>min:</span><span class='ee-v'>0</span></li><li><span class='ee-k'>precision:</span><span class='ee-v'>int</span></li></ul></li><li><label class='ee-shut'>dimensions: [7501, 7291]<input type='checkbox' class='ee-toggle'></label><ul><li><span class='ee-k'>0:</span><span class='ee-v'>7501</span></li><li><span class='ee-k'>1:</span><span class='ee-v'>7291</span></li></ul></li></ul></li><li><label class='ee-shut'>18: \"QA_RADSAT\", unsigned int16, EPSG:32610, 7501x7291 px<input type='checkbox' class='ee-toggle'></label><ul><li><span class='ee-k'>id:</span><span class='ee-v'>QA_RADSAT</span></li><li><span class='ee-k'>crs:</span><span class='ee-v'>EPSG:32610</span></li><li><label class='ee-shut'>crs_transform: [30, 0, 604785, 0, -30, 4259115]<input type='checkbox' class='ee-toggle'></label><ul><li><span class='ee-k'>0:</span><span class='ee-v'>30</span></li><li><span class='ee-k'>1:</span><span class='ee-v'>0</span></li><li><span class='ee-k'>2:</span><span class='ee-v'>604785</span></li><li><span class='ee-k'>3:</span><span class='ee-v'>0</span></li><li><span class='ee-k'>4:</span><span class='ee-v'>-30</span></li><li><span class='ee-k'>5:</span><span class='ee-v'>4259115</span></li></ul></li><li><label class='ee-shut'>data_type: unsigned int16<input type='checkbox' class='ee-toggle'></label><ul><li><span class='ee-k'>type:</span><span class='ee-v'>PixelType</span></li><li><span class='ee-k'>max:</span><span class='ee-v'>65535</span></li><li><span class='ee-k'>min:</span><span class='ee-v'>0</span></li><li><span class='ee-k'>precision:</span><span class='ee-v'>int</span></li></ul></li><li><label class='ee-shut'>dimensions: [7501, 7291]<input type='checkbox' class='ee-toggle'></label><ul><li><span class='ee-k'>0:</span><span class='ee-v'>7501</span></li><li><span class='ee-k'>1:</span><span class='ee-v'>7291</span></li></ul></li></ul></li><li><label class='ee-shut'>19: \"NDVI\", float, EPSG:32610, 7501x7291 px<input type='checkbox' class='ee-toggle'></label><ul><li><span class='ee-k'>id:</span><span class='ee-v'>NDVI</span></li><li><span class='ee-k'>crs:</span><span class='ee-v'>EPSG:32610</span></li><li><label class='ee-shut'>crs_transform: [30, 0, 604785, 0, -30, 4259115]<input type='checkbox' class='ee-toggle'></label><ul><li><span class='ee-k'>0:</span><span class='ee-v'>30</span></li><li><span class='ee-k'>1:</span><span class='ee-v'>0</span></li><li><span class='ee-k'>2:</span><span class='ee-v'>604785</span></li><li><span class='ee-k'>3:</span><span class='ee-v'>0</span></li><li><span class='ee-k'>4:</span><span class='ee-v'>-30</span></li><li><span class='ee-k'>5:</span><span class='ee-v'>4259115</span></li></ul></li><li><label class='ee-shut'>data_type: float<input type='checkbox' class='ee-toggle'></label><ul><li><span class='ee-k'>type:</span><span class='ee-v'>PixelType</span></li><li><span class='ee-k'>precision:</span><span class='ee-v'>float</span></li></ul></li><li><label class='ee-shut'>dimensions: [7501, 7291]<input type='checkbox' class='ee-toggle'></label><ul><li><span class='ee-k'>0:</span><span class='ee-v'>7501</span></li><li><span class='ee-k'>1:</span><span class='ee-v'>7291</span></li></ul></li></ul></li></ul></li><li><label class='ee-shut'>properties: Object (94 properties)<input type='checkbox' class='ee-toggle'></label><ul><li><span class='ee-k'>ALGORITHM_SOURCE_SURFACE_REFLECTANCE:</span><span class='ee-v'>LaSRC_1.5.0</span></li><li><span class='ee-k'>ALGORITHM_SOURCE_SURFACE_TEMPERATURE:</span><span class='ee-v'>st_1.3.0</span></li><li><span class='ee-k'>CLOUD_COVER:</span><span class='ee-v'>1.88</span></li><li><span class='ee-k'>CLOUD_COVER_LAND:</span><span class='ee-v'>1.88</span></li><li><span class='ee-k'>COLLECTION_CATEGORY:</span><span class='ee-v'>T1</span></li><li><span class='ee-k'>COLLECTION_NUMBER:</span><span class='ee-v'>2</span></li><li><span class='ee-k'>DATA_SOURCE_AIR_TEMPERATURE:</span><span class='ee-v'>MODIS</span></li><li><span class='ee-k'>DATA_SOURCE_ELEVATION:</span><span class='ee-v'>GLS2000</span></li><li><span class='ee-k'>DATA_SOURCE_OZONE:</span><span class='ee-v'>MODIS</span></li><li><span class='ee-k'>DATA_SOURCE_PRESSURE:</span><span class='ee-v'>Calculated</span></li><li><span class='ee-k'>DATA_SOURCE_REANALYSIS:</span><span class='ee-v'>GEOS-5 FP-IT</span></li><li><span class='ee-k'>DATA_SOURCE_TIRS_STRAY_LIGHT_CORRECTION:</span><span class='ee-v'>TIRS</span></li><li><span class='ee-k'>DATA_SOURCE_WATER_VAPOR:</span><span class='ee-v'>MODIS</span></li><li><span class='ee-k'>DATE_ACQUIRED:</span><span class='ee-v'>2013-04-25</span></li><li><span class='ee-k'>DATE_PRODUCT_GENERATED:</span><span class='ee-v'>1599954313000</span></li><li><span class='ee-k'>DATUM:</span><span class='ee-v'>WGS84</span></li><li><span class='ee-k'>EARTH_SUN_DISTANCE:</span><span class='ee-v'>1.0061524</span></li><li><span class='ee-k'>ELLIPSOID:</span><span class='ee-v'>WGS84</span></li><li><span class='ee-k'>GEOMETRIC_RMSE_MODEL:</span><span class='ee-v'>5.338</span></li><li><span class='ee-k'>GEOMETRIC_RMSE_MODEL_X:</span><span class='ee-v'>3.815</span></li><li><span class='ee-k'>GEOMETRIC_RMSE_MODEL_Y:</span><span class='ee-v'>3.733</span></li><li><span class='ee-k'>GEOMETRIC_RMSE_VERIFY:</span><span class='ee-v'>2.189</span></li><li><span class='ee-k'>GRID_CELL_SIZE_REFLECTIVE:</span><span class='ee-v'>30</span></li><li><span class='ee-k'>GRID_CELL_SIZE_THERMAL:</span><span class='ee-v'>30</span></li><li><span class='ee-k'>GROUND_CONTROL_POINTS_MODEL:</span><span class='ee-v'>1063</span></li><li><span class='ee-k'>GROUND_CONTROL_POINTS_VERIFY:</span><span class='ee-v'>261</span></li><li><span class='ee-k'>GROUND_CONTROL_POINTS_VERSION:</span><span class='ee-v'>5</span></li><li><span class='ee-k'>IMAGE_QUALITY_OLI:</span><span class='ee-v'>9</span></li><li><span class='ee-k'>IMAGE_QUALITY_TIRS:</span><span class='ee-v'>9</span></li><li><span class='ee-k'>L1_DATE_PRODUCT_GENERATED:</span><span class='ee-v'>2020-09-12T23:33:52Z</span></li><li><span class='ee-k'>L1_LANDSAT_PRODUCT_ID:</span><span class='ee-v'>LC08_L1TP_043034_20130425_20200912_02_T1</span></li><li><span class='ee-k'>L1_PROCESSING_LEVEL:</span><span class='ee-v'>L1TP</span></li><li><span class='ee-k'>L1_PROCESSING_SOFTWARE_VERSION:</span><span class='ee-v'>LPGS_15.3.1c</span></li><li><span class='ee-k'>L1_REQUEST_ID:</span><span class='ee-v'>L2</span></li><li><span class='ee-k'>LANDSAT_PRODUCT_ID:</span><span class='ee-v'>LC08_L2SP_043034_20130425_20200912_02_T1</span></li><li><span class='ee-k'>LANDSAT_SCENE_ID:</span><span class='ee-v'>LC80430342013115LGN03</span></li><li><span class='ee-k'>MAP_PROJECTION:</span><span class='ee-v'>UTM</span></li><li><span class='ee-k'>NADIR_OFFNADIR:</span><span class='ee-v'>NADIR</span></li><li><span class='ee-k'>ORIENTATION:</span><span class='ee-v'>NORTH_UP</span></li><li><span class='ee-k'>PROCESSING_LEVEL:</span><span class='ee-v'>L2SP</span></li><li><span class='ee-k'>PROCESSING_SOFTWARE_VERSION:</span><span class='ee-v'>LPGS_15.3.1c</span></li><li><span class='ee-k'>REFLECTANCE_ADD_BAND_1:</span><span class='ee-v'>-0.2</span></li><li><span class='ee-k'>REFLECTANCE_ADD_BAND_2:</span><span class='ee-v'>-0.2</span></li><li><span class='ee-k'>REFLECTANCE_ADD_BAND_3:</span><span class='ee-v'>-0.2</span></li><li><span class='ee-k'>REFLECTANCE_ADD_BAND_4:</span><span class='ee-v'>-0.2</span></li><li><span class='ee-k'>REFLECTANCE_ADD_BAND_5:</span><span class='ee-v'>-0.2</span></li><li><span class='ee-k'>REFLECTANCE_ADD_BAND_6:</span><span class='ee-v'>-0.2</span></li><li><span class='ee-k'>REFLECTANCE_ADD_BAND_7:</span><span class='ee-v'>-0.2</span></li><li><span class='ee-k'>REFLECTANCE_MULT_BAND_1:</span><span class='ee-v'>2.75e-05</span></li><li><span class='ee-k'>REFLECTANCE_MULT_BAND_2:</span><span class='ee-v'>2.75e-05</span></li><li><span class='ee-k'>REFLECTANCE_MULT_BAND_3:</span><span class='ee-v'>2.75e-05</span></li><li><span class='ee-k'>REFLECTANCE_MULT_BAND_4:</span><span class='ee-v'>2.75e-05</span></li><li><span class='ee-k'>REFLECTANCE_MULT_BAND_5:</span><span class='ee-v'>2.75e-05</span></li><li><span class='ee-k'>REFLECTANCE_MULT_BAND_6:</span><span class='ee-v'>2.75e-05</span></li><li><span class='ee-k'>REFLECTANCE_MULT_BAND_7:</span><span class='ee-v'>2.75e-05</span></li><li><span class='ee-k'>REFLECTIVE_LINES:</span><span class='ee-v'>7291</span></li><li><span class='ee-k'>REFLECTIVE_SAMPLES:</span><span class='ee-v'>7501</span></li><li><span class='ee-k'>REQUEST_ID:</span><span class='ee-v'>L2</span></li><li><span class='ee-k'>ROLL_ANGLE:</span><span class='ee-v'>-0.001</span></li><li><span class='ee-k'>SATURATION_BAND_1:</span><span class='ee-v'>N</span></li><li><span class='ee-k'>SATURATION_BAND_2:</span><span class='ee-v'>N</span></li><li><span class='ee-k'>SATURATION_BAND_3:</span><span class='ee-v'>N</span></li><li><span class='ee-k'>SATURATION_BAND_4:</span><span class='ee-v'>N</span></li><li><span class='ee-k'>SATURATION_BAND_5:</span><span class='ee-v'>Y</span></li><li><span class='ee-k'>SATURATION_BAND_6:</span><span class='ee-v'>Y</span></li><li><span class='ee-k'>SATURATION_BAND_7:</span><span class='ee-v'>Y</span></li><li><span class='ee-k'>SATURATION_BAND_8:</span><span class='ee-v'>N</span></li><li><span class='ee-k'>SATURATION_BAND_9:</span><span class='ee-v'>N</span></li><li><span class='ee-k'>SCENE_CENTER_TIME:</span><span class='ee-v'>18:41:39.0246000Z</span></li><li><span class='ee-k'>SENSOR_ID:</span><span class='ee-v'>OLI_TIRS</span></li><li><span class='ee-k'>SPACECRAFT_ID:</span><span class='ee-v'>LANDSAT_8</span></li><li><span class='ee-k'>STATION_ID:</span><span class='ee-v'>LGN</span></li><li><span class='ee-k'>SUN_AZIMUTH:</span><span class='ee-v'>138.85095424</span></li><li><span class='ee-k'>SUN_ELEVATION:</span><span class='ee-v'>60.28139977</span></li><li><span class='ee-k'>TARGET_WRS_PATH:</span><span class='ee-v'>43</span></li><li><span class='ee-k'>TARGET_WRS_ROW:</span><span class='ee-v'>34</span></li><li><span class='ee-k'>TEMPERATURE_ADD_BAND_ST_B10:</span><span class='ee-v'>149</span></li><li><span class='ee-k'>TEMPERATURE_MAXIMUM_BAND_ST_B10:</span><span class='ee-v'>372.999941</span></li><li><span class='ee-k'>TEMPERATURE_MINIMUM_BAND_ST_B10:</span><span class='ee-v'>149.003418</span></li><li><span class='ee-k'>TEMPERATURE_MULT_BAND_ST_B10:</span><span class='ee-v'>0.00341802</span></li><li><span class='ee-k'>THERMAL_LINES:</span><span class='ee-v'>7291</span></li><li><span class='ee-k'>THERMAL_SAMPLES:</span><span class='ee-v'>7501</span></li><li><span class='ee-k'>TIRS_SSM_MODEL:</span><span class='ee-v'>ACTUAL</span></li><li><span class='ee-k'>TIRS_SSM_POSITION_STATUS:</span><span class='ee-v'>NOMINAL</span></li><li><span class='ee-k'>TRUNCATION_OLI:</span><span class='ee-v'>UPPER</span></li><li><span class='ee-k'>UTM_ZONE:</span><span class='ee-v'>10</span></li><li><span class='ee-k'>WRS_PATH:</span><span class='ee-v'>43</span></li><li><span class='ee-k'>WRS_ROW:</span><span class='ee-v'>34</span></li><li><span class='ee-k'>WRS_TYPE:</span><span class='ee-v'>2</span></li><li><span class='ee-k'>system:asset_size:</span><span class='ee-v'>923692083</span></li><li><label class='ee-shut'>system:footprint: LinearRing (21 vertices)<input type='checkbox' class='ee-toggle'></label><ul><li><span class='ee-k'>type:</span><span class='ee-v'>LinearRing</span></li><li><label class='ee-shut'>coordinates: List (21 elements)<input type='checkbox' class='ee-toggle'></label><ul><li><label class='ee-shut'>0: [-121.33505369721036, 38.46176992940152]<input type='checkbox' class='ee-toggle'></label><ul><li><span class='ee-k'>0:</span><span class='ee-v'>-121.33505369721036</span></li><li><span class='ee-k'>1:</span><span class='ee-v'>38.46176992940152</span></li></ul></li><li><label class='ee-shut'>1: [-121.3558362325698, 38.46546867484676]<input type='checkbox' class='ee-toggle'></label><ul><li><span class='ee-k'>0:</span><span class='ee-v'>-121.3558362325698</span></li><li><span class='ee-k'>1:</span><span class='ee-v'>38.46546867484676</span></li></ul></li><li><label class='ee-shut'>2: [-121.586036806864, 37.666474795303756]<input type='checkbox' class='ee-toggle'></label><ul><li><span class='ee-k'>0:</span><span class='ee-v'>-121.586036806864</span></li><li><span class='ee-k'>1:</span><span class='ee-v'>37.666474795303756</span></li></ul></li><li><label class='ee-shut'>3: [-121.81163576981429, 36.86488880106467]<input type='checkbox' class='ee-toggle'></label><ul><li><span class='ee-k'>0:</span><span class='ee-v'>-121.81163576981429</span></li><li><span class='ee-k'>1:</span><span class='ee-v'>36.86488880106467</span></li></ul></li><li><label class='ee-shut'>4: [-121.81165454079863, 36.8636754756665]<input type='checkbox' class='ee-toggle'></label><ul><li><span class='ee-k'>0:</span><span class='ee-v'>-121.81165454079863</span></li><li><span class='ee-k'>1:</span><span class='ee-v'>36.8636754756665</span></li></ul></li><li><label class='ee-shut'>5: [-121.78487825432727, 36.85878099827164]<input type='checkbox' class='ee-toggle'></label><ul><li><span class='ee-k'>0:</span><span class='ee-v'>-121.78487825432727</span></li><li><span class='ee-k'>1:</span><span class='ee-v'>36.85878099827164</span></li></ul></li><li><label class='ee-shut'>6: [-121.40103784268543, 36.787985835331476]<input type='checkbox' class='ee-toggle'></label><ul><li><span class='ee-k'>0:</span><span class='ee-v'>-121.40103784268543</span></li><li><span class='ee-k'>1:</span><span class='ee-v'>36.787985835331476</span></li></ul></li><li><label class='ee-shut'>7: [-119.80202962908605, 36.478372061401096]<input type='checkbox' class='ee-toggle'></label><ul><li><span class='ee-k'>0:</span><span class='ee-v'>-119.80202962908605</span></li><li><span class='ee-k'>1:</span><span class='ee-v'>36.478372061401096</span></li></ul></li><li><label class='ee-shut'>8: [-119.78280081826105, 36.47452334414627]<input type='checkbox' class='ee-toggle'></label><ul><li><span class='ee-k'>0:</span><span class='ee-v'>-119.78280081826105</span></li><li><span class='ee-k'>1:</span><span class='ee-v'>36.47452334414627</span></li></ul></li><li><label class='ee-shut'>9: [-119.78187183909249, 36.4771482568197]<input type='checkbox' class='ee-toggle'></label><ul><li><span class='ee-k'>0:</span><span class='ee-v'>-119.78187183909249</span></li><li><span class='ee-k'>1:</span><span class='ee-v'>36.4771482568197</span></li></ul></li><li><label class='ee-shut'>10: [-119.7625773362403, 36.53996129370961]<input type='checkbox' class='ee-toggle'></label><ul><li><span class='ee-k'>0:</span><span class='ee-v'>-119.7625773362403</span></li><li><span class='ee-k'>1:</span><span class='ee-v'>36.53996129370961</span></li></ul></li><li><label class='ee-shut'>11: [-119.71478648573375, 36.695168981303794]<input type='checkbox' class='ee-toggle'></label><ul><li><span class='ee-k'>0:</span><span class='ee-v'>-119.71478648573375</span></li><li><span class='ee-k'>1:</span><span class='ee-v'>36.695168981303794</span></li></ul></li><li><label class='ee-shut'>12: [-119.6874867831839, 36.78361583376816]<input type='checkbox' class='ee-toggle'></label><ul><li><span class='ee-k'>0:</span><span class='ee-v'>-119.6874867831839</span></li><li><span class='ee-k'>1:</span><span class='ee-v'>36.78361583376816</span></li></ul></li><li><label class='ee-shut'>13: [-119.65541251633749, 36.887327445713225]<input type='checkbox' class='ee-toggle'></label><ul><li><span class='ee-k'>0:</span><span class='ee-v'>-119.65541251633749</span></li><li><span class='ee-k'>1:</span><span class='ee-v'>36.887327445713225</span></li></ul></li><li><label class='ee-shut'>14: [-119.63501539401123, 36.95324625148282]<input type='checkbox' class='ee-toggle'></label><ul><li><span class='ee-k'>0:</span><span class='ee-v'>-119.63501539401123</span></li><li><span class='ee-k'>1:</span><span class='ee-v'>36.95324625148282</span></li></ul></li><li><label class='ee-shut'>15: [-119.59803968529475, 37.07247559305706]<input type='checkbox' class='ee-toggle'></label><ul><li><span class='ee-k'>0:</span><span class='ee-v'>-119.59803968529475</span></li><li><span class='ee-k'>1:</span><span class='ee-v'>37.07247559305706</span></li></ul></li><li><label class='ee-shut'>16: [-119.44394899460099, 37.573238210684394]<input type='checkbox' class='ee-toggle'></label><ul><li><span class='ee-k'>0:</span><span class='ee-v'>-119.44394899460099</span></li><li><span class='ee-k'>1:</span><span class='ee-v'>37.573238210684394</span></li></ul></li><li><label class='ee-shut'>17: [-119.28710521909974, 38.07497596319536]<input type='checkbox' class='ee-toggle'></label><ul><li><span class='ee-k'>0:</span><span class='ee-v'>-119.28710521909974</span></li><li><span class='ee-k'>1:</span><span class='ee-v'>38.07497596319536</span></li></ul></li><li><label class='ee-shut'>18: [-119.28704378815999, 38.07618853485554]<input type='checkbox' class='ee-toggle'></label><ul><li><span class='ee-k'>0:</span><span class='ee-v'>-119.28704378815999</span></li><li><span class='ee-k'>1:</span><span class='ee-v'>38.07618853485554</span></li></ul></li><li><label class='ee-shut'>19: [-119.42479601293059, 38.10336959400444]<input type='checkbox' class='ee-toggle'></label><ul><li><span class='ee-k'>0:</span><span class='ee-v'>-119.42479601293059</span></li><li><span class='ee-k'>1:</span><span class='ee-v'>38.10336959400444</span></li></ul></li><li><label class='ee-shut'>20: [-121.33505369721036, 38.46176992940152]<input type='checkbox' class='ee-toggle'></label><ul><li><span class='ee-k'>0:</span><span class='ee-v'>-121.33505369721036</span></li><li><span class='ee-k'>1:</span><span class='ee-v'>38.46176992940152</span></li></ul></li></ul></li></ul></li><li><span class='ee-k'>system:index:</span><span class='ee-v'>LC08_043034_20130425</span></li><li><span class='ee-k'>system:time_end:</span><span class='ee-v'>1366915299024</span></li><li><span class='ee-k'>system:time_start:</span><span class='ee-v'>1366915299024</span></li></ul></li></ul></li></ul></div><script>function toggleHeader() {\n",
       "    const parent = this.parentElement;\n",
       "    parent.className = parent.className === \"ee-open\" ? \"ee-shut\" : \"ee-open\";\n",
       "}\n",
       "\n",
       "for (let c of document.getElementsByClassName(\"ee-toggle\")) {\n",
       "    c.onclick = toggleHeader;\n",
       "}</script></div>"
      ],
      "text/plain": [
       "<ee.image.Image at 0x7f80f9ad7e10>"
      ]
     },
     "execution_count": 75,
     "metadata": {},
     "output_type": "execute_result"
    }
   ],
   "source": [
    "# echo the first\n",
    "dataset.first()"
   ]
  },
  {
   "cell_type": "code",
   "execution_count": 76,
   "metadata": {},
   "outputs": [
    {
     "data": {
      "text/html": [
       "\n",
       "            <style>\n",
       "                .geemap-dark {\n",
       "                    --jp-widgets-color: white;\n",
       "                    --jp-widgets-label-color: white;\n",
       "                    --jp-ui-font-color1: white;\n",
       "                    --jp-layout-color2: #454545;\n",
       "                    background-color: #383838;\n",
       "                }\n",
       "\n",
       "                .geemap-dark .jupyter-button {\n",
       "                    --jp-layout-color3: #383838;\n",
       "                }\n",
       "\n",
       "                .geemap-colab {\n",
       "                    background-color: var(--colab-primary-surface-color, white);\n",
       "                }\n",
       "\n",
       "                .geemap-colab .jupyter-button {\n",
       "                    --jp-layout-color3: var(--colab-primary-surface-color, white);\n",
       "                }\n",
       "            </style>\n",
       "            "
      ],
      "text/plain": [
       "<IPython.core.display.HTML object>"
      ]
     },
     "metadata": {},
     "output_type": "display_data"
    },
    {
     "data": {
      "text/plain": [
       "['cos_1', 'cos_2', 'cos_3']"
      ]
     },
     "execution_count": 76,
     "metadata": {},
     "output_type": "execute_result"
    }
   ],
   "source": [
    "cos_names = geeft._get_names('cos', frequencies)\n",
    "cos_names"
   ]
  },
  {
   "cell_type": "code",
   "execution_count": 77,
   "metadata": {},
   "outputs": [
    {
     "data": {
      "text/html": [
       "\n",
       "            <style>\n",
       "                .geemap-dark {\n",
       "                    --jp-widgets-color: white;\n",
       "                    --jp-widgets-label-color: white;\n",
       "                    --jp-ui-font-color1: white;\n",
       "                    --jp-layout-color2: #454545;\n",
       "                    background-color: #383838;\n",
       "                }\n",
       "\n",
       "                .geemap-dark .jupyter-button {\n",
       "                    --jp-layout-color3: #383838;\n",
       "                }\n",
       "\n",
       "                .geemap-colab {\n",
       "                    background-color: var(--colab-primary-surface-color, white);\n",
       "                }\n",
       "\n",
       "                .geemap-colab .jupyter-button {\n",
       "                    --jp-layout-color3: var(--colab-primary-surface-color, white);\n",
       "                }\n",
       "            </style>\n",
       "            "
      ],
      "text/plain": [
       "<IPython.core.display.HTML object>"
      ]
     },
     "metadata": {},
     "output_type": "display_data"
    },
    {
     "data": {
      "text/plain": [
       "['sin_1', 'sin_2', 'sin_3']"
      ]
     },
     "execution_count": 77,
     "metadata": {},
     "output_type": "execute_result"
    }
   ],
   "source": [
    "sin_names = geeft._get_names('sin', frequencies)\n",
    "sin_names"
   ]
  },
  {
   "cell_type": "code",
   "execution_count": 79,
   "metadata": {},
   "outputs": [
    {
     "data": {
      "text/html": [
       "\n",
       "            <style>\n",
       "                .geemap-dark {\n",
       "                    --jp-widgets-color: white;\n",
       "                    --jp-widgets-label-color: white;\n",
       "                    --jp-ui-font-color1: white;\n",
       "                    --jp-layout-color2: #454545;\n",
       "                    background-color: #383838;\n",
       "                }\n",
       "\n",
       "                .geemap-dark .jupyter-button {\n",
       "                    --jp-layout-color3: #383838;\n",
       "                }\n",
       "\n",
       "                .geemap-colab {\n",
       "                    background-color: var(--colab-primary-surface-color, white);\n",
       "                }\n",
       "\n",
       "                .geemap-colab .jupyter-button {\n",
       "                    --jp-layout-color3: var(--colab-primary-surface-color, white);\n",
       "                }\n",
       "            </style>\n",
       "            "
      ],
      "text/plain": [
       "<IPython.core.display.HTML object>"
      ]
     },
     "metadata": {},
     "output_type": "display_data"
    }
   ],
   "source": [
    "indpendents = ['constant', 't'] + cos_names + sin_names\n",
    "dependent = 'NDVI'"
   ]
  },
  {
   "cell_type": "code",
   "execution_count": 64,
   "metadata": {},
   "outputs": [
    {
     "data": {
      "text/html": [
       "\n",
       "            <style>\n",
       "                .geemap-dark {\n",
       "                    --jp-widgets-color: white;\n",
       "                    --jp-widgets-label-color: white;\n",
       "                    --jp-ui-font-color1: white;\n",
       "                    --jp-layout-color2: #454545;\n",
       "                    background-color: #383838;\n",
       "                }\n",
       "\n",
       "                .geemap-dark .jupyter-button {\n",
       "                    --jp-layout-color3: #383838;\n",
       "                }\n",
       "\n",
       "                .geemap-colab {\n",
       "                    background-color: var(--colab-primary-surface-color, white);\n",
       "                }\n",
       "\n",
       "                .geemap-colab .jupyter-button {\n",
       "                    --jp-layout-color3: var(--colab-primary-surface-color, white);\n",
       "                }\n",
       "            </style>\n",
       "            "
      ],
      "text/plain": [
       "<IPython.core.display.HTML object>"
      ]
     },
     "metadata": {},
     "output_type": "display_data"
    }
   ],
   "source": [
    "# add constant \n",
    "dataset = dataset.map(geeft._add_constant)"
   ]
  },
  {
   "cell_type": "code",
   "execution_count": 80,
   "metadata": {},
   "outputs": [
    {
     "data": {
      "text/html": [
       "\n",
       "            <style>\n",
       "                .geemap-dark {\n",
       "                    --jp-widgets-color: white;\n",
       "                    --jp-widgets-label-color: white;\n",
       "                    --jp-ui-font-color1: white;\n",
       "                    --jp-layout-color2: #454545;\n",
       "                    background-color: #383838;\n",
       "                }\n",
       "\n",
       "                .geemap-dark .jupyter-button {\n",
       "                    --jp-layout-color3: #383838;\n",
       "                }\n",
       "\n",
       "                .geemap-colab {\n",
       "                    background-color: var(--colab-primary-surface-color, white);\n",
       "                }\n",
       "\n",
       "                .geemap-colab .jupyter-button {\n",
       "                    --jp-layout-color3: var(--colab-primary-surface-color, white);\n",
       "                }\n",
       "            </style>\n",
       "            "
      ],
      "text/plain": [
       "<IPython.core.display.HTML object>"
      ]
     },
     "metadata": {},
     "output_type": "display_data"
    },
    {
     "data": {
      "text/html": [
       "<div><style>:root {\n",
       "  --font-color-primary: var(--jp-content-font-color0, rgba(0, 0, 0, 1));\n",
       "  --font-color-secondary: var(--jp-content-font-color2, rgba(0, 0, 0, 0.6));\n",
       "  --font-color-accent: rgba(123, 31, 162, 1);\n",
       "  --border-color: var(--jp-border-color2, #e0e0e0);\n",
       "  --background-color: var(--jp-layout-color0, white);\n",
       "  --background-color-row-even: var(--jp-layout-color1, white);\n",
       "  --background-color-row-odd: var(--jp-layout-color2, #eeeeee);\n",
       "}\n",
       "\n",
       "html[theme=\"dark\"],\n",
       "body[data-theme=\"dark\"],\n",
       "body.vscode-dark {\n",
       "  --font-color-primary: rgba(255, 255, 255, 1);\n",
       "  --font-color-secondary: rgba(255, 255, 255, 0.6);\n",
       "  --font-color-accent: rgb(173, 132, 190);\n",
       "  --border-color: #2e2e2e;\n",
       "  --background-color: #111111;\n",
       "  --background-color-row-even: #111111;\n",
       "  --background-color-row-odd: #313131;\n",
       "}\n",
       "\n",
       ".ee {\n",
       "  padding: 1em;\n",
       "  line-height: 1.5em;\n",
       "  min-width: 300px;\n",
       "  max-width: 1200px;\n",
       "  overflow-y: scroll;\n",
       "  max-height: 600px;\n",
       "  border: 1px solid var(--border-color);\n",
       "  font-family: monospace;\n",
       "}\n",
       "\n",
       ".ee li {\n",
       "  list-style-type: none;\n",
       "}\n",
       "\n",
       ".ee ul {\n",
       "  padding-left: 1.5em !important;\n",
       "  margin: 0;\n",
       "}\n",
       "\n",
       ".ee > ul {\n",
       "  padding-left: 0 !important;\n",
       "}\n",
       "\n",
       ".ee-open,\n",
       ".ee-shut {\n",
       "  color: var(--font-color-secondary);\n",
       "  cursor: pointer;\n",
       "  margin: 0;\n",
       "}\n",
       "\n",
       ".ee-open:hover,\n",
       ".ee-shut:hover {\n",
       "  color: var(--font-color-primary);\n",
       "}\n",
       "\n",
       ".ee-k {\n",
       "  color: var(--font-color-accent);\n",
       "  margin-right: 6px;\n",
       "}\n",
       "\n",
       ".ee-v {\n",
       "  color: var(--font-color-primary);\n",
       "}\n",
       "\n",
       ".ee-toggle {\n",
       "  display: none;\n",
       "}\n",
       "\n",
       ".ee-shut + ul {\n",
       "  display: none;\n",
       "}\n",
       "\n",
       ".ee-open + ul {\n",
       "  display: block;\n",
       "}\n",
       "\n",
       ".ee-shut::before {\n",
       "  display: inline-block;\n",
       "  content: \"▼\";\n",
       "  margin-right: 6px;\n",
       "  transform: rotate(-90deg);\n",
       "  transition: transform 0.2s;\n",
       "}\n",
       "\n",
       ".ee-open::before {\n",
       "  transform: rotate(0deg);\n",
       "  display: inline-block;\n",
       "  content: \"▼\";\n",
       "  margin-right: 6px;\n",
       "  transition: transform 0.2s;\n",
       "}\n",
       "</style><div class='ee'><ul><li><label class='ee-shut'>Image LANDSAT/LC08/C02/T1_L2/LC08_043034_20130425 (20 bands)<input type='checkbox' class='ee-toggle'></label><ul><li><span class='ee-k'>type:</span><span class='ee-v'>Image</span></li><li><span class='ee-k'>id:</span><span class='ee-v'>LANDSAT/LC08/C02/T1_L2/LC08_043034_20130425</span></li><li><span class='ee-k'>version:</span><span class='ee-v'>1629894509510334</span></li><li><label class='ee-shut'>bands: List (20 elements)<input type='checkbox' class='ee-toggle'></label><ul><li><label class='ee-shut'>0: \"SR_B1\", double, EPSG:32610, 7501x7291 px<input type='checkbox' class='ee-toggle'></label><ul><li><span class='ee-k'>id:</span><span class='ee-v'>SR_B1</span></li><li><span class='ee-k'>crs:</span><span class='ee-v'>EPSG:32610</span></li><li><label class='ee-shut'>crs_transform: [30, 0, 604785, 0, -30, 4259115]<input type='checkbox' class='ee-toggle'></label><ul><li><span class='ee-k'>0:</span><span class='ee-v'>30</span></li><li><span class='ee-k'>1:</span><span class='ee-v'>0</span></li><li><span class='ee-k'>2:</span><span class='ee-v'>604785</span></li><li><span class='ee-k'>3:</span><span class='ee-v'>0</span></li><li><span class='ee-k'>4:</span><span class='ee-v'>-30</span></li><li><span class='ee-k'>5:</span><span class='ee-v'>4259115</span></li></ul></li><li><label class='ee-shut'>data_type: double<input type='checkbox' class='ee-toggle'></label><ul><li><span class='ee-k'>type:</span><span class='ee-v'>PixelType</span></li><li><span class='ee-k'>max:</span><span class='ee-v'>1.6022125</span></li><li><span class='ee-k'>min:</span><span class='ee-v'>-0.2</span></li><li><span class='ee-k'>precision:</span><span class='ee-v'>double</span></li></ul></li><li><label class='ee-shut'>dimensions: [7501, 7291]<input type='checkbox' class='ee-toggle'></label><ul><li><span class='ee-k'>0:</span><span class='ee-v'>7501</span></li><li><span class='ee-k'>1:</span><span class='ee-v'>7291</span></li></ul></li></ul></li><li><label class='ee-shut'>1: \"SR_B2\", double, EPSG:32610, 7501x7291 px<input type='checkbox' class='ee-toggle'></label><ul><li><span class='ee-k'>id:</span><span class='ee-v'>SR_B2</span></li><li><span class='ee-k'>crs:</span><span class='ee-v'>EPSG:32610</span></li><li><label class='ee-shut'>crs_transform: [30, 0, 604785, 0, -30, 4259115]<input type='checkbox' class='ee-toggle'></label><ul><li><span class='ee-k'>0:</span><span class='ee-v'>30</span></li><li><span class='ee-k'>1:</span><span class='ee-v'>0</span></li><li><span class='ee-k'>2:</span><span class='ee-v'>604785</span></li><li><span class='ee-k'>3:</span><span class='ee-v'>0</span></li><li><span class='ee-k'>4:</span><span class='ee-v'>-30</span></li><li><span class='ee-k'>5:</span><span class='ee-v'>4259115</span></li></ul></li><li><label class='ee-shut'>data_type: double<input type='checkbox' class='ee-toggle'></label><ul><li><span class='ee-k'>type:</span><span class='ee-v'>PixelType</span></li><li><span class='ee-k'>max:</span><span class='ee-v'>1.6022125</span></li><li><span class='ee-k'>min:</span><span class='ee-v'>-0.2</span></li><li><span class='ee-k'>precision:</span><span class='ee-v'>double</span></li></ul></li><li><label class='ee-shut'>dimensions: [7501, 7291]<input type='checkbox' class='ee-toggle'></label><ul><li><span class='ee-k'>0:</span><span class='ee-v'>7501</span></li><li><span class='ee-k'>1:</span><span class='ee-v'>7291</span></li></ul></li></ul></li><li><label class='ee-shut'>2: \"SR_B3\", double, EPSG:32610, 7501x7291 px<input type='checkbox' class='ee-toggle'></label><ul><li><span class='ee-k'>id:</span><span class='ee-v'>SR_B3</span></li><li><span class='ee-k'>crs:</span><span class='ee-v'>EPSG:32610</span></li><li><label class='ee-shut'>crs_transform: [30, 0, 604785, 0, -30, 4259115]<input type='checkbox' class='ee-toggle'></label><ul><li><span class='ee-k'>0:</span><span class='ee-v'>30</span></li><li><span class='ee-k'>1:</span><span class='ee-v'>0</span></li><li><span class='ee-k'>2:</span><span class='ee-v'>604785</span></li><li><span class='ee-k'>3:</span><span class='ee-v'>0</span></li><li><span class='ee-k'>4:</span><span class='ee-v'>-30</span></li><li><span class='ee-k'>5:</span><span class='ee-v'>4259115</span></li></ul></li><li><label class='ee-shut'>data_type: double<input type='checkbox' class='ee-toggle'></label><ul><li><span class='ee-k'>type:</span><span class='ee-v'>PixelType</span></li><li><span class='ee-k'>max:</span><span class='ee-v'>1.6022125</span></li><li><span class='ee-k'>min:</span><span class='ee-v'>-0.2</span></li><li><span class='ee-k'>precision:</span><span class='ee-v'>double</span></li></ul></li><li><label class='ee-shut'>dimensions: [7501, 7291]<input type='checkbox' class='ee-toggle'></label><ul><li><span class='ee-k'>0:</span><span class='ee-v'>7501</span></li><li><span class='ee-k'>1:</span><span class='ee-v'>7291</span></li></ul></li></ul></li><li><label class='ee-shut'>3: \"SR_B4\", double, EPSG:32610, 7501x7291 px<input type='checkbox' class='ee-toggle'></label><ul><li><span class='ee-k'>id:</span><span class='ee-v'>SR_B4</span></li><li><span class='ee-k'>crs:</span><span class='ee-v'>EPSG:32610</span></li><li><label class='ee-shut'>crs_transform: [30, 0, 604785, 0, -30, 4259115]<input type='checkbox' class='ee-toggle'></label><ul><li><span class='ee-k'>0:</span><span class='ee-v'>30</span></li><li><span class='ee-k'>1:</span><span class='ee-v'>0</span></li><li><span class='ee-k'>2:</span><span class='ee-v'>604785</span></li><li><span class='ee-k'>3:</span><span class='ee-v'>0</span></li><li><span class='ee-k'>4:</span><span class='ee-v'>-30</span></li><li><span class='ee-k'>5:</span><span class='ee-v'>4259115</span></li></ul></li><li><label class='ee-shut'>data_type: double<input type='checkbox' class='ee-toggle'></label><ul><li><span class='ee-k'>type:</span><span class='ee-v'>PixelType</span></li><li><span class='ee-k'>max:</span><span class='ee-v'>1.6022125</span></li><li><span class='ee-k'>min:</span><span class='ee-v'>-0.2</span></li><li><span class='ee-k'>precision:</span><span class='ee-v'>double</span></li></ul></li><li><label class='ee-shut'>dimensions: [7501, 7291]<input type='checkbox' class='ee-toggle'></label><ul><li><span class='ee-k'>0:</span><span class='ee-v'>7501</span></li><li><span class='ee-k'>1:</span><span class='ee-v'>7291</span></li></ul></li></ul></li><li><label class='ee-shut'>4: \"SR_B5\", double, EPSG:32610, 7501x7291 px<input type='checkbox' class='ee-toggle'></label><ul><li><span class='ee-k'>id:</span><span class='ee-v'>SR_B5</span></li><li><span class='ee-k'>crs:</span><span class='ee-v'>EPSG:32610</span></li><li><label class='ee-shut'>crs_transform: [30, 0, 604785, 0, -30, 4259115]<input type='checkbox' class='ee-toggle'></label><ul><li><span class='ee-k'>0:</span><span class='ee-v'>30</span></li><li><span class='ee-k'>1:</span><span class='ee-v'>0</span></li><li><span class='ee-k'>2:</span><span class='ee-v'>604785</span></li><li><span class='ee-k'>3:</span><span class='ee-v'>0</span></li><li><span class='ee-k'>4:</span><span class='ee-v'>-30</span></li><li><span class='ee-k'>5:</span><span class='ee-v'>4259115</span></li></ul></li><li><label class='ee-shut'>data_type: double<input type='checkbox' class='ee-toggle'></label><ul><li><span class='ee-k'>type:</span><span class='ee-v'>PixelType</span></li><li><span class='ee-k'>max:</span><span class='ee-v'>1.6022125</span></li><li><span class='ee-k'>min:</span><span class='ee-v'>-0.2</span></li><li><span class='ee-k'>precision:</span><span class='ee-v'>double</span></li></ul></li><li><label class='ee-shut'>dimensions: [7501, 7291]<input type='checkbox' class='ee-toggle'></label><ul><li><span class='ee-k'>0:</span><span class='ee-v'>7501</span></li><li><span class='ee-k'>1:</span><span class='ee-v'>7291</span></li></ul></li></ul></li><li><label class='ee-shut'>5: \"SR_B6\", double, EPSG:32610, 7501x7291 px<input type='checkbox' class='ee-toggle'></label><ul><li><span class='ee-k'>id:</span><span class='ee-v'>SR_B6</span></li><li><span class='ee-k'>crs:</span><span class='ee-v'>EPSG:32610</span></li><li><label class='ee-shut'>crs_transform: [30, 0, 604785, 0, -30, 4259115]<input type='checkbox' class='ee-toggle'></label><ul><li><span class='ee-k'>0:</span><span class='ee-v'>30</span></li><li><span class='ee-k'>1:</span><span class='ee-v'>0</span></li><li><span class='ee-k'>2:</span><span class='ee-v'>604785</span></li><li><span class='ee-k'>3:</span><span class='ee-v'>0</span></li><li><span class='ee-k'>4:</span><span class='ee-v'>-30</span></li><li><span class='ee-k'>5:</span><span class='ee-v'>4259115</span></li></ul></li><li><label class='ee-shut'>data_type: double<input type='checkbox' class='ee-toggle'></label><ul><li><span class='ee-k'>type:</span><span class='ee-v'>PixelType</span></li><li><span class='ee-k'>max:</span><span class='ee-v'>1.6022125</span></li><li><span class='ee-k'>min:</span><span class='ee-v'>-0.2</span></li><li><span class='ee-k'>precision:</span><span class='ee-v'>double</span></li></ul></li><li><label class='ee-shut'>dimensions: [7501, 7291]<input type='checkbox' class='ee-toggle'></label><ul><li><span class='ee-k'>0:</span><span class='ee-v'>7501</span></li><li><span class='ee-k'>1:</span><span class='ee-v'>7291</span></li></ul></li></ul></li><li><label class='ee-shut'>6: \"SR_B7\", double, EPSG:32610, 7501x7291 px<input type='checkbox' class='ee-toggle'></label><ul><li><span class='ee-k'>id:</span><span class='ee-v'>SR_B7</span></li><li><span class='ee-k'>crs:</span><span class='ee-v'>EPSG:32610</span></li><li><label class='ee-shut'>crs_transform: [30, 0, 604785, 0, -30, 4259115]<input type='checkbox' class='ee-toggle'></label><ul><li><span class='ee-k'>0:</span><span class='ee-v'>30</span></li><li><span class='ee-k'>1:</span><span class='ee-v'>0</span></li><li><span class='ee-k'>2:</span><span class='ee-v'>604785</span></li><li><span class='ee-k'>3:</span><span class='ee-v'>0</span></li><li><span class='ee-k'>4:</span><span class='ee-v'>-30</span></li><li><span class='ee-k'>5:</span><span class='ee-v'>4259115</span></li></ul></li><li><label class='ee-shut'>data_type: double<input type='checkbox' class='ee-toggle'></label><ul><li><span class='ee-k'>type:</span><span class='ee-v'>PixelType</span></li><li><span class='ee-k'>max:</span><span class='ee-v'>1.6022125</span></li><li><span class='ee-k'>min:</span><span class='ee-v'>-0.2</span></li><li><span class='ee-k'>precision:</span><span class='ee-v'>double</span></li></ul></li><li><label class='ee-shut'>dimensions: [7501, 7291]<input type='checkbox' class='ee-toggle'></label><ul><li><span class='ee-k'>0:</span><span class='ee-v'>7501</span></li><li><span class='ee-k'>1:</span><span class='ee-v'>7291</span></li></ul></li></ul></li><li><label class='ee-shut'>7: \"SR_QA_AEROSOL\", unsigned int8, EPSG:32610, 7501x7291 px<input type='checkbox' class='ee-toggle'></label><ul><li><span class='ee-k'>id:</span><span class='ee-v'>SR_QA_AEROSOL</span></li><li><span class='ee-k'>crs:</span><span class='ee-v'>EPSG:32610</span></li><li><label class='ee-shut'>crs_transform: [30, 0, 604785, 0, -30, 4259115]<input type='checkbox' class='ee-toggle'></label><ul><li><span class='ee-k'>0:</span><span class='ee-v'>30</span></li><li><span class='ee-k'>1:</span><span class='ee-v'>0</span></li><li><span class='ee-k'>2:</span><span class='ee-v'>604785</span></li><li><span class='ee-k'>3:</span><span class='ee-v'>0</span></li><li><span class='ee-k'>4:</span><span class='ee-v'>-30</span></li><li><span class='ee-k'>5:</span><span class='ee-v'>4259115</span></li></ul></li><li><label class='ee-shut'>data_type: unsigned int8<input type='checkbox' class='ee-toggle'></label><ul><li><span class='ee-k'>type:</span><span class='ee-v'>PixelType</span></li><li><span class='ee-k'>max:</span><span class='ee-v'>255</span></li><li><span class='ee-k'>min:</span><span class='ee-v'>0</span></li><li><span class='ee-k'>precision:</span><span class='ee-v'>int</span></li></ul></li><li><label class='ee-shut'>dimensions: [7501, 7291]<input type='checkbox' class='ee-toggle'></label><ul><li><span class='ee-k'>0:</span><span class='ee-v'>7501</span></li><li><span class='ee-k'>1:</span><span class='ee-v'>7291</span></li></ul></li></ul></li><li><label class='ee-shut'>8: \"ST_B10\", double, EPSG:32610, 7501x7291 px<input type='checkbox' class='ee-toggle'></label><ul><li><span class='ee-k'>id:</span><span class='ee-v'>ST_B10</span></li><li><span class='ee-k'>crs:</span><span class='ee-v'>EPSG:32610</span></li><li><label class='ee-shut'>crs_transform: [30, 0, 604785, 0, -30, 4259115]<input type='checkbox' class='ee-toggle'></label><ul><li><span class='ee-k'>0:</span><span class='ee-v'>30</span></li><li><span class='ee-k'>1:</span><span class='ee-v'>0</span></li><li><span class='ee-k'>2:</span><span class='ee-v'>604785</span></li><li><span class='ee-k'>3:</span><span class='ee-v'>0</span></li><li><span class='ee-k'>4:</span><span class='ee-v'>-30</span></li><li><span class='ee-k'>5:</span><span class='ee-v'>4259115</span></li></ul></li><li><label class='ee-shut'>data_type: double<input type='checkbox' class='ee-toggle'></label><ul><li><span class='ee-k'>type:</span><span class='ee-v'>PixelType</span></li><li><span class='ee-k'>max:</span><span class='ee-v'>372.9999407</span></li><li><span class='ee-k'>min:</span><span class='ee-v'>149</span></li><li><span class='ee-k'>precision:</span><span class='ee-v'>double</span></li></ul></li><li><label class='ee-shut'>dimensions: [7501, 7291]<input type='checkbox' class='ee-toggle'></label><ul><li><span class='ee-k'>0:</span><span class='ee-v'>7501</span></li><li><span class='ee-k'>1:</span><span class='ee-v'>7291</span></li></ul></li></ul></li><li><label class='ee-shut'>9: \"ST_ATRAN\", signed int16, EPSG:32610, 7501x7291 px<input type='checkbox' class='ee-toggle'></label><ul><li><span class='ee-k'>id:</span><span class='ee-v'>ST_ATRAN</span></li><li><span class='ee-k'>crs:</span><span class='ee-v'>EPSG:32610</span></li><li><label class='ee-shut'>crs_transform: [30, 0, 604785, 0, -30, 4259115]<input type='checkbox' class='ee-toggle'></label><ul><li><span class='ee-k'>0:</span><span class='ee-v'>30</span></li><li><span class='ee-k'>1:</span><span class='ee-v'>0</span></li><li><span class='ee-k'>2:</span><span class='ee-v'>604785</span></li><li><span class='ee-k'>3:</span><span class='ee-v'>0</span></li><li><span class='ee-k'>4:</span><span class='ee-v'>-30</span></li><li><span class='ee-k'>5:</span><span class='ee-v'>4259115</span></li></ul></li><li><label class='ee-shut'>data_type: signed int16<input type='checkbox' class='ee-toggle'></label><ul><li><span class='ee-k'>type:</span><span class='ee-v'>PixelType</span></li><li><span class='ee-k'>max:</span><span class='ee-v'>32767</span></li><li><span class='ee-k'>min:</span><span class='ee-v'>-32768</span></li><li><span class='ee-k'>precision:</span><span class='ee-v'>int</span></li></ul></li><li><label class='ee-shut'>dimensions: [7501, 7291]<input type='checkbox' class='ee-toggle'></label><ul><li><span class='ee-k'>0:</span><span class='ee-v'>7501</span></li><li><span class='ee-k'>1:</span><span class='ee-v'>7291</span></li></ul></li></ul></li><li><label class='ee-shut'>10: \"ST_CDIST\", signed int16, EPSG:32610, 7501x7291 px<input type='checkbox' class='ee-toggle'></label><ul><li><span class='ee-k'>id:</span><span class='ee-v'>ST_CDIST</span></li><li><span class='ee-k'>crs:</span><span class='ee-v'>EPSG:32610</span></li><li><label class='ee-shut'>crs_transform: [30, 0, 604785, 0, -30, 4259115]<input type='checkbox' class='ee-toggle'></label><ul><li><span class='ee-k'>0:</span><span class='ee-v'>30</span></li><li><span class='ee-k'>1:</span><span class='ee-v'>0</span></li><li><span class='ee-k'>2:</span><span class='ee-v'>604785</span></li><li><span class='ee-k'>3:</span><span class='ee-v'>0</span></li><li><span class='ee-k'>4:</span><span class='ee-v'>-30</span></li><li><span class='ee-k'>5:</span><span class='ee-v'>4259115</span></li></ul></li><li><label class='ee-shut'>data_type: signed int16<input type='checkbox' class='ee-toggle'></label><ul><li><span class='ee-k'>type:</span><span class='ee-v'>PixelType</span></li><li><span class='ee-k'>max:</span><span class='ee-v'>32767</span></li><li><span class='ee-k'>min:</span><span class='ee-v'>-32768</span></li><li><span class='ee-k'>precision:</span><span class='ee-v'>int</span></li></ul></li><li><label class='ee-shut'>dimensions: [7501, 7291]<input type='checkbox' class='ee-toggle'></label><ul><li><span class='ee-k'>0:</span><span class='ee-v'>7501</span></li><li><span class='ee-k'>1:</span><span class='ee-v'>7291</span></li></ul></li></ul></li><li><label class='ee-shut'>11: \"ST_DRAD\", signed int16, EPSG:32610, 7501x7291 px<input type='checkbox' class='ee-toggle'></label><ul><li><span class='ee-k'>id:</span><span class='ee-v'>ST_DRAD</span></li><li><span class='ee-k'>crs:</span><span class='ee-v'>EPSG:32610</span></li><li><label class='ee-shut'>crs_transform: [30, 0, 604785, 0, -30, 4259115]<input type='checkbox' class='ee-toggle'></label><ul><li><span class='ee-k'>0:</span><span class='ee-v'>30</span></li><li><span class='ee-k'>1:</span><span class='ee-v'>0</span></li><li><span class='ee-k'>2:</span><span class='ee-v'>604785</span></li><li><span class='ee-k'>3:</span><span class='ee-v'>0</span></li><li><span class='ee-k'>4:</span><span class='ee-v'>-30</span></li><li><span class='ee-k'>5:</span><span class='ee-v'>4259115</span></li></ul></li><li><label class='ee-shut'>data_type: signed int16<input type='checkbox' class='ee-toggle'></label><ul><li><span class='ee-k'>type:</span><span class='ee-v'>PixelType</span></li><li><span class='ee-k'>max:</span><span class='ee-v'>32767</span></li><li><span class='ee-k'>min:</span><span class='ee-v'>-32768</span></li><li><span class='ee-k'>precision:</span><span class='ee-v'>int</span></li></ul></li><li><label class='ee-shut'>dimensions: [7501, 7291]<input type='checkbox' class='ee-toggle'></label><ul><li><span class='ee-k'>0:</span><span class='ee-v'>7501</span></li><li><span class='ee-k'>1:</span><span class='ee-v'>7291</span></li></ul></li></ul></li><li><label class='ee-shut'>12: \"ST_EMIS\", signed int16, EPSG:32610, 7501x7291 px<input type='checkbox' class='ee-toggle'></label><ul><li><span class='ee-k'>id:</span><span class='ee-v'>ST_EMIS</span></li><li><span class='ee-k'>crs:</span><span class='ee-v'>EPSG:32610</span></li><li><label class='ee-shut'>crs_transform: [30, 0, 604785, 0, -30, 4259115]<input type='checkbox' class='ee-toggle'></label><ul><li><span class='ee-k'>0:</span><span class='ee-v'>30</span></li><li><span class='ee-k'>1:</span><span class='ee-v'>0</span></li><li><span class='ee-k'>2:</span><span class='ee-v'>604785</span></li><li><span class='ee-k'>3:</span><span class='ee-v'>0</span></li><li><span class='ee-k'>4:</span><span class='ee-v'>-30</span></li><li><span class='ee-k'>5:</span><span class='ee-v'>4259115</span></li></ul></li><li><label class='ee-shut'>data_type: signed int16<input type='checkbox' class='ee-toggle'></label><ul><li><span class='ee-k'>type:</span><span class='ee-v'>PixelType</span></li><li><span class='ee-k'>max:</span><span class='ee-v'>32767</span></li><li><span class='ee-k'>min:</span><span class='ee-v'>-32768</span></li><li><span class='ee-k'>precision:</span><span class='ee-v'>int</span></li></ul></li><li><label class='ee-shut'>dimensions: [7501, 7291]<input type='checkbox' class='ee-toggle'></label><ul><li><span class='ee-k'>0:</span><span class='ee-v'>7501</span></li><li><span class='ee-k'>1:</span><span class='ee-v'>7291</span></li></ul></li></ul></li><li><label class='ee-shut'>13: \"ST_EMSD\", signed int16, EPSG:32610, 7501x7291 px<input type='checkbox' class='ee-toggle'></label><ul><li><span class='ee-k'>id:</span><span class='ee-v'>ST_EMSD</span></li><li><span class='ee-k'>crs:</span><span class='ee-v'>EPSG:32610</span></li><li><label class='ee-shut'>crs_transform: [30, 0, 604785, 0, -30, 4259115]<input type='checkbox' class='ee-toggle'></label><ul><li><span class='ee-k'>0:</span><span class='ee-v'>30</span></li><li><span class='ee-k'>1:</span><span class='ee-v'>0</span></li><li><span class='ee-k'>2:</span><span class='ee-v'>604785</span></li><li><span class='ee-k'>3:</span><span class='ee-v'>0</span></li><li><span class='ee-k'>4:</span><span class='ee-v'>-30</span></li><li><span class='ee-k'>5:</span><span class='ee-v'>4259115</span></li></ul></li><li><label class='ee-shut'>data_type: signed int16<input type='checkbox' class='ee-toggle'></label><ul><li><span class='ee-k'>type:</span><span class='ee-v'>PixelType</span></li><li><span class='ee-k'>max:</span><span class='ee-v'>32767</span></li><li><span class='ee-k'>min:</span><span class='ee-v'>-32768</span></li><li><span class='ee-k'>precision:</span><span class='ee-v'>int</span></li></ul></li><li><label class='ee-shut'>dimensions: [7501, 7291]<input type='checkbox' class='ee-toggle'></label><ul><li><span class='ee-k'>0:</span><span class='ee-v'>7501</span></li><li><span class='ee-k'>1:</span><span class='ee-v'>7291</span></li></ul></li></ul></li><li><label class='ee-shut'>14: \"ST_QA\", signed int16, EPSG:32610, 7501x7291 px<input type='checkbox' class='ee-toggle'></label><ul><li><span class='ee-k'>id:</span><span class='ee-v'>ST_QA</span></li><li><span class='ee-k'>crs:</span><span class='ee-v'>EPSG:32610</span></li><li><label class='ee-shut'>crs_transform: [30, 0, 604785, 0, -30, 4259115]<input type='checkbox' class='ee-toggle'></label><ul><li><span class='ee-k'>0:</span><span class='ee-v'>30</span></li><li><span class='ee-k'>1:</span><span class='ee-v'>0</span></li><li><span class='ee-k'>2:</span><span class='ee-v'>604785</span></li><li><span class='ee-k'>3:</span><span class='ee-v'>0</span></li><li><span class='ee-k'>4:</span><span class='ee-v'>-30</span></li><li><span class='ee-k'>5:</span><span class='ee-v'>4259115</span></li></ul></li><li><label class='ee-shut'>data_type: signed int16<input type='checkbox' class='ee-toggle'></label><ul><li><span class='ee-k'>type:</span><span class='ee-v'>PixelType</span></li><li><span class='ee-k'>max:</span><span class='ee-v'>32767</span></li><li><span class='ee-k'>min:</span><span class='ee-v'>-32768</span></li><li><span class='ee-k'>precision:</span><span class='ee-v'>int</span></li></ul></li><li><label class='ee-shut'>dimensions: [7501, 7291]<input type='checkbox' class='ee-toggle'></label><ul><li><span class='ee-k'>0:</span><span class='ee-v'>7501</span></li><li><span class='ee-k'>1:</span><span class='ee-v'>7291</span></li></ul></li></ul></li><li><label class='ee-shut'>15: \"ST_TRAD\", signed int16, EPSG:32610, 7501x7291 px<input type='checkbox' class='ee-toggle'></label><ul><li><span class='ee-k'>id:</span><span class='ee-v'>ST_TRAD</span></li><li><span class='ee-k'>crs:</span><span class='ee-v'>EPSG:32610</span></li><li><label class='ee-shut'>crs_transform: [30, 0, 604785, 0, -30, 4259115]<input type='checkbox' class='ee-toggle'></label><ul><li><span class='ee-k'>0:</span><span class='ee-v'>30</span></li><li><span class='ee-k'>1:</span><span class='ee-v'>0</span></li><li><span class='ee-k'>2:</span><span class='ee-v'>604785</span></li><li><span class='ee-k'>3:</span><span class='ee-v'>0</span></li><li><span class='ee-k'>4:</span><span class='ee-v'>-30</span></li><li><span class='ee-k'>5:</span><span class='ee-v'>4259115</span></li></ul></li><li><label class='ee-shut'>data_type: signed int16<input type='checkbox' class='ee-toggle'></label><ul><li><span class='ee-k'>type:</span><span class='ee-v'>PixelType</span></li><li><span class='ee-k'>max:</span><span class='ee-v'>32767</span></li><li><span class='ee-k'>min:</span><span class='ee-v'>-32768</span></li><li><span class='ee-k'>precision:</span><span class='ee-v'>int</span></li></ul></li><li><label class='ee-shut'>dimensions: [7501, 7291]<input type='checkbox' class='ee-toggle'></label><ul><li><span class='ee-k'>0:</span><span class='ee-v'>7501</span></li><li><span class='ee-k'>1:</span><span class='ee-v'>7291</span></li></ul></li></ul></li><li><label class='ee-shut'>16: \"ST_URAD\", signed int16, EPSG:32610, 7501x7291 px<input type='checkbox' class='ee-toggle'></label><ul><li><span class='ee-k'>id:</span><span class='ee-v'>ST_URAD</span></li><li><span class='ee-k'>crs:</span><span class='ee-v'>EPSG:32610</span></li><li><label class='ee-shut'>crs_transform: [30, 0, 604785, 0, -30, 4259115]<input type='checkbox' class='ee-toggle'></label><ul><li><span class='ee-k'>0:</span><span class='ee-v'>30</span></li><li><span class='ee-k'>1:</span><span class='ee-v'>0</span></li><li><span class='ee-k'>2:</span><span class='ee-v'>604785</span></li><li><span class='ee-k'>3:</span><span class='ee-v'>0</span></li><li><span class='ee-k'>4:</span><span class='ee-v'>-30</span></li><li><span class='ee-k'>5:</span><span class='ee-v'>4259115</span></li></ul></li><li><label class='ee-shut'>data_type: signed int16<input type='checkbox' class='ee-toggle'></label><ul><li><span class='ee-k'>type:</span><span class='ee-v'>PixelType</span></li><li><span class='ee-k'>max:</span><span class='ee-v'>32767</span></li><li><span class='ee-k'>min:</span><span class='ee-v'>-32768</span></li><li><span class='ee-k'>precision:</span><span class='ee-v'>int</span></li></ul></li><li><label class='ee-shut'>dimensions: [7501, 7291]<input type='checkbox' class='ee-toggle'></label><ul><li><span class='ee-k'>0:</span><span class='ee-v'>7501</span></li><li><span class='ee-k'>1:</span><span class='ee-v'>7291</span></li></ul></li></ul></li><li><label class='ee-shut'>17: \"QA_PIXEL\", unsigned int16, EPSG:32610, 7501x7291 px<input type='checkbox' class='ee-toggle'></label><ul><li><span class='ee-k'>id:</span><span class='ee-v'>QA_PIXEL</span></li><li><span class='ee-k'>crs:</span><span class='ee-v'>EPSG:32610</span></li><li><label class='ee-shut'>crs_transform: [30, 0, 604785, 0, -30, 4259115]<input type='checkbox' class='ee-toggle'></label><ul><li><span class='ee-k'>0:</span><span class='ee-v'>30</span></li><li><span class='ee-k'>1:</span><span class='ee-v'>0</span></li><li><span class='ee-k'>2:</span><span class='ee-v'>604785</span></li><li><span class='ee-k'>3:</span><span class='ee-v'>0</span></li><li><span class='ee-k'>4:</span><span class='ee-v'>-30</span></li><li><span class='ee-k'>5:</span><span class='ee-v'>4259115</span></li></ul></li><li><label class='ee-shut'>data_type: unsigned int16<input type='checkbox' class='ee-toggle'></label><ul><li><span class='ee-k'>type:</span><span class='ee-v'>PixelType</span></li><li><span class='ee-k'>max:</span><span class='ee-v'>65535</span></li><li><span class='ee-k'>min:</span><span class='ee-v'>0</span></li><li><span class='ee-k'>precision:</span><span class='ee-v'>int</span></li></ul></li><li><label class='ee-shut'>dimensions: [7501, 7291]<input type='checkbox' class='ee-toggle'></label><ul><li><span class='ee-k'>0:</span><span class='ee-v'>7501</span></li><li><span class='ee-k'>1:</span><span class='ee-v'>7291</span></li></ul></li></ul></li><li><label class='ee-shut'>18: \"QA_RADSAT\", unsigned int16, EPSG:32610, 7501x7291 px<input type='checkbox' class='ee-toggle'></label><ul><li><span class='ee-k'>id:</span><span class='ee-v'>QA_RADSAT</span></li><li><span class='ee-k'>crs:</span><span class='ee-v'>EPSG:32610</span></li><li><label class='ee-shut'>crs_transform: [30, 0, 604785, 0, -30, 4259115]<input type='checkbox' class='ee-toggle'></label><ul><li><span class='ee-k'>0:</span><span class='ee-v'>30</span></li><li><span class='ee-k'>1:</span><span class='ee-v'>0</span></li><li><span class='ee-k'>2:</span><span class='ee-v'>604785</span></li><li><span class='ee-k'>3:</span><span class='ee-v'>0</span></li><li><span class='ee-k'>4:</span><span class='ee-v'>-30</span></li><li><span class='ee-k'>5:</span><span class='ee-v'>4259115</span></li></ul></li><li><label class='ee-shut'>data_type: unsigned int16<input type='checkbox' class='ee-toggle'></label><ul><li><span class='ee-k'>type:</span><span class='ee-v'>PixelType</span></li><li><span class='ee-k'>max:</span><span class='ee-v'>65535</span></li><li><span class='ee-k'>min:</span><span class='ee-v'>0</span></li><li><span class='ee-k'>precision:</span><span class='ee-v'>int</span></li></ul></li><li><label class='ee-shut'>dimensions: [7501, 7291]<input type='checkbox' class='ee-toggle'></label><ul><li><span class='ee-k'>0:</span><span class='ee-v'>7501</span></li><li><span class='ee-k'>1:</span><span class='ee-v'>7291</span></li></ul></li></ul></li><li><label class='ee-shut'>19: \"NDVI\", float, EPSG:32610, 7501x7291 px<input type='checkbox' class='ee-toggle'></label><ul><li><span class='ee-k'>id:</span><span class='ee-v'>NDVI</span></li><li><span class='ee-k'>crs:</span><span class='ee-v'>EPSG:32610</span></li><li><label class='ee-shut'>crs_transform: [30, 0, 604785, 0, -30, 4259115]<input type='checkbox' class='ee-toggle'></label><ul><li><span class='ee-k'>0:</span><span class='ee-v'>30</span></li><li><span class='ee-k'>1:</span><span class='ee-v'>0</span></li><li><span class='ee-k'>2:</span><span class='ee-v'>604785</span></li><li><span class='ee-k'>3:</span><span class='ee-v'>0</span></li><li><span class='ee-k'>4:</span><span class='ee-v'>-30</span></li><li><span class='ee-k'>5:</span><span class='ee-v'>4259115</span></li></ul></li><li><label class='ee-shut'>data_type: float<input type='checkbox' class='ee-toggle'></label><ul><li><span class='ee-k'>type:</span><span class='ee-v'>PixelType</span></li><li><span class='ee-k'>precision:</span><span class='ee-v'>float</span></li></ul></li><li><label class='ee-shut'>dimensions: [7501, 7291]<input type='checkbox' class='ee-toggle'></label><ul><li><span class='ee-k'>0:</span><span class='ee-v'>7501</span></li><li><span class='ee-k'>1:</span><span class='ee-v'>7291</span></li></ul></li></ul></li></ul></li><li><label class='ee-shut'>properties: Object (94 properties)<input type='checkbox' class='ee-toggle'></label><ul><li><span class='ee-k'>ALGORITHM_SOURCE_SURFACE_REFLECTANCE:</span><span class='ee-v'>LaSRC_1.5.0</span></li><li><span class='ee-k'>ALGORITHM_SOURCE_SURFACE_TEMPERATURE:</span><span class='ee-v'>st_1.3.0</span></li><li><span class='ee-k'>CLOUD_COVER:</span><span class='ee-v'>1.88</span></li><li><span class='ee-k'>CLOUD_COVER_LAND:</span><span class='ee-v'>1.88</span></li><li><span class='ee-k'>COLLECTION_CATEGORY:</span><span class='ee-v'>T1</span></li><li><span class='ee-k'>COLLECTION_NUMBER:</span><span class='ee-v'>2</span></li><li><span class='ee-k'>DATA_SOURCE_AIR_TEMPERATURE:</span><span class='ee-v'>MODIS</span></li><li><span class='ee-k'>DATA_SOURCE_ELEVATION:</span><span class='ee-v'>GLS2000</span></li><li><span class='ee-k'>DATA_SOURCE_OZONE:</span><span class='ee-v'>MODIS</span></li><li><span class='ee-k'>DATA_SOURCE_PRESSURE:</span><span class='ee-v'>Calculated</span></li><li><span class='ee-k'>DATA_SOURCE_REANALYSIS:</span><span class='ee-v'>GEOS-5 FP-IT</span></li><li><span class='ee-k'>DATA_SOURCE_TIRS_STRAY_LIGHT_CORRECTION:</span><span class='ee-v'>TIRS</span></li><li><span class='ee-k'>DATA_SOURCE_WATER_VAPOR:</span><span class='ee-v'>MODIS</span></li><li><span class='ee-k'>DATE_ACQUIRED:</span><span class='ee-v'>2013-04-25</span></li><li><span class='ee-k'>DATE_PRODUCT_GENERATED:</span><span class='ee-v'>1599954313000</span></li><li><span class='ee-k'>DATUM:</span><span class='ee-v'>WGS84</span></li><li><span class='ee-k'>EARTH_SUN_DISTANCE:</span><span class='ee-v'>1.0061524</span></li><li><span class='ee-k'>ELLIPSOID:</span><span class='ee-v'>WGS84</span></li><li><span class='ee-k'>GEOMETRIC_RMSE_MODEL:</span><span class='ee-v'>5.338</span></li><li><span class='ee-k'>GEOMETRIC_RMSE_MODEL_X:</span><span class='ee-v'>3.815</span></li><li><span class='ee-k'>GEOMETRIC_RMSE_MODEL_Y:</span><span class='ee-v'>3.733</span></li><li><span class='ee-k'>GEOMETRIC_RMSE_VERIFY:</span><span class='ee-v'>2.189</span></li><li><span class='ee-k'>GRID_CELL_SIZE_REFLECTIVE:</span><span class='ee-v'>30</span></li><li><span class='ee-k'>GRID_CELL_SIZE_THERMAL:</span><span class='ee-v'>30</span></li><li><span class='ee-k'>GROUND_CONTROL_POINTS_MODEL:</span><span class='ee-v'>1063</span></li><li><span class='ee-k'>GROUND_CONTROL_POINTS_VERIFY:</span><span class='ee-v'>261</span></li><li><span class='ee-k'>GROUND_CONTROL_POINTS_VERSION:</span><span class='ee-v'>5</span></li><li><span class='ee-k'>IMAGE_QUALITY_OLI:</span><span class='ee-v'>9</span></li><li><span class='ee-k'>IMAGE_QUALITY_TIRS:</span><span class='ee-v'>9</span></li><li><span class='ee-k'>L1_DATE_PRODUCT_GENERATED:</span><span class='ee-v'>2020-09-12T23:33:52Z</span></li><li><span class='ee-k'>L1_LANDSAT_PRODUCT_ID:</span><span class='ee-v'>LC08_L1TP_043034_20130425_20200912_02_T1</span></li><li><span class='ee-k'>L1_PROCESSING_LEVEL:</span><span class='ee-v'>L1TP</span></li><li><span class='ee-k'>L1_PROCESSING_SOFTWARE_VERSION:</span><span class='ee-v'>LPGS_15.3.1c</span></li><li><span class='ee-k'>L1_REQUEST_ID:</span><span class='ee-v'>L2</span></li><li><span class='ee-k'>LANDSAT_PRODUCT_ID:</span><span class='ee-v'>LC08_L2SP_043034_20130425_20200912_02_T1</span></li><li><span class='ee-k'>LANDSAT_SCENE_ID:</span><span class='ee-v'>LC80430342013115LGN03</span></li><li><span class='ee-k'>MAP_PROJECTION:</span><span class='ee-v'>UTM</span></li><li><span class='ee-k'>NADIR_OFFNADIR:</span><span class='ee-v'>NADIR</span></li><li><span class='ee-k'>ORIENTATION:</span><span class='ee-v'>NORTH_UP</span></li><li><span class='ee-k'>PROCESSING_LEVEL:</span><span class='ee-v'>L2SP</span></li><li><span class='ee-k'>PROCESSING_SOFTWARE_VERSION:</span><span class='ee-v'>LPGS_15.3.1c</span></li><li><span class='ee-k'>REFLECTANCE_ADD_BAND_1:</span><span class='ee-v'>-0.2</span></li><li><span class='ee-k'>REFLECTANCE_ADD_BAND_2:</span><span class='ee-v'>-0.2</span></li><li><span class='ee-k'>REFLECTANCE_ADD_BAND_3:</span><span class='ee-v'>-0.2</span></li><li><span class='ee-k'>REFLECTANCE_ADD_BAND_4:</span><span class='ee-v'>-0.2</span></li><li><span class='ee-k'>REFLECTANCE_ADD_BAND_5:</span><span class='ee-v'>-0.2</span></li><li><span class='ee-k'>REFLECTANCE_ADD_BAND_6:</span><span class='ee-v'>-0.2</span></li><li><span class='ee-k'>REFLECTANCE_ADD_BAND_7:</span><span class='ee-v'>-0.2</span></li><li><span class='ee-k'>REFLECTANCE_MULT_BAND_1:</span><span class='ee-v'>2.75e-05</span></li><li><span class='ee-k'>REFLECTANCE_MULT_BAND_2:</span><span class='ee-v'>2.75e-05</span></li><li><span class='ee-k'>REFLECTANCE_MULT_BAND_3:</span><span class='ee-v'>2.75e-05</span></li><li><span class='ee-k'>REFLECTANCE_MULT_BAND_4:</span><span class='ee-v'>2.75e-05</span></li><li><span class='ee-k'>REFLECTANCE_MULT_BAND_5:</span><span class='ee-v'>2.75e-05</span></li><li><span class='ee-k'>REFLECTANCE_MULT_BAND_6:</span><span class='ee-v'>2.75e-05</span></li><li><span class='ee-k'>REFLECTANCE_MULT_BAND_7:</span><span class='ee-v'>2.75e-05</span></li><li><span class='ee-k'>REFLECTIVE_LINES:</span><span class='ee-v'>7291</span></li><li><span class='ee-k'>REFLECTIVE_SAMPLES:</span><span class='ee-v'>7501</span></li><li><span class='ee-k'>REQUEST_ID:</span><span class='ee-v'>L2</span></li><li><span class='ee-k'>ROLL_ANGLE:</span><span class='ee-v'>-0.001</span></li><li><span class='ee-k'>SATURATION_BAND_1:</span><span class='ee-v'>N</span></li><li><span class='ee-k'>SATURATION_BAND_2:</span><span class='ee-v'>N</span></li><li><span class='ee-k'>SATURATION_BAND_3:</span><span class='ee-v'>N</span></li><li><span class='ee-k'>SATURATION_BAND_4:</span><span class='ee-v'>N</span></li><li><span class='ee-k'>SATURATION_BAND_5:</span><span class='ee-v'>Y</span></li><li><span class='ee-k'>SATURATION_BAND_6:</span><span class='ee-v'>Y</span></li><li><span class='ee-k'>SATURATION_BAND_7:</span><span class='ee-v'>Y</span></li><li><span class='ee-k'>SATURATION_BAND_8:</span><span class='ee-v'>N</span></li><li><span class='ee-k'>SATURATION_BAND_9:</span><span class='ee-v'>N</span></li><li><span class='ee-k'>SCENE_CENTER_TIME:</span><span class='ee-v'>18:41:39.0246000Z</span></li><li><span class='ee-k'>SENSOR_ID:</span><span class='ee-v'>OLI_TIRS</span></li><li><span class='ee-k'>SPACECRAFT_ID:</span><span class='ee-v'>LANDSAT_8</span></li><li><span class='ee-k'>STATION_ID:</span><span class='ee-v'>LGN</span></li><li><span class='ee-k'>SUN_AZIMUTH:</span><span class='ee-v'>138.85095424</span></li><li><span class='ee-k'>SUN_ELEVATION:</span><span class='ee-v'>60.28139977</span></li><li><span class='ee-k'>TARGET_WRS_PATH:</span><span class='ee-v'>43</span></li><li><span class='ee-k'>TARGET_WRS_ROW:</span><span class='ee-v'>34</span></li><li><span class='ee-k'>TEMPERATURE_ADD_BAND_ST_B10:</span><span class='ee-v'>149</span></li><li><span class='ee-k'>TEMPERATURE_MAXIMUM_BAND_ST_B10:</span><span class='ee-v'>372.999941</span></li><li><span class='ee-k'>TEMPERATURE_MINIMUM_BAND_ST_B10:</span><span class='ee-v'>149.003418</span></li><li><span class='ee-k'>TEMPERATURE_MULT_BAND_ST_B10:</span><span class='ee-v'>0.00341802</span></li><li><span class='ee-k'>THERMAL_LINES:</span><span class='ee-v'>7291</span></li><li><span class='ee-k'>THERMAL_SAMPLES:</span><span class='ee-v'>7501</span></li><li><span class='ee-k'>TIRS_SSM_MODEL:</span><span class='ee-v'>ACTUAL</span></li><li><span class='ee-k'>TIRS_SSM_POSITION_STATUS:</span><span class='ee-v'>NOMINAL</span></li><li><span class='ee-k'>TRUNCATION_OLI:</span><span class='ee-v'>UPPER</span></li><li><span class='ee-k'>UTM_ZONE:</span><span class='ee-v'>10</span></li><li><span class='ee-k'>WRS_PATH:</span><span class='ee-v'>43</span></li><li><span class='ee-k'>WRS_ROW:</span><span class='ee-v'>34</span></li><li><span class='ee-k'>WRS_TYPE:</span><span class='ee-v'>2</span></li><li><span class='ee-k'>system:asset_size:</span><span class='ee-v'>923692083</span></li><li><label class='ee-shut'>system:footprint: LinearRing (21 vertices)<input type='checkbox' class='ee-toggle'></label><ul><li><span class='ee-k'>type:</span><span class='ee-v'>LinearRing</span></li><li><label class='ee-shut'>coordinates: List (21 elements)<input type='checkbox' class='ee-toggle'></label><ul><li><label class='ee-shut'>0: [-121.33505369721036, 38.46176992940152]<input type='checkbox' class='ee-toggle'></label><ul><li><span class='ee-k'>0:</span><span class='ee-v'>-121.33505369721036</span></li><li><span class='ee-k'>1:</span><span class='ee-v'>38.46176992940152</span></li></ul></li><li><label class='ee-shut'>1: [-121.3558362325698, 38.46546867484676]<input type='checkbox' class='ee-toggle'></label><ul><li><span class='ee-k'>0:</span><span class='ee-v'>-121.3558362325698</span></li><li><span class='ee-k'>1:</span><span class='ee-v'>38.46546867484676</span></li></ul></li><li><label class='ee-shut'>2: [-121.586036806864, 37.666474795303756]<input type='checkbox' class='ee-toggle'></label><ul><li><span class='ee-k'>0:</span><span class='ee-v'>-121.586036806864</span></li><li><span class='ee-k'>1:</span><span class='ee-v'>37.666474795303756</span></li></ul></li><li><label class='ee-shut'>3: [-121.81163576981429, 36.86488880106467]<input type='checkbox' class='ee-toggle'></label><ul><li><span class='ee-k'>0:</span><span class='ee-v'>-121.81163576981429</span></li><li><span class='ee-k'>1:</span><span class='ee-v'>36.86488880106467</span></li></ul></li><li><label class='ee-shut'>4: [-121.81165454079863, 36.8636754756665]<input type='checkbox' class='ee-toggle'></label><ul><li><span class='ee-k'>0:</span><span class='ee-v'>-121.81165454079863</span></li><li><span class='ee-k'>1:</span><span class='ee-v'>36.8636754756665</span></li></ul></li><li><label class='ee-shut'>5: [-121.78487825432727, 36.85878099827164]<input type='checkbox' class='ee-toggle'></label><ul><li><span class='ee-k'>0:</span><span class='ee-v'>-121.78487825432727</span></li><li><span class='ee-k'>1:</span><span class='ee-v'>36.85878099827164</span></li></ul></li><li><label class='ee-shut'>6: [-121.40103784268543, 36.787985835331476]<input type='checkbox' class='ee-toggle'></label><ul><li><span class='ee-k'>0:</span><span class='ee-v'>-121.40103784268543</span></li><li><span class='ee-k'>1:</span><span class='ee-v'>36.787985835331476</span></li></ul></li><li><label class='ee-shut'>7: [-119.80202962908605, 36.478372061401096]<input type='checkbox' class='ee-toggle'></label><ul><li><span class='ee-k'>0:</span><span class='ee-v'>-119.80202962908605</span></li><li><span class='ee-k'>1:</span><span class='ee-v'>36.478372061401096</span></li></ul></li><li><label class='ee-shut'>8: [-119.78280081826105, 36.47452334414627]<input type='checkbox' class='ee-toggle'></label><ul><li><span class='ee-k'>0:</span><span class='ee-v'>-119.78280081826105</span></li><li><span class='ee-k'>1:</span><span class='ee-v'>36.47452334414627</span></li></ul></li><li><label class='ee-shut'>9: [-119.78187183909249, 36.4771482568197]<input type='checkbox' class='ee-toggle'></label><ul><li><span class='ee-k'>0:</span><span class='ee-v'>-119.78187183909249</span></li><li><span class='ee-k'>1:</span><span class='ee-v'>36.4771482568197</span></li></ul></li><li><label class='ee-shut'>10: [-119.7625773362403, 36.53996129370961]<input type='checkbox' class='ee-toggle'></label><ul><li><span class='ee-k'>0:</span><span class='ee-v'>-119.7625773362403</span></li><li><span class='ee-k'>1:</span><span class='ee-v'>36.53996129370961</span></li></ul></li><li><label class='ee-shut'>11: [-119.71478648573375, 36.695168981303794]<input type='checkbox' class='ee-toggle'></label><ul><li><span class='ee-k'>0:</span><span class='ee-v'>-119.71478648573375</span></li><li><span class='ee-k'>1:</span><span class='ee-v'>36.695168981303794</span></li></ul></li><li><label class='ee-shut'>12: [-119.6874867831839, 36.78361583376816]<input type='checkbox' class='ee-toggle'></label><ul><li><span class='ee-k'>0:</span><span class='ee-v'>-119.6874867831839</span></li><li><span class='ee-k'>1:</span><span class='ee-v'>36.78361583376816</span></li></ul></li><li><label class='ee-shut'>13: [-119.65541251633749, 36.887327445713225]<input type='checkbox' class='ee-toggle'></label><ul><li><span class='ee-k'>0:</span><span class='ee-v'>-119.65541251633749</span></li><li><span class='ee-k'>1:</span><span class='ee-v'>36.887327445713225</span></li></ul></li><li><label class='ee-shut'>14: [-119.63501539401123, 36.95324625148282]<input type='checkbox' class='ee-toggle'></label><ul><li><span class='ee-k'>0:</span><span class='ee-v'>-119.63501539401123</span></li><li><span class='ee-k'>1:</span><span class='ee-v'>36.95324625148282</span></li></ul></li><li><label class='ee-shut'>15: [-119.59803968529475, 37.07247559305706]<input type='checkbox' class='ee-toggle'></label><ul><li><span class='ee-k'>0:</span><span class='ee-v'>-119.59803968529475</span></li><li><span class='ee-k'>1:</span><span class='ee-v'>37.07247559305706</span></li></ul></li><li><label class='ee-shut'>16: [-119.44394899460099, 37.573238210684394]<input type='checkbox' class='ee-toggle'></label><ul><li><span class='ee-k'>0:</span><span class='ee-v'>-119.44394899460099</span></li><li><span class='ee-k'>1:</span><span class='ee-v'>37.573238210684394</span></li></ul></li><li><label class='ee-shut'>17: [-119.28710521909974, 38.07497596319536]<input type='checkbox' class='ee-toggle'></label><ul><li><span class='ee-k'>0:</span><span class='ee-v'>-119.28710521909974</span></li><li><span class='ee-k'>1:</span><span class='ee-v'>38.07497596319536</span></li></ul></li><li><label class='ee-shut'>18: [-119.28704378815999, 38.07618853485554]<input type='checkbox' class='ee-toggle'></label><ul><li><span class='ee-k'>0:</span><span class='ee-v'>-119.28704378815999</span></li><li><span class='ee-k'>1:</span><span class='ee-v'>38.07618853485554</span></li></ul></li><li><label class='ee-shut'>19: [-119.42479601293059, 38.10336959400444]<input type='checkbox' class='ee-toggle'></label><ul><li><span class='ee-k'>0:</span><span class='ee-v'>-119.42479601293059</span></li><li><span class='ee-k'>1:</span><span class='ee-v'>38.10336959400444</span></li></ul></li><li><label class='ee-shut'>20: [-121.33505369721036, 38.46176992940152]<input type='checkbox' class='ee-toggle'></label><ul><li><span class='ee-k'>0:</span><span class='ee-v'>-121.33505369721036</span></li><li><span class='ee-k'>1:</span><span class='ee-v'>38.46176992940152</span></li></ul></li></ul></li></ul></li><li><span class='ee-k'>system:index:</span><span class='ee-v'>LC08_043034_20130425</span></li><li><span class='ee-k'>system:time_end:</span><span class='ee-v'>1366915299024</span></li><li><span class='ee-k'>system:time_start:</span><span class='ee-v'>1366915299024</span></li></ul></li></ul></li></ul></div><script>function toggleHeader() {\n",
       "    const parent = this.parentElement;\n",
       "    parent.className = parent.className === \"ee-open\" ? \"ee-shut\" : \"ee-open\";\n",
       "}\n",
       "\n",
       "for (let c of document.getElementsByClassName(\"ee-toggle\")) {\n",
       "    c.onclick = toggleHeader;\n",
       "}</script></div>"
      ],
      "text/plain": [
       "<ee.image.Image at 0x7f80f97f8f50>"
      ]
     },
     "execution_count": 80,
     "metadata": {},
     "output_type": "execute_result"
    }
   ],
   "source": [
    "dataset.first()"
   ]
  },
  {
   "cell_type": "code",
   "execution_count": 81,
   "metadata": {},
   "outputs": [
    {
     "data": {
      "text/html": [
       "\n",
       "            <style>\n",
       "                .geemap-dark {\n",
       "                    --jp-widgets-color: white;\n",
       "                    --jp-widgets-label-color: white;\n",
       "                    --jp-ui-font-color1: white;\n",
       "                    --jp-layout-color2: #454545;\n",
       "                    background-color: #383838;\n",
       "                }\n",
       "\n",
       "                .geemap-dark .jupyter-button {\n",
       "                    --jp-layout-color3: #383838;\n",
       "                }\n",
       "\n",
       "                .geemap-colab {\n",
       "                    background-color: var(--colab-primary-surface-color, white);\n",
       "                }\n",
       "\n",
       "                .geemap-colab .jupyter-button {\n",
       "                    --jp-layout-color3: var(--colab-primary-surface-color, white);\n",
       "                }\n",
       "            </style>\n",
       "            "
      ],
      "text/plain": [
       "<IPython.core.display.HTML object>"
      ]
     },
     "metadata": {},
     "output_type": "display_data"
    }
   ],
   "source": [
    "dataset = dataset.map(geeft._add_time)"
   ]
  },
  {
   "cell_type": "code",
   "execution_count": 82,
   "metadata": {},
   "outputs": [
    {
     "data": {
      "text/html": [
       "\n",
       "            <style>\n",
       "                .geemap-dark {\n",
       "                    --jp-widgets-color: white;\n",
       "                    --jp-widgets-label-color: white;\n",
       "                    --jp-ui-font-color1: white;\n",
       "                    --jp-layout-color2: #454545;\n",
       "                    background-color: #383838;\n",
       "                }\n",
       "\n",
       "                .geemap-dark .jupyter-button {\n",
       "                    --jp-layout-color3: #383838;\n",
       "                }\n",
       "\n",
       "                .geemap-colab {\n",
       "                    background-color: var(--colab-primary-surface-color, white);\n",
       "                }\n",
       "\n",
       "                .geemap-colab .jupyter-button {\n",
       "                    --jp-layout-color3: var(--colab-primary-surface-color, white);\n",
       "                }\n",
       "            </style>\n",
       "            "
      ],
      "text/plain": [
       "<IPython.core.display.HTML object>"
      ]
     },
     "metadata": {},
     "output_type": "display_data"
    },
    {
     "data": {
      "text/html": [
       "<div><style>:root {\n",
       "  --font-color-primary: var(--jp-content-font-color0, rgba(0, 0, 0, 1));\n",
       "  --font-color-secondary: var(--jp-content-font-color2, rgba(0, 0, 0, 0.6));\n",
       "  --font-color-accent: rgba(123, 31, 162, 1);\n",
       "  --border-color: var(--jp-border-color2, #e0e0e0);\n",
       "  --background-color: var(--jp-layout-color0, white);\n",
       "  --background-color-row-even: var(--jp-layout-color1, white);\n",
       "  --background-color-row-odd: var(--jp-layout-color2, #eeeeee);\n",
       "}\n",
       "\n",
       "html[theme=\"dark\"],\n",
       "body[data-theme=\"dark\"],\n",
       "body.vscode-dark {\n",
       "  --font-color-primary: rgba(255, 255, 255, 1);\n",
       "  --font-color-secondary: rgba(255, 255, 255, 0.6);\n",
       "  --font-color-accent: rgb(173, 132, 190);\n",
       "  --border-color: #2e2e2e;\n",
       "  --background-color: #111111;\n",
       "  --background-color-row-even: #111111;\n",
       "  --background-color-row-odd: #313131;\n",
       "}\n",
       "\n",
       ".ee {\n",
       "  padding: 1em;\n",
       "  line-height: 1.5em;\n",
       "  min-width: 300px;\n",
       "  max-width: 1200px;\n",
       "  overflow-y: scroll;\n",
       "  max-height: 600px;\n",
       "  border: 1px solid var(--border-color);\n",
       "  font-family: monospace;\n",
       "}\n",
       "\n",
       ".ee li {\n",
       "  list-style-type: none;\n",
       "}\n",
       "\n",
       ".ee ul {\n",
       "  padding-left: 1.5em !important;\n",
       "  margin: 0;\n",
       "}\n",
       "\n",
       ".ee > ul {\n",
       "  padding-left: 0 !important;\n",
       "}\n",
       "\n",
       ".ee-open,\n",
       ".ee-shut {\n",
       "  color: var(--font-color-secondary);\n",
       "  cursor: pointer;\n",
       "  margin: 0;\n",
       "}\n",
       "\n",
       ".ee-open:hover,\n",
       ".ee-shut:hover {\n",
       "  color: var(--font-color-primary);\n",
       "}\n",
       "\n",
       ".ee-k {\n",
       "  color: var(--font-color-accent);\n",
       "  margin-right: 6px;\n",
       "}\n",
       "\n",
       ".ee-v {\n",
       "  color: var(--font-color-primary);\n",
       "}\n",
       "\n",
       ".ee-toggle {\n",
       "  display: none;\n",
       "}\n",
       "\n",
       ".ee-shut + ul {\n",
       "  display: none;\n",
       "}\n",
       "\n",
       ".ee-open + ul {\n",
       "  display: block;\n",
       "}\n",
       "\n",
       ".ee-shut::before {\n",
       "  display: inline-block;\n",
       "  content: \"▼\";\n",
       "  margin-right: 6px;\n",
       "  transform: rotate(-90deg);\n",
       "  transition: transform 0.2s;\n",
       "}\n",
       "\n",
       ".ee-open::before {\n",
       "  transform: rotate(0deg);\n",
       "  display: inline-block;\n",
       "  content: \"▼\";\n",
       "  margin-right: 6px;\n",
       "  transition: transform 0.2s;\n",
       "}\n",
       "</style><div class='ee'><ul><li><label class='ee-shut'>Image LANDSAT/LC08/C02/T1_L2/LC08_043034_20130425 (21 bands)<input type='checkbox' class='ee-toggle'></label><ul><li><span class='ee-k'>type:</span><span class='ee-v'>Image</span></li><li><span class='ee-k'>id:</span><span class='ee-v'>LANDSAT/LC08/C02/T1_L2/LC08_043034_20130425</span></li><li><span class='ee-k'>version:</span><span class='ee-v'>1629894509510334</span></li><li><label class='ee-shut'>bands: List (21 elements)<input type='checkbox' class='ee-toggle'></label><ul><li><label class='ee-shut'>0: \"SR_B1\", double, EPSG:32610, 7501x7291 px<input type='checkbox' class='ee-toggle'></label><ul><li><span class='ee-k'>id:</span><span class='ee-v'>SR_B1</span></li><li><span class='ee-k'>crs:</span><span class='ee-v'>EPSG:32610</span></li><li><label class='ee-shut'>crs_transform: [30, 0, 604785, 0, -30, 4259115]<input type='checkbox' class='ee-toggle'></label><ul><li><span class='ee-k'>0:</span><span class='ee-v'>30</span></li><li><span class='ee-k'>1:</span><span class='ee-v'>0</span></li><li><span class='ee-k'>2:</span><span class='ee-v'>604785</span></li><li><span class='ee-k'>3:</span><span class='ee-v'>0</span></li><li><span class='ee-k'>4:</span><span class='ee-v'>-30</span></li><li><span class='ee-k'>5:</span><span class='ee-v'>4259115</span></li></ul></li><li><label class='ee-shut'>data_type: double<input type='checkbox' class='ee-toggle'></label><ul><li><span class='ee-k'>type:</span><span class='ee-v'>PixelType</span></li><li><span class='ee-k'>max:</span><span class='ee-v'>1.6022125</span></li><li><span class='ee-k'>min:</span><span class='ee-v'>-0.2</span></li><li><span class='ee-k'>precision:</span><span class='ee-v'>double</span></li></ul></li><li><label class='ee-shut'>dimensions: [7501, 7291]<input type='checkbox' class='ee-toggle'></label><ul><li><span class='ee-k'>0:</span><span class='ee-v'>7501</span></li><li><span class='ee-k'>1:</span><span class='ee-v'>7291</span></li></ul></li></ul></li><li><label class='ee-shut'>1: \"SR_B2\", double, EPSG:32610, 7501x7291 px<input type='checkbox' class='ee-toggle'></label><ul><li><span class='ee-k'>id:</span><span class='ee-v'>SR_B2</span></li><li><span class='ee-k'>crs:</span><span class='ee-v'>EPSG:32610</span></li><li><label class='ee-shut'>crs_transform: [30, 0, 604785, 0, -30, 4259115]<input type='checkbox' class='ee-toggle'></label><ul><li><span class='ee-k'>0:</span><span class='ee-v'>30</span></li><li><span class='ee-k'>1:</span><span class='ee-v'>0</span></li><li><span class='ee-k'>2:</span><span class='ee-v'>604785</span></li><li><span class='ee-k'>3:</span><span class='ee-v'>0</span></li><li><span class='ee-k'>4:</span><span class='ee-v'>-30</span></li><li><span class='ee-k'>5:</span><span class='ee-v'>4259115</span></li></ul></li><li><label class='ee-shut'>data_type: double<input type='checkbox' class='ee-toggle'></label><ul><li><span class='ee-k'>type:</span><span class='ee-v'>PixelType</span></li><li><span class='ee-k'>max:</span><span class='ee-v'>1.6022125</span></li><li><span class='ee-k'>min:</span><span class='ee-v'>-0.2</span></li><li><span class='ee-k'>precision:</span><span class='ee-v'>double</span></li></ul></li><li><label class='ee-shut'>dimensions: [7501, 7291]<input type='checkbox' class='ee-toggle'></label><ul><li><span class='ee-k'>0:</span><span class='ee-v'>7501</span></li><li><span class='ee-k'>1:</span><span class='ee-v'>7291</span></li></ul></li></ul></li><li><label class='ee-shut'>2: \"SR_B3\", double, EPSG:32610, 7501x7291 px<input type='checkbox' class='ee-toggle'></label><ul><li><span class='ee-k'>id:</span><span class='ee-v'>SR_B3</span></li><li><span class='ee-k'>crs:</span><span class='ee-v'>EPSG:32610</span></li><li><label class='ee-shut'>crs_transform: [30, 0, 604785, 0, -30, 4259115]<input type='checkbox' class='ee-toggle'></label><ul><li><span class='ee-k'>0:</span><span class='ee-v'>30</span></li><li><span class='ee-k'>1:</span><span class='ee-v'>0</span></li><li><span class='ee-k'>2:</span><span class='ee-v'>604785</span></li><li><span class='ee-k'>3:</span><span class='ee-v'>0</span></li><li><span class='ee-k'>4:</span><span class='ee-v'>-30</span></li><li><span class='ee-k'>5:</span><span class='ee-v'>4259115</span></li></ul></li><li><label class='ee-shut'>data_type: double<input type='checkbox' class='ee-toggle'></label><ul><li><span class='ee-k'>type:</span><span class='ee-v'>PixelType</span></li><li><span class='ee-k'>max:</span><span class='ee-v'>1.6022125</span></li><li><span class='ee-k'>min:</span><span class='ee-v'>-0.2</span></li><li><span class='ee-k'>precision:</span><span class='ee-v'>double</span></li></ul></li><li><label class='ee-shut'>dimensions: [7501, 7291]<input type='checkbox' class='ee-toggle'></label><ul><li><span class='ee-k'>0:</span><span class='ee-v'>7501</span></li><li><span class='ee-k'>1:</span><span class='ee-v'>7291</span></li></ul></li></ul></li><li><label class='ee-shut'>3: \"SR_B4\", double, EPSG:32610, 7501x7291 px<input type='checkbox' class='ee-toggle'></label><ul><li><span class='ee-k'>id:</span><span class='ee-v'>SR_B4</span></li><li><span class='ee-k'>crs:</span><span class='ee-v'>EPSG:32610</span></li><li><label class='ee-shut'>crs_transform: [30, 0, 604785, 0, -30, 4259115]<input type='checkbox' class='ee-toggle'></label><ul><li><span class='ee-k'>0:</span><span class='ee-v'>30</span></li><li><span class='ee-k'>1:</span><span class='ee-v'>0</span></li><li><span class='ee-k'>2:</span><span class='ee-v'>604785</span></li><li><span class='ee-k'>3:</span><span class='ee-v'>0</span></li><li><span class='ee-k'>4:</span><span class='ee-v'>-30</span></li><li><span class='ee-k'>5:</span><span class='ee-v'>4259115</span></li></ul></li><li><label class='ee-shut'>data_type: double<input type='checkbox' class='ee-toggle'></label><ul><li><span class='ee-k'>type:</span><span class='ee-v'>PixelType</span></li><li><span class='ee-k'>max:</span><span class='ee-v'>1.6022125</span></li><li><span class='ee-k'>min:</span><span class='ee-v'>-0.2</span></li><li><span class='ee-k'>precision:</span><span class='ee-v'>double</span></li></ul></li><li><label class='ee-shut'>dimensions: [7501, 7291]<input type='checkbox' class='ee-toggle'></label><ul><li><span class='ee-k'>0:</span><span class='ee-v'>7501</span></li><li><span class='ee-k'>1:</span><span class='ee-v'>7291</span></li></ul></li></ul></li><li><label class='ee-shut'>4: \"SR_B5\", double, EPSG:32610, 7501x7291 px<input type='checkbox' class='ee-toggle'></label><ul><li><span class='ee-k'>id:</span><span class='ee-v'>SR_B5</span></li><li><span class='ee-k'>crs:</span><span class='ee-v'>EPSG:32610</span></li><li><label class='ee-shut'>crs_transform: [30, 0, 604785, 0, -30, 4259115]<input type='checkbox' class='ee-toggle'></label><ul><li><span class='ee-k'>0:</span><span class='ee-v'>30</span></li><li><span class='ee-k'>1:</span><span class='ee-v'>0</span></li><li><span class='ee-k'>2:</span><span class='ee-v'>604785</span></li><li><span class='ee-k'>3:</span><span class='ee-v'>0</span></li><li><span class='ee-k'>4:</span><span class='ee-v'>-30</span></li><li><span class='ee-k'>5:</span><span class='ee-v'>4259115</span></li></ul></li><li><label class='ee-shut'>data_type: double<input type='checkbox' class='ee-toggle'></label><ul><li><span class='ee-k'>type:</span><span class='ee-v'>PixelType</span></li><li><span class='ee-k'>max:</span><span class='ee-v'>1.6022125</span></li><li><span class='ee-k'>min:</span><span class='ee-v'>-0.2</span></li><li><span class='ee-k'>precision:</span><span class='ee-v'>double</span></li></ul></li><li><label class='ee-shut'>dimensions: [7501, 7291]<input type='checkbox' class='ee-toggle'></label><ul><li><span class='ee-k'>0:</span><span class='ee-v'>7501</span></li><li><span class='ee-k'>1:</span><span class='ee-v'>7291</span></li></ul></li></ul></li><li><label class='ee-shut'>5: \"SR_B6\", double, EPSG:32610, 7501x7291 px<input type='checkbox' class='ee-toggle'></label><ul><li><span class='ee-k'>id:</span><span class='ee-v'>SR_B6</span></li><li><span class='ee-k'>crs:</span><span class='ee-v'>EPSG:32610</span></li><li><label class='ee-shut'>crs_transform: [30, 0, 604785, 0, -30, 4259115]<input type='checkbox' class='ee-toggle'></label><ul><li><span class='ee-k'>0:</span><span class='ee-v'>30</span></li><li><span class='ee-k'>1:</span><span class='ee-v'>0</span></li><li><span class='ee-k'>2:</span><span class='ee-v'>604785</span></li><li><span class='ee-k'>3:</span><span class='ee-v'>0</span></li><li><span class='ee-k'>4:</span><span class='ee-v'>-30</span></li><li><span class='ee-k'>5:</span><span class='ee-v'>4259115</span></li></ul></li><li><label class='ee-shut'>data_type: double<input type='checkbox' class='ee-toggle'></label><ul><li><span class='ee-k'>type:</span><span class='ee-v'>PixelType</span></li><li><span class='ee-k'>max:</span><span class='ee-v'>1.6022125</span></li><li><span class='ee-k'>min:</span><span class='ee-v'>-0.2</span></li><li><span class='ee-k'>precision:</span><span class='ee-v'>double</span></li></ul></li><li><label class='ee-shut'>dimensions: [7501, 7291]<input type='checkbox' class='ee-toggle'></label><ul><li><span class='ee-k'>0:</span><span class='ee-v'>7501</span></li><li><span class='ee-k'>1:</span><span class='ee-v'>7291</span></li></ul></li></ul></li><li><label class='ee-shut'>6: \"SR_B7\", double, EPSG:32610, 7501x7291 px<input type='checkbox' class='ee-toggle'></label><ul><li><span class='ee-k'>id:</span><span class='ee-v'>SR_B7</span></li><li><span class='ee-k'>crs:</span><span class='ee-v'>EPSG:32610</span></li><li><label class='ee-shut'>crs_transform: [30, 0, 604785, 0, -30, 4259115]<input type='checkbox' class='ee-toggle'></label><ul><li><span class='ee-k'>0:</span><span class='ee-v'>30</span></li><li><span class='ee-k'>1:</span><span class='ee-v'>0</span></li><li><span class='ee-k'>2:</span><span class='ee-v'>604785</span></li><li><span class='ee-k'>3:</span><span class='ee-v'>0</span></li><li><span class='ee-k'>4:</span><span class='ee-v'>-30</span></li><li><span class='ee-k'>5:</span><span class='ee-v'>4259115</span></li></ul></li><li><label class='ee-shut'>data_type: double<input type='checkbox' class='ee-toggle'></label><ul><li><span class='ee-k'>type:</span><span class='ee-v'>PixelType</span></li><li><span class='ee-k'>max:</span><span class='ee-v'>1.6022125</span></li><li><span class='ee-k'>min:</span><span class='ee-v'>-0.2</span></li><li><span class='ee-k'>precision:</span><span class='ee-v'>double</span></li></ul></li><li><label class='ee-shut'>dimensions: [7501, 7291]<input type='checkbox' class='ee-toggle'></label><ul><li><span class='ee-k'>0:</span><span class='ee-v'>7501</span></li><li><span class='ee-k'>1:</span><span class='ee-v'>7291</span></li></ul></li></ul></li><li><label class='ee-shut'>7: \"SR_QA_AEROSOL\", unsigned int8, EPSG:32610, 7501x7291 px<input type='checkbox' class='ee-toggle'></label><ul><li><span class='ee-k'>id:</span><span class='ee-v'>SR_QA_AEROSOL</span></li><li><span class='ee-k'>crs:</span><span class='ee-v'>EPSG:32610</span></li><li><label class='ee-shut'>crs_transform: [30, 0, 604785, 0, -30, 4259115]<input type='checkbox' class='ee-toggle'></label><ul><li><span class='ee-k'>0:</span><span class='ee-v'>30</span></li><li><span class='ee-k'>1:</span><span class='ee-v'>0</span></li><li><span class='ee-k'>2:</span><span class='ee-v'>604785</span></li><li><span class='ee-k'>3:</span><span class='ee-v'>0</span></li><li><span class='ee-k'>4:</span><span class='ee-v'>-30</span></li><li><span class='ee-k'>5:</span><span class='ee-v'>4259115</span></li></ul></li><li><label class='ee-shut'>data_type: unsigned int8<input type='checkbox' class='ee-toggle'></label><ul><li><span class='ee-k'>type:</span><span class='ee-v'>PixelType</span></li><li><span class='ee-k'>max:</span><span class='ee-v'>255</span></li><li><span class='ee-k'>min:</span><span class='ee-v'>0</span></li><li><span class='ee-k'>precision:</span><span class='ee-v'>int</span></li></ul></li><li><label class='ee-shut'>dimensions: [7501, 7291]<input type='checkbox' class='ee-toggle'></label><ul><li><span class='ee-k'>0:</span><span class='ee-v'>7501</span></li><li><span class='ee-k'>1:</span><span class='ee-v'>7291</span></li></ul></li></ul></li><li><label class='ee-shut'>8: \"ST_B10\", double, EPSG:32610, 7501x7291 px<input type='checkbox' class='ee-toggle'></label><ul><li><span class='ee-k'>id:</span><span class='ee-v'>ST_B10</span></li><li><span class='ee-k'>crs:</span><span class='ee-v'>EPSG:32610</span></li><li><label class='ee-shut'>crs_transform: [30, 0, 604785, 0, -30, 4259115]<input type='checkbox' class='ee-toggle'></label><ul><li><span class='ee-k'>0:</span><span class='ee-v'>30</span></li><li><span class='ee-k'>1:</span><span class='ee-v'>0</span></li><li><span class='ee-k'>2:</span><span class='ee-v'>604785</span></li><li><span class='ee-k'>3:</span><span class='ee-v'>0</span></li><li><span class='ee-k'>4:</span><span class='ee-v'>-30</span></li><li><span class='ee-k'>5:</span><span class='ee-v'>4259115</span></li></ul></li><li><label class='ee-shut'>data_type: double<input type='checkbox' class='ee-toggle'></label><ul><li><span class='ee-k'>type:</span><span class='ee-v'>PixelType</span></li><li><span class='ee-k'>max:</span><span class='ee-v'>372.9999407</span></li><li><span class='ee-k'>min:</span><span class='ee-v'>149</span></li><li><span class='ee-k'>precision:</span><span class='ee-v'>double</span></li></ul></li><li><label class='ee-shut'>dimensions: [7501, 7291]<input type='checkbox' class='ee-toggle'></label><ul><li><span class='ee-k'>0:</span><span class='ee-v'>7501</span></li><li><span class='ee-k'>1:</span><span class='ee-v'>7291</span></li></ul></li></ul></li><li><label class='ee-shut'>9: \"ST_ATRAN\", signed int16, EPSG:32610, 7501x7291 px<input type='checkbox' class='ee-toggle'></label><ul><li><span class='ee-k'>id:</span><span class='ee-v'>ST_ATRAN</span></li><li><span class='ee-k'>crs:</span><span class='ee-v'>EPSG:32610</span></li><li><label class='ee-shut'>crs_transform: [30, 0, 604785, 0, -30, 4259115]<input type='checkbox' class='ee-toggle'></label><ul><li><span class='ee-k'>0:</span><span class='ee-v'>30</span></li><li><span class='ee-k'>1:</span><span class='ee-v'>0</span></li><li><span class='ee-k'>2:</span><span class='ee-v'>604785</span></li><li><span class='ee-k'>3:</span><span class='ee-v'>0</span></li><li><span class='ee-k'>4:</span><span class='ee-v'>-30</span></li><li><span class='ee-k'>5:</span><span class='ee-v'>4259115</span></li></ul></li><li><label class='ee-shut'>data_type: signed int16<input type='checkbox' class='ee-toggle'></label><ul><li><span class='ee-k'>type:</span><span class='ee-v'>PixelType</span></li><li><span class='ee-k'>max:</span><span class='ee-v'>32767</span></li><li><span class='ee-k'>min:</span><span class='ee-v'>-32768</span></li><li><span class='ee-k'>precision:</span><span class='ee-v'>int</span></li></ul></li><li><label class='ee-shut'>dimensions: [7501, 7291]<input type='checkbox' class='ee-toggle'></label><ul><li><span class='ee-k'>0:</span><span class='ee-v'>7501</span></li><li><span class='ee-k'>1:</span><span class='ee-v'>7291</span></li></ul></li></ul></li><li><label class='ee-shut'>10: \"ST_CDIST\", signed int16, EPSG:32610, 7501x7291 px<input type='checkbox' class='ee-toggle'></label><ul><li><span class='ee-k'>id:</span><span class='ee-v'>ST_CDIST</span></li><li><span class='ee-k'>crs:</span><span class='ee-v'>EPSG:32610</span></li><li><label class='ee-shut'>crs_transform: [30, 0, 604785, 0, -30, 4259115]<input type='checkbox' class='ee-toggle'></label><ul><li><span class='ee-k'>0:</span><span class='ee-v'>30</span></li><li><span class='ee-k'>1:</span><span class='ee-v'>0</span></li><li><span class='ee-k'>2:</span><span class='ee-v'>604785</span></li><li><span class='ee-k'>3:</span><span class='ee-v'>0</span></li><li><span class='ee-k'>4:</span><span class='ee-v'>-30</span></li><li><span class='ee-k'>5:</span><span class='ee-v'>4259115</span></li></ul></li><li><label class='ee-shut'>data_type: signed int16<input type='checkbox' class='ee-toggle'></label><ul><li><span class='ee-k'>type:</span><span class='ee-v'>PixelType</span></li><li><span class='ee-k'>max:</span><span class='ee-v'>32767</span></li><li><span class='ee-k'>min:</span><span class='ee-v'>-32768</span></li><li><span class='ee-k'>precision:</span><span class='ee-v'>int</span></li></ul></li><li><label class='ee-shut'>dimensions: [7501, 7291]<input type='checkbox' class='ee-toggle'></label><ul><li><span class='ee-k'>0:</span><span class='ee-v'>7501</span></li><li><span class='ee-k'>1:</span><span class='ee-v'>7291</span></li></ul></li></ul></li><li><label class='ee-shut'>11: \"ST_DRAD\", signed int16, EPSG:32610, 7501x7291 px<input type='checkbox' class='ee-toggle'></label><ul><li><span class='ee-k'>id:</span><span class='ee-v'>ST_DRAD</span></li><li><span class='ee-k'>crs:</span><span class='ee-v'>EPSG:32610</span></li><li><label class='ee-shut'>crs_transform: [30, 0, 604785, 0, -30, 4259115]<input type='checkbox' class='ee-toggle'></label><ul><li><span class='ee-k'>0:</span><span class='ee-v'>30</span></li><li><span class='ee-k'>1:</span><span class='ee-v'>0</span></li><li><span class='ee-k'>2:</span><span class='ee-v'>604785</span></li><li><span class='ee-k'>3:</span><span class='ee-v'>0</span></li><li><span class='ee-k'>4:</span><span class='ee-v'>-30</span></li><li><span class='ee-k'>5:</span><span class='ee-v'>4259115</span></li></ul></li><li><label class='ee-shut'>data_type: signed int16<input type='checkbox' class='ee-toggle'></label><ul><li><span class='ee-k'>type:</span><span class='ee-v'>PixelType</span></li><li><span class='ee-k'>max:</span><span class='ee-v'>32767</span></li><li><span class='ee-k'>min:</span><span class='ee-v'>-32768</span></li><li><span class='ee-k'>precision:</span><span class='ee-v'>int</span></li></ul></li><li><label class='ee-shut'>dimensions: [7501, 7291]<input type='checkbox' class='ee-toggle'></label><ul><li><span class='ee-k'>0:</span><span class='ee-v'>7501</span></li><li><span class='ee-k'>1:</span><span class='ee-v'>7291</span></li></ul></li></ul></li><li><label class='ee-shut'>12: \"ST_EMIS\", signed int16, EPSG:32610, 7501x7291 px<input type='checkbox' class='ee-toggle'></label><ul><li><span class='ee-k'>id:</span><span class='ee-v'>ST_EMIS</span></li><li><span class='ee-k'>crs:</span><span class='ee-v'>EPSG:32610</span></li><li><label class='ee-shut'>crs_transform: [30, 0, 604785, 0, -30, 4259115]<input type='checkbox' class='ee-toggle'></label><ul><li><span class='ee-k'>0:</span><span class='ee-v'>30</span></li><li><span class='ee-k'>1:</span><span class='ee-v'>0</span></li><li><span class='ee-k'>2:</span><span class='ee-v'>604785</span></li><li><span class='ee-k'>3:</span><span class='ee-v'>0</span></li><li><span class='ee-k'>4:</span><span class='ee-v'>-30</span></li><li><span class='ee-k'>5:</span><span class='ee-v'>4259115</span></li></ul></li><li><label class='ee-shut'>data_type: signed int16<input type='checkbox' class='ee-toggle'></label><ul><li><span class='ee-k'>type:</span><span class='ee-v'>PixelType</span></li><li><span class='ee-k'>max:</span><span class='ee-v'>32767</span></li><li><span class='ee-k'>min:</span><span class='ee-v'>-32768</span></li><li><span class='ee-k'>precision:</span><span class='ee-v'>int</span></li></ul></li><li><label class='ee-shut'>dimensions: [7501, 7291]<input type='checkbox' class='ee-toggle'></label><ul><li><span class='ee-k'>0:</span><span class='ee-v'>7501</span></li><li><span class='ee-k'>1:</span><span class='ee-v'>7291</span></li></ul></li></ul></li><li><label class='ee-shut'>13: \"ST_EMSD\", signed int16, EPSG:32610, 7501x7291 px<input type='checkbox' class='ee-toggle'></label><ul><li><span class='ee-k'>id:</span><span class='ee-v'>ST_EMSD</span></li><li><span class='ee-k'>crs:</span><span class='ee-v'>EPSG:32610</span></li><li><label class='ee-shut'>crs_transform: [30, 0, 604785, 0, -30, 4259115]<input type='checkbox' class='ee-toggle'></label><ul><li><span class='ee-k'>0:</span><span class='ee-v'>30</span></li><li><span class='ee-k'>1:</span><span class='ee-v'>0</span></li><li><span class='ee-k'>2:</span><span class='ee-v'>604785</span></li><li><span class='ee-k'>3:</span><span class='ee-v'>0</span></li><li><span class='ee-k'>4:</span><span class='ee-v'>-30</span></li><li><span class='ee-k'>5:</span><span class='ee-v'>4259115</span></li></ul></li><li><label class='ee-shut'>data_type: signed int16<input type='checkbox' class='ee-toggle'></label><ul><li><span class='ee-k'>type:</span><span class='ee-v'>PixelType</span></li><li><span class='ee-k'>max:</span><span class='ee-v'>32767</span></li><li><span class='ee-k'>min:</span><span class='ee-v'>-32768</span></li><li><span class='ee-k'>precision:</span><span class='ee-v'>int</span></li></ul></li><li><label class='ee-shut'>dimensions: [7501, 7291]<input type='checkbox' class='ee-toggle'></label><ul><li><span class='ee-k'>0:</span><span class='ee-v'>7501</span></li><li><span class='ee-k'>1:</span><span class='ee-v'>7291</span></li></ul></li></ul></li><li><label class='ee-shut'>14: \"ST_QA\", signed int16, EPSG:32610, 7501x7291 px<input type='checkbox' class='ee-toggle'></label><ul><li><span class='ee-k'>id:</span><span class='ee-v'>ST_QA</span></li><li><span class='ee-k'>crs:</span><span class='ee-v'>EPSG:32610</span></li><li><label class='ee-shut'>crs_transform: [30, 0, 604785, 0, -30, 4259115]<input type='checkbox' class='ee-toggle'></label><ul><li><span class='ee-k'>0:</span><span class='ee-v'>30</span></li><li><span class='ee-k'>1:</span><span class='ee-v'>0</span></li><li><span class='ee-k'>2:</span><span class='ee-v'>604785</span></li><li><span class='ee-k'>3:</span><span class='ee-v'>0</span></li><li><span class='ee-k'>4:</span><span class='ee-v'>-30</span></li><li><span class='ee-k'>5:</span><span class='ee-v'>4259115</span></li></ul></li><li><label class='ee-shut'>data_type: signed int16<input type='checkbox' class='ee-toggle'></label><ul><li><span class='ee-k'>type:</span><span class='ee-v'>PixelType</span></li><li><span class='ee-k'>max:</span><span class='ee-v'>32767</span></li><li><span class='ee-k'>min:</span><span class='ee-v'>-32768</span></li><li><span class='ee-k'>precision:</span><span class='ee-v'>int</span></li></ul></li><li><label class='ee-shut'>dimensions: [7501, 7291]<input type='checkbox' class='ee-toggle'></label><ul><li><span class='ee-k'>0:</span><span class='ee-v'>7501</span></li><li><span class='ee-k'>1:</span><span class='ee-v'>7291</span></li></ul></li></ul></li><li><label class='ee-shut'>15: \"ST_TRAD\", signed int16, EPSG:32610, 7501x7291 px<input type='checkbox' class='ee-toggle'></label><ul><li><span class='ee-k'>id:</span><span class='ee-v'>ST_TRAD</span></li><li><span class='ee-k'>crs:</span><span class='ee-v'>EPSG:32610</span></li><li><label class='ee-shut'>crs_transform: [30, 0, 604785, 0, -30, 4259115]<input type='checkbox' class='ee-toggle'></label><ul><li><span class='ee-k'>0:</span><span class='ee-v'>30</span></li><li><span class='ee-k'>1:</span><span class='ee-v'>0</span></li><li><span class='ee-k'>2:</span><span class='ee-v'>604785</span></li><li><span class='ee-k'>3:</span><span class='ee-v'>0</span></li><li><span class='ee-k'>4:</span><span class='ee-v'>-30</span></li><li><span class='ee-k'>5:</span><span class='ee-v'>4259115</span></li></ul></li><li><label class='ee-shut'>data_type: signed int16<input type='checkbox' class='ee-toggle'></label><ul><li><span class='ee-k'>type:</span><span class='ee-v'>PixelType</span></li><li><span class='ee-k'>max:</span><span class='ee-v'>32767</span></li><li><span class='ee-k'>min:</span><span class='ee-v'>-32768</span></li><li><span class='ee-k'>precision:</span><span class='ee-v'>int</span></li></ul></li><li><label class='ee-shut'>dimensions: [7501, 7291]<input type='checkbox' class='ee-toggle'></label><ul><li><span class='ee-k'>0:</span><span class='ee-v'>7501</span></li><li><span class='ee-k'>1:</span><span class='ee-v'>7291</span></li></ul></li></ul></li><li><label class='ee-shut'>16: \"ST_URAD\", signed int16, EPSG:32610, 7501x7291 px<input type='checkbox' class='ee-toggle'></label><ul><li><span class='ee-k'>id:</span><span class='ee-v'>ST_URAD</span></li><li><span class='ee-k'>crs:</span><span class='ee-v'>EPSG:32610</span></li><li><label class='ee-shut'>crs_transform: [30, 0, 604785, 0, -30, 4259115]<input type='checkbox' class='ee-toggle'></label><ul><li><span class='ee-k'>0:</span><span class='ee-v'>30</span></li><li><span class='ee-k'>1:</span><span class='ee-v'>0</span></li><li><span class='ee-k'>2:</span><span class='ee-v'>604785</span></li><li><span class='ee-k'>3:</span><span class='ee-v'>0</span></li><li><span class='ee-k'>4:</span><span class='ee-v'>-30</span></li><li><span class='ee-k'>5:</span><span class='ee-v'>4259115</span></li></ul></li><li><label class='ee-shut'>data_type: signed int16<input type='checkbox' class='ee-toggle'></label><ul><li><span class='ee-k'>type:</span><span class='ee-v'>PixelType</span></li><li><span class='ee-k'>max:</span><span class='ee-v'>32767</span></li><li><span class='ee-k'>min:</span><span class='ee-v'>-32768</span></li><li><span class='ee-k'>precision:</span><span class='ee-v'>int</span></li></ul></li><li><label class='ee-shut'>dimensions: [7501, 7291]<input type='checkbox' class='ee-toggle'></label><ul><li><span class='ee-k'>0:</span><span class='ee-v'>7501</span></li><li><span class='ee-k'>1:</span><span class='ee-v'>7291</span></li></ul></li></ul></li><li><label class='ee-shut'>17: \"QA_PIXEL\", unsigned int16, EPSG:32610, 7501x7291 px<input type='checkbox' class='ee-toggle'></label><ul><li><span class='ee-k'>id:</span><span class='ee-v'>QA_PIXEL</span></li><li><span class='ee-k'>crs:</span><span class='ee-v'>EPSG:32610</span></li><li><label class='ee-shut'>crs_transform: [30, 0, 604785, 0, -30, 4259115]<input type='checkbox' class='ee-toggle'></label><ul><li><span class='ee-k'>0:</span><span class='ee-v'>30</span></li><li><span class='ee-k'>1:</span><span class='ee-v'>0</span></li><li><span class='ee-k'>2:</span><span class='ee-v'>604785</span></li><li><span class='ee-k'>3:</span><span class='ee-v'>0</span></li><li><span class='ee-k'>4:</span><span class='ee-v'>-30</span></li><li><span class='ee-k'>5:</span><span class='ee-v'>4259115</span></li></ul></li><li><label class='ee-shut'>data_type: unsigned int16<input type='checkbox' class='ee-toggle'></label><ul><li><span class='ee-k'>type:</span><span class='ee-v'>PixelType</span></li><li><span class='ee-k'>max:</span><span class='ee-v'>65535</span></li><li><span class='ee-k'>min:</span><span class='ee-v'>0</span></li><li><span class='ee-k'>precision:</span><span class='ee-v'>int</span></li></ul></li><li><label class='ee-shut'>dimensions: [7501, 7291]<input type='checkbox' class='ee-toggle'></label><ul><li><span class='ee-k'>0:</span><span class='ee-v'>7501</span></li><li><span class='ee-k'>1:</span><span class='ee-v'>7291</span></li></ul></li></ul></li><li><label class='ee-shut'>18: \"QA_RADSAT\", unsigned int16, EPSG:32610, 7501x7291 px<input type='checkbox' class='ee-toggle'></label><ul><li><span class='ee-k'>id:</span><span class='ee-v'>QA_RADSAT</span></li><li><span class='ee-k'>crs:</span><span class='ee-v'>EPSG:32610</span></li><li><label class='ee-shut'>crs_transform: [30, 0, 604785, 0, -30, 4259115]<input type='checkbox' class='ee-toggle'></label><ul><li><span class='ee-k'>0:</span><span class='ee-v'>30</span></li><li><span class='ee-k'>1:</span><span class='ee-v'>0</span></li><li><span class='ee-k'>2:</span><span class='ee-v'>604785</span></li><li><span class='ee-k'>3:</span><span class='ee-v'>0</span></li><li><span class='ee-k'>4:</span><span class='ee-v'>-30</span></li><li><span class='ee-k'>5:</span><span class='ee-v'>4259115</span></li></ul></li><li><label class='ee-shut'>data_type: unsigned int16<input type='checkbox' class='ee-toggle'></label><ul><li><span class='ee-k'>type:</span><span class='ee-v'>PixelType</span></li><li><span class='ee-k'>max:</span><span class='ee-v'>65535</span></li><li><span class='ee-k'>min:</span><span class='ee-v'>0</span></li><li><span class='ee-k'>precision:</span><span class='ee-v'>int</span></li></ul></li><li><label class='ee-shut'>dimensions: [7501, 7291]<input type='checkbox' class='ee-toggle'></label><ul><li><span class='ee-k'>0:</span><span class='ee-v'>7501</span></li><li><span class='ee-k'>1:</span><span class='ee-v'>7291</span></li></ul></li></ul></li><li><label class='ee-shut'>19: \"NDVI\", float, EPSG:32610, 7501x7291 px<input type='checkbox' class='ee-toggle'></label><ul><li><span class='ee-k'>id:</span><span class='ee-v'>NDVI</span></li><li><span class='ee-k'>crs:</span><span class='ee-v'>EPSG:32610</span></li><li><label class='ee-shut'>crs_transform: [30, 0, 604785, 0, -30, 4259115]<input type='checkbox' class='ee-toggle'></label><ul><li><span class='ee-k'>0:</span><span class='ee-v'>30</span></li><li><span class='ee-k'>1:</span><span class='ee-v'>0</span></li><li><span class='ee-k'>2:</span><span class='ee-v'>604785</span></li><li><span class='ee-k'>3:</span><span class='ee-v'>0</span></li><li><span class='ee-k'>4:</span><span class='ee-v'>-30</span></li><li><span class='ee-k'>5:</span><span class='ee-v'>4259115</span></li></ul></li><li><label class='ee-shut'>data_type: float<input type='checkbox' class='ee-toggle'></label><ul><li><span class='ee-k'>type:</span><span class='ee-v'>PixelType</span></li><li><span class='ee-k'>precision:</span><span class='ee-v'>float</span></li></ul></li><li><label class='ee-shut'>dimensions: [7501, 7291]<input type='checkbox' class='ee-toggle'></label><ul><li><span class='ee-k'>0:</span><span class='ee-v'>7501</span></li><li><span class='ee-k'>1:</span><span class='ee-v'>7291</span></li></ul></li></ul></li><li><label class='ee-shut'>20: \"t\", float, EPSG:4326<input type='checkbox' class='ee-toggle'></label><ul><li><span class='ee-k'>id:</span><span class='ee-v'>t</span></li><li><span class='ee-k'>crs:</span><span class='ee-v'>EPSG:4326</span></li><li><label class='ee-shut'>crs_transform: [1, 0, 0, 0, 1, 0]<input type='checkbox' class='ee-toggle'></label><ul><li><span class='ee-k'>0:</span><span class='ee-v'>1</span></li><li><span class='ee-k'>1:</span><span class='ee-v'>0</span></li><li><span class='ee-k'>2:</span><span class='ee-v'>0</span></li><li><span class='ee-k'>3:</span><span class='ee-v'>0</span></li><li><span class='ee-k'>4:</span><span class='ee-v'>1</span></li><li><span class='ee-k'>5:</span><span class='ee-v'>0</span></li></ul></li><li><label class='ee-shut'>data_type: float<input type='checkbox' class='ee-toggle'></label><ul><li><span class='ee-k'>type:</span><span class='ee-v'>PixelType</span></li><li><span class='ee-k'>precision:</span><span class='ee-v'>float</span></li></ul></li></ul></li></ul></li><li><label class='ee-shut'>properties: Object (94 properties)<input type='checkbox' class='ee-toggle'></label><ul><li><span class='ee-k'>ALGORITHM_SOURCE_SURFACE_REFLECTANCE:</span><span class='ee-v'>LaSRC_1.5.0</span></li><li><span class='ee-k'>ALGORITHM_SOURCE_SURFACE_TEMPERATURE:</span><span class='ee-v'>st_1.3.0</span></li><li><span class='ee-k'>CLOUD_COVER:</span><span class='ee-v'>1.88</span></li><li><span class='ee-k'>CLOUD_COVER_LAND:</span><span class='ee-v'>1.88</span></li><li><span class='ee-k'>COLLECTION_CATEGORY:</span><span class='ee-v'>T1</span></li><li><span class='ee-k'>COLLECTION_NUMBER:</span><span class='ee-v'>2</span></li><li><span class='ee-k'>DATA_SOURCE_AIR_TEMPERATURE:</span><span class='ee-v'>MODIS</span></li><li><span class='ee-k'>DATA_SOURCE_ELEVATION:</span><span class='ee-v'>GLS2000</span></li><li><span class='ee-k'>DATA_SOURCE_OZONE:</span><span class='ee-v'>MODIS</span></li><li><span class='ee-k'>DATA_SOURCE_PRESSURE:</span><span class='ee-v'>Calculated</span></li><li><span class='ee-k'>DATA_SOURCE_REANALYSIS:</span><span class='ee-v'>GEOS-5 FP-IT</span></li><li><span class='ee-k'>DATA_SOURCE_TIRS_STRAY_LIGHT_CORRECTION:</span><span class='ee-v'>TIRS</span></li><li><span class='ee-k'>DATA_SOURCE_WATER_VAPOR:</span><span class='ee-v'>MODIS</span></li><li><span class='ee-k'>DATE_ACQUIRED:</span><span class='ee-v'>2013-04-25</span></li><li><span class='ee-k'>DATE_PRODUCT_GENERATED:</span><span class='ee-v'>1599954313000</span></li><li><span class='ee-k'>DATUM:</span><span class='ee-v'>WGS84</span></li><li><span class='ee-k'>EARTH_SUN_DISTANCE:</span><span class='ee-v'>1.0061524</span></li><li><span class='ee-k'>ELLIPSOID:</span><span class='ee-v'>WGS84</span></li><li><span class='ee-k'>GEOMETRIC_RMSE_MODEL:</span><span class='ee-v'>5.338</span></li><li><span class='ee-k'>GEOMETRIC_RMSE_MODEL_X:</span><span class='ee-v'>3.815</span></li><li><span class='ee-k'>GEOMETRIC_RMSE_MODEL_Y:</span><span class='ee-v'>3.733</span></li><li><span class='ee-k'>GEOMETRIC_RMSE_VERIFY:</span><span class='ee-v'>2.189</span></li><li><span class='ee-k'>GRID_CELL_SIZE_REFLECTIVE:</span><span class='ee-v'>30</span></li><li><span class='ee-k'>GRID_CELL_SIZE_THERMAL:</span><span class='ee-v'>30</span></li><li><span class='ee-k'>GROUND_CONTROL_POINTS_MODEL:</span><span class='ee-v'>1063</span></li><li><span class='ee-k'>GROUND_CONTROL_POINTS_VERIFY:</span><span class='ee-v'>261</span></li><li><span class='ee-k'>GROUND_CONTROL_POINTS_VERSION:</span><span class='ee-v'>5</span></li><li><span class='ee-k'>IMAGE_QUALITY_OLI:</span><span class='ee-v'>9</span></li><li><span class='ee-k'>IMAGE_QUALITY_TIRS:</span><span class='ee-v'>9</span></li><li><span class='ee-k'>L1_DATE_PRODUCT_GENERATED:</span><span class='ee-v'>2020-09-12T23:33:52Z</span></li><li><span class='ee-k'>L1_LANDSAT_PRODUCT_ID:</span><span class='ee-v'>LC08_L1TP_043034_20130425_20200912_02_T1</span></li><li><span class='ee-k'>L1_PROCESSING_LEVEL:</span><span class='ee-v'>L1TP</span></li><li><span class='ee-k'>L1_PROCESSING_SOFTWARE_VERSION:</span><span class='ee-v'>LPGS_15.3.1c</span></li><li><span class='ee-k'>L1_REQUEST_ID:</span><span class='ee-v'>L2</span></li><li><span class='ee-k'>LANDSAT_PRODUCT_ID:</span><span class='ee-v'>LC08_L2SP_043034_20130425_20200912_02_T1</span></li><li><span class='ee-k'>LANDSAT_SCENE_ID:</span><span class='ee-v'>LC80430342013115LGN03</span></li><li><span class='ee-k'>MAP_PROJECTION:</span><span class='ee-v'>UTM</span></li><li><span class='ee-k'>NADIR_OFFNADIR:</span><span class='ee-v'>NADIR</span></li><li><span class='ee-k'>ORIENTATION:</span><span class='ee-v'>NORTH_UP</span></li><li><span class='ee-k'>PROCESSING_LEVEL:</span><span class='ee-v'>L2SP</span></li><li><span class='ee-k'>PROCESSING_SOFTWARE_VERSION:</span><span class='ee-v'>LPGS_15.3.1c</span></li><li><span class='ee-k'>REFLECTANCE_ADD_BAND_1:</span><span class='ee-v'>-0.2</span></li><li><span class='ee-k'>REFLECTANCE_ADD_BAND_2:</span><span class='ee-v'>-0.2</span></li><li><span class='ee-k'>REFLECTANCE_ADD_BAND_3:</span><span class='ee-v'>-0.2</span></li><li><span class='ee-k'>REFLECTANCE_ADD_BAND_4:</span><span class='ee-v'>-0.2</span></li><li><span class='ee-k'>REFLECTANCE_ADD_BAND_5:</span><span class='ee-v'>-0.2</span></li><li><span class='ee-k'>REFLECTANCE_ADD_BAND_6:</span><span class='ee-v'>-0.2</span></li><li><span class='ee-k'>REFLECTANCE_ADD_BAND_7:</span><span class='ee-v'>-0.2</span></li><li><span class='ee-k'>REFLECTANCE_MULT_BAND_1:</span><span class='ee-v'>2.75e-05</span></li><li><span class='ee-k'>REFLECTANCE_MULT_BAND_2:</span><span class='ee-v'>2.75e-05</span></li><li><span class='ee-k'>REFLECTANCE_MULT_BAND_3:</span><span class='ee-v'>2.75e-05</span></li><li><span class='ee-k'>REFLECTANCE_MULT_BAND_4:</span><span class='ee-v'>2.75e-05</span></li><li><span class='ee-k'>REFLECTANCE_MULT_BAND_5:</span><span class='ee-v'>2.75e-05</span></li><li><span class='ee-k'>REFLECTANCE_MULT_BAND_6:</span><span class='ee-v'>2.75e-05</span></li><li><span class='ee-k'>REFLECTANCE_MULT_BAND_7:</span><span class='ee-v'>2.75e-05</span></li><li><span class='ee-k'>REFLECTIVE_LINES:</span><span class='ee-v'>7291</span></li><li><span class='ee-k'>REFLECTIVE_SAMPLES:</span><span class='ee-v'>7501</span></li><li><span class='ee-k'>REQUEST_ID:</span><span class='ee-v'>L2</span></li><li><span class='ee-k'>ROLL_ANGLE:</span><span class='ee-v'>-0.001</span></li><li><span class='ee-k'>SATURATION_BAND_1:</span><span class='ee-v'>N</span></li><li><span class='ee-k'>SATURATION_BAND_2:</span><span class='ee-v'>N</span></li><li><span class='ee-k'>SATURATION_BAND_3:</span><span class='ee-v'>N</span></li><li><span class='ee-k'>SATURATION_BAND_4:</span><span class='ee-v'>N</span></li><li><span class='ee-k'>SATURATION_BAND_5:</span><span class='ee-v'>Y</span></li><li><span class='ee-k'>SATURATION_BAND_6:</span><span class='ee-v'>Y</span></li><li><span class='ee-k'>SATURATION_BAND_7:</span><span class='ee-v'>Y</span></li><li><span class='ee-k'>SATURATION_BAND_8:</span><span class='ee-v'>N</span></li><li><span class='ee-k'>SATURATION_BAND_9:</span><span class='ee-v'>N</span></li><li><span class='ee-k'>SCENE_CENTER_TIME:</span><span class='ee-v'>18:41:39.0246000Z</span></li><li><span class='ee-k'>SENSOR_ID:</span><span class='ee-v'>OLI_TIRS</span></li><li><span class='ee-k'>SPACECRAFT_ID:</span><span class='ee-v'>LANDSAT_8</span></li><li><span class='ee-k'>STATION_ID:</span><span class='ee-v'>LGN</span></li><li><span class='ee-k'>SUN_AZIMUTH:</span><span class='ee-v'>138.85095424</span></li><li><span class='ee-k'>SUN_ELEVATION:</span><span class='ee-v'>60.28139977</span></li><li><span class='ee-k'>TARGET_WRS_PATH:</span><span class='ee-v'>43</span></li><li><span class='ee-k'>TARGET_WRS_ROW:</span><span class='ee-v'>34</span></li><li><span class='ee-k'>TEMPERATURE_ADD_BAND_ST_B10:</span><span class='ee-v'>149</span></li><li><span class='ee-k'>TEMPERATURE_MAXIMUM_BAND_ST_B10:</span><span class='ee-v'>372.999941</span></li><li><span class='ee-k'>TEMPERATURE_MINIMUM_BAND_ST_B10:</span><span class='ee-v'>149.003418</span></li><li><span class='ee-k'>TEMPERATURE_MULT_BAND_ST_B10:</span><span class='ee-v'>0.00341802</span></li><li><span class='ee-k'>THERMAL_LINES:</span><span class='ee-v'>7291</span></li><li><span class='ee-k'>THERMAL_SAMPLES:</span><span class='ee-v'>7501</span></li><li><span class='ee-k'>TIRS_SSM_MODEL:</span><span class='ee-v'>ACTUAL</span></li><li><span class='ee-k'>TIRS_SSM_POSITION_STATUS:</span><span class='ee-v'>NOMINAL</span></li><li><span class='ee-k'>TRUNCATION_OLI:</span><span class='ee-v'>UPPER</span></li><li><span class='ee-k'>UTM_ZONE:</span><span class='ee-v'>10</span></li><li><span class='ee-k'>WRS_PATH:</span><span class='ee-v'>43</span></li><li><span class='ee-k'>WRS_ROW:</span><span class='ee-v'>34</span></li><li><span class='ee-k'>WRS_TYPE:</span><span class='ee-v'>2</span></li><li><span class='ee-k'>system:asset_size:</span><span class='ee-v'>923692083</span></li><li><label class='ee-shut'>system:footprint: LinearRing (21 vertices)<input type='checkbox' class='ee-toggle'></label><ul><li><span class='ee-k'>type:</span><span class='ee-v'>LinearRing</span></li><li><label class='ee-shut'>coordinates: List (21 elements)<input type='checkbox' class='ee-toggle'></label><ul><li><label class='ee-shut'>0: [-121.33505369721036, 38.46176992940152]<input type='checkbox' class='ee-toggle'></label><ul><li><span class='ee-k'>0:</span><span class='ee-v'>-121.33505369721036</span></li><li><span class='ee-k'>1:</span><span class='ee-v'>38.46176992940152</span></li></ul></li><li><label class='ee-shut'>1: [-121.3558362325698, 38.46546867484676]<input type='checkbox' class='ee-toggle'></label><ul><li><span class='ee-k'>0:</span><span class='ee-v'>-121.3558362325698</span></li><li><span class='ee-k'>1:</span><span class='ee-v'>38.46546867484676</span></li></ul></li><li><label class='ee-shut'>2: [-121.586036806864, 37.666474795303756]<input type='checkbox' class='ee-toggle'></label><ul><li><span class='ee-k'>0:</span><span class='ee-v'>-121.586036806864</span></li><li><span class='ee-k'>1:</span><span class='ee-v'>37.666474795303756</span></li></ul></li><li><label class='ee-shut'>3: [-121.81163576981429, 36.86488880106467]<input type='checkbox' class='ee-toggle'></label><ul><li><span class='ee-k'>0:</span><span class='ee-v'>-121.81163576981429</span></li><li><span class='ee-k'>1:</span><span class='ee-v'>36.86488880106467</span></li></ul></li><li><label class='ee-shut'>4: [-121.81165454079863, 36.8636754756665]<input type='checkbox' class='ee-toggle'></label><ul><li><span class='ee-k'>0:</span><span class='ee-v'>-121.81165454079863</span></li><li><span class='ee-k'>1:</span><span class='ee-v'>36.8636754756665</span></li></ul></li><li><label class='ee-shut'>5: [-121.78487825432727, 36.85878099827164]<input type='checkbox' class='ee-toggle'></label><ul><li><span class='ee-k'>0:</span><span class='ee-v'>-121.78487825432727</span></li><li><span class='ee-k'>1:</span><span class='ee-v'>36.85878099827164</span></li></ul></li><li><label class='ee-shut'>6: [-121.40103784268543, 36.787985835331476]<input type='checkbox' class='ee-toggle'></label><ul><li><span class='ee-k'>0:</span><span class='ee-v'>-121.40103784268543</span></li><li><span class='ee-k'>1:</span><span class='ee-v'>36.787985835331476</span></li></ul></li><li><label class='ee-shut'>7: [-119.80202962908605, 36.478372061401096]<input type='checkbox' class='ee-toggle'></label><ul><li><span class='ee-k'>0:</span><span class='ee-v'>-119.80202962908605</span></li><li><span class='ee-k'>1:</span><span class='ee-v'>36.478372061401096</span></li></ul></li><li><label class='ee-shut'>8: [-119.78280081826105, 36.47452334414627]<input type='checkbox' class='ee-toggle'></label><ul><li><span class='ee-k'>0:</span><span class='ee-v'>-119.78280081826105</span></li><li><span class='ee-k'>1:</span><span class='ee-v'>36.47452334414627</span></li></ul></li><li><label class='ee-shut'>9: [-119.78187183909249, 36.4771482568197]<input type='checkbox' class='ee-toggle'></label><ul><li><span class='ee-k'>0:</span><span class='ee-v'>-119.78187183909249</span></li><li><span class='ee-k'>1:</span><span class='ee-v'>36.4771482568197</span></li></ul></li><li><label class='ee-shut'>10: [-119.7625773362403, 36.53996129370961]<input type='checkbox' class='ee-toggle'></label><ul><li><span class='ee-k'>0:</span><span class='ee-v'>-119.7625773362403</span></li><li><span class='ee-k'>1:</span><span class='ee-v'>36.53996129370961</span></li></ul></li><li><label class='ee-shut'>11: [-119.71478648573375, 36.695168981303794]<input type='checkbox' class='ee-toggle'></label><ul><li><span class='ee-k'>0:</span><span class='ee-v'>-119.71478648573375</span></li><li><span class='ee-k'>1:</span><span class='ee-v'>36.695168981303794</span></li></ul></li><li><label class='ee-shut'>12: [-119.6874867831839, 36.78361583376816]<input type='checkbox' class='ee-toggle'></label><ul><li><span class='ee-k'>0:</span><span class='ee-v'>-119.6874867831839</span></li><li><span class='ee-k'>1:</span><span class='ee-v'>36.78361583376816</span></li></ul></li><li><label class='ee-shut'>13: [-119.65541251633749, 36.887327445713225]<input type='checkbox' class='ee-toggle'></label><ul><li><span class='ee-k'>0:</span><span class='ee-v'>-119.65541251633749</span></li><li><span class='ee-k'>1:</span><span class='ee-v'>36.887327445713225</span></li></ul></li><li><label class='ee-shut'>14: [-119.63501539401123, 36.95324625148282]<input type='checkbox' class='ee-toggle'></label><ul><li><span class='ee-k'>0:</span><span class='ee-v'>-119.63501539401123</span></li><li><span class='ee-k'>1:</span><span class='ee-v'>36.95324625148282</span></li></ul></li><li><label class='ee-shut'>15: [-119.59803968529475, 37.07247559305706]<input type='checkbox' class='ee-toggle'></label><ul><li><span class='ee-k'>0:</span><span class='ee-v'>-119.59803968529475</span></li><li><span class='ee-k'>1:</span><span class='ee-v'>37.07247559305706</span></li></ul></li><li><label class='ee-shut'>16: [-119.44394899460099, 37.573238210684394]<input type='checkbox' class='ee-toggle'></label><ul><li><span class='ee-k'>0:</span><span class='ee-v'>-119.44394899460099</span></li><li><span class='ee-k'>1:</span><span class='ee-v'>37.573238210684394</span></li></ul></li><li><label class='ee-shut'>17: [-119.28710521909974, 38.07497596319536]<input type='checkbox' class='ee-toggle'></label><ul><li><span class='ee-k'>0:</span><span class='ee-v'>-119.28710521909974</span></li><li><span class='ee-k'>1:</span><span class='ee-v'>38.07497596319536</span></li></ul></li><li><label class='ee-shut'>18: [-119.28704378815999, 38.07618853485554]<input type='checkbox' class='ee-toggle'></label><ul><li><span class='ee-k'>0:</span><span class='ee-v'>-119.28704378815999</span></li><li><span class='ee-k'>1:</span><span class='ee-v'>38.07618853485554</span></li></ul></li><li><label class='ee-shut'>19: [-119.42479601293059, 38.10336959400444]<input type='checkbox' class='ee-toggle'></label><ul><li><span class='ee-k'>0:</span><span class='ee-v'>-119.42479601293059</span></li><li><span class='ee-k'>1:</span><span class='ee-v'>38.10336959400444</span></li></ul></li><li><label class='ee-shut'>20: [-121.33505369721036, 38.46176992940152]<input type='checkbox' class='ee-toggle'></label><ul><li><span class='ee-k'>0:</span><span class='ee-v'>-121.33505369721036</span></li><li><span class='ee-k'>1:</span><span class='ee-v'>38.46176992940152</span></li></ul></li></ul></li></ul></li><li><span class='ee-k'>system:index:</span><span class='ee-v'>LC08_043034_20130425</span></li><li><span class='ee-k'>system:time_end:</span><span class='ee-v'>1366915299024</span></li><li><span class='ee-k'>system:time_start:</span><span class='ee-v'>1366915299024</span></li></ul></li></ul></li></ul></div><script>function toggleHeader() {\n",
       "    const parent = this.parentElement;\n",
       "    parent.className = parent.className === \"ee-open\" ? \"ee-shut\" : \"ee-open\";\n",
       "}\n",
       "\n",
       "for (let c of document.getElementsByClassName(\"ee-toggle\")) {\n",
       "    c.onclick = toggleHeader;\n",
       "}</script></div>"
      ],
      "text/plain": [
       "<ee.image.Image at 0x7f80f9ada550>"
      ]
     },
     "execution_count": 82,
     "metadata": {},
     "output_type": "execute_result"
    }
   ],
   "source": [
    "dataset.first()"
   ]
  },
  {
   "cell_type": "code",
   "execution_count": 83,
   "metadata": {},
   "outputs": [
    {
     "data": {
      "text/html": [
       "\n",
       "            <style>\n",
       "                .geemap-dark {\n",
       "                    --jp-widgets-color: white;\n",
       "                    --jp-widgets-label-color: white;\n",
       "                    --jp-ui-font-color1: white;\n",
       "                    --jp-layout-color2: #454545;\n",
       "                    background-color: #383838;\n",
       "                }\n",
       "\n",
       "                .geemap-dark .jupyter-button {\n",
       "                    --jp-layout-color3: #383838;\n",
       "                }\n",
       "\n",
       "                .geemap-colab {\n",
       "                    background-color: var(--colab-primary-surface-color, white);\n",
       "                }\n",
       "\n",
       "                .geemap-colab .jupyter-button {\n",
       "                    --jp-layout-color3: var(--colab-primary-surface-color, white);\n",
       "                }\n",
       "            </style>\n",
       "            "
      ],
      "text/plain": [
       "<IPython.core.display.HTML object>"
      ]
     },
     "metadata": {},
     "output_type": "display_data"
    }
   ],
   "source": [
    "dataset = dataset.map(geeft._add_harmonics(cos_names=cos_names, sin_names=sin_names))\n"
   ]
  },
  {
   "cell_type": "code",
   "execution_count": 84,
   "metadata": {},
   "outputs": [
    {
     "data": {
      "text/html": [
       "\n",
       "            <style>\n",
       "                .geemap-dark {\n",
       "                    --jp-widgets-color: white;\n",
       "                    --jp-widgets-label-color: white;\n",
       "                    --jp-ui-font-color1: white;\n",
       "                    --jp-layout-color2: #454545;\n",
       "                    background-color: #383838;\n",
       "                }\n",
       "\n",
       "                .geemap-dark .jupyter-button {\n",
       "                    --jp-layout-color3: #383838;\n",
       "                }\n",
       "\n",
       "                .geemap-colab {\n",
       "                    background-color: var(--colab-primary-surface-color, white);\n",
       "                }\n",
       "\n",
       "                .geemap-colab .jupyter-button {\n",
       "                    --jp-layout-color3: var(--colab-primary-surface-color, white);\n",
       "                }\n",
       "            </style>\n",
       "            "
      ],
      "text/plain": [
       "<IPython.core.display.HTML object>"
      ]
     },
     "metadata": {},
     "output_type": "display_data"
    },
    {
     "data": {
      "text/html": [
       "<div><style>:root {\n",
       "  --font-color-primary: var(--jp-content-font-color0, rgba(0, 0, 0, 1));\n",
       "  --font-color-secondary: var(--jp-content-font-color2, rgba(0, 0, 0, 0.6));\n",
       "  --font-color-accent: rgba(123, 31, 162, 1);\n",
       "  --border-color: var(--jp-border-color2, #e0e0e0);\n",
       "  --background-color: var(--jp-layout-color0, white);\n",
       "  --background-color-row-even: var(--jp-layout-color1, white);\n",
       "  --background-color-row-odd: var(--jp-layout-color2, #eeeeee);\n",
       "}\n",
       "\n",
       "html[theme=\"dark\"],\n",
       "body[data-theme=\"dark\"],\n",
       "body.vscode-dark {\n",
       "  --font-color-primary: rgba(255, 255, 255, 1);\n",
       "  --font-color-secondary: rgba(255, 255, 255, 0.6);\n",
       "  --font-color-accent: rgb(173, 132, 190);\n",
       "  --border-color: #2e2e2e;\n",
       "  --background-color: #111111;\n",
       "  --background-color-row-even: #111111;\n",
       "  --background-color-row-odd: #313131;\n",
       "}\n",
       "\n",
       ".ee {\n",
       "  padding: 1em;\n",
       "  line-height: 1.5em;\n",
       "  min-width: 300px;\n",
       "  max-width: 1200px;\n",
       "  overflow-y: scroll;\n",
       "  max-height: 600px;\n",
       "  border: 1px solid var(--border-color);\n",
       "  font-family: monospace;\n",
       "}\n",
       "\n",
       ".ee li {\n",
       "  list-style-type: none;\n",
       "}\n",
       "\n",
       ".ee ul {\n",
       "  padding-left: 1.5em !important;\n",
       "  margin: 0;\n",
       "}\n",
       "\n",
       ".ee > ul {\n",
       "  padding-left: 0 !important;\n",
       "}\n",
       "\n",
       ".ee-open,\n",
       ".ee-shut {\n",
       "  color: var(--font-color-secondary);\n",
       "  cursor: pointer;\n",
       "  margin: 0;\n",
       "}\n",
       "\n",
       ".ee-open:hover,\n",
       ".ee-shut:hover {\n",
       "  color: var(--font-color-primary);\n",
       "}\n",
       "\n",
       ".ee-k {\n",
       "  color: var(--font-color-accent);\n",
       "  margin-right: 6px;\n",
       "}\n",
       "\n",
       ".ee-v {\n",
       "  color: var(--font-color-primary);\n",
       "}\n",
       "\n",
       ".ee-toggle {\n",
       "  display: none;\n",
       "}\n",
       "\n",
       ".ee-shut + ul {\n",
       "  display: none;\n",
       "}\n",
       "\n",
       ".ee-open + ul {\n",
       "  display: block;\n",
       "}\n",
       "\n",
       ".ee-shut::before {\n",
       "  display: inline-block;\n",
       "  content: \"▼\";\n",
       "  margin-right: 6px;\n",
       "  transform: rotate(-90deg);\n",
       "  transition: transform 0.2s;\n",
       "}\n",
       "\n",
       ".ee-open::before {\n",
       "  transform: rotate(0deg);\n",
       "  display: inline-block;\n",
       "  content: \"▼\";\n",
       "  margin-right: 6px;\n",
       "  transition: transform 0.2s;\n",
       "}\n",
       "</style><div class='ee'><ul><li><label class='ee-shut'>Image LANDSAT/LC08/C02/T1_L2/LC08_043034_20130425 (27 bands)<input type='checkbox' class='ee-toggle'></label><ul><li><span class='ee-k'>type:</span><span class='ee-v'>Image</span></li><li><span class='ee-k'>id:</span><span class='ee-v'>LANDSAT/LC08/C02/T1_L2/LC08_043034_20130425</span></li><li><span class='ee-k'>version:</span><span class='ee-v'>1629894509510334</span></li><li><label class='ee-shut'>bands: List (27 elements)<input type='checkbox' class='ee-toggle'></label><ul><li><label class='ee-shut'>0: \"SR_B1\", double, EPSG:32610, 7501x7291 px<input type='checkbox' class='ee-toggle'></label><ul><li><span class='ee-k'>id:</span><span class='ee-v'>SR_B1</span></li><li><span class='ee-k'>crs:</span><span class='ee-v'>EPSG:32610</span></li><li><label class='ee-shut'>crs_transform: [30, 0, 604785, 0, -30, 4259115]<input type='checkbox' class='ee-toggle'></label><ul><li><span class='ee-k'>0:</span><span class='ee-v'>30</span></li><li><span class='ee-k'>1:</span><span class='ee-v'>0</span></li><li><span class='ee-k'>2:</span><span class='ee-v'>604785</span></li><li><span class='ee-k'>3:</span><span class='ee-v'>0</span></li><li><span class='ee-k'>4:</span><span class='ee-v'>-30</span></li><li><span class='ee-k'>5:</span><span class='ee-v'>4259115</span></li></ul></li><li><label class='ee-shut'>data_type: double<input type='checkbox' class='ee-toggle'></label><ul><li><span class='ee-k'>type:</span><span class='ee-v'>PixelType</span></li><li><span class='ee-k'>max:</span><span class='ee-v'>1.6022125</span></li><li><span class='ee-k'>min:</span><span class='ee-v'>-0.2</span></li><li><span class='ee-k'>precision:</span><span class='ee-v'>double</span></li></ul></li><li><label class='ee-shut'>dimensions: [7501, 7291]<input type='checkbox' class='ee-toggle'></label><ul><li><span class='ee-k'>0:</span><span class='ee-v'>7501</span></li><li><span class='ee-k'>1:</span><span class='ee-v'>7291</span></li></ul></li></ul></li><li><label class='ee-shut'>1: \"SR_B2\", double, EPSG:32610, 7501x7291 px<input type='checkbox' class='ee-toggle'></label><ul><li><span class='ee-k'>id:</span><span class='ee-v'>SR_B2</span></li><li><span class='ee-k'>crs:</span><span class='ee-v'>EPSG:32610</span></li><li><label class='ee-shut'>crs_transform: [30, 0, 604785, 0, -30, 4259115]<input type='checkbox' class='ee-toggle'></label><ul><li><span class='ee-k'>0:</span><span class='ee-v'>30</span></li><li><span class='ee-k'>1:</span><span class='ee-v'>0</span></li><li><span class='ee-k'>2:</span><span class='ee-v'>604785</span></li><li><span class='ee-k'>3:</span><span class='ee-v'>0</span></li><li><span class='ee-k'>4:</span><span class='ee-v'>-30</span></li><li><span class='ee-k'>5:</span><span class='ee-v'>4259115</span></li></ul></li><li><label class='ee-shut'>data_type: double<input type='checkbox' class='ee-toggle'></label><ul><li><span class='ee-k'>type:</span><span class='ee-v'>PixelType</span></li><li><span class='ee-k'>max:</span><span class='ee-v'>1.6022125</span></li><li><span class='ee-k'>min:</span><span class='ee-v'>-0.2</span></li><li><span class='ee-k'>precision:</span><span class='ee-v'>double</span></li></ul></li><li><label class='ee-shut'>dimensions: [7501, 7291]<input type='checkbox' class='ee-toggle'></label><ul><li><span class='ee-k'>0:</span><span class='ee-v'>7501</span></li><li><span class='ee-k'>1:</span><span class='ee-v'>7291</span></li></ul></li></ul></li><li><label class='ee-shut'>2: \"SR_B3\", double, EPSG:32610, 7501x7291 px<input type='checkbox' class='ee-toggle'></label><ul><li><span class='ee-k'>id:</span><span class='ee-v'>SR_B3</span></li><li><span class='ee-k'>crs:</span><span class='ee-v'>EPSG:32610</span></li><li><label class='ee-shut'>crs_transform: [30, 0, 604785, 0, -30, 4259115]<input type='checkbox' class='ee-toggle'></label><ul><li><span class='ee-k'>0:</span><span class='ee-v'>30</span></li><li><span class='ee-k'>1:</span><span class='ee-v'>0</span></li><li><span class='ee-k'>2:</span><span class='ee-v'>604785</span></li><li><span class='ee-k'>3:</span><span class='ee-v'>0</span></li><li><span class='ee-k'>4:</span><span class='ee-v'>-30</span></li><li><span class='ee-k'>5:</span><span class='ee-v'>4259115</span></li></ul></li><li><label class='ee-shut'>data_type: double<input type='checkbox' class='ee-toggle'></label><ul><li><span class='ee-k'>type:</span><span class='ee-v'>PixelType</span></li><li><span class='ee-k'>max:</span><span class='ee-v'>1.6022125</span></li><li><span class='ee-k'>min:</span><span class='ee-v'>-0.2</span></li><li><span class='ee-k'>precision:</span><span class='ee-v'>double</span></li></ul></li><li><label class='ee-shut'>dimensions: [7501, 7291]<input type='checkbox' class='ee-toggle'></label><ul><li><span class='ee-k'>0:</span><span class='ee-v'>7501</span></li><li><span class='ee-k'>1:</span><span class='ee-v'>7291</span></li></ul></li></ul></li><li><label class='ee-shut'>3: \"SR_B4\", double, EPSG:32610, 7501x7291 px<input type='checkbox' class='ee-toggle'></label><ul><li><span class='ee-k'>id:</span><span class='ee-v'>SR_B4</span></li><li><span class='ee-k'>crs:</span><span class='ee-v'>EPSG:32610</span></li><li><label class='ee-shut'>crs_transform: [30, 0, 604785, 0, -30, 4259115]<input type='checkbox' class='ee-toggle'></label><ul><li><span class='ee-k'>0:</span><span class='ee-v'>30</span></li><li><span class='ee-k'>1:</span><span class='ee-v'>0</span></li><li><span class='ee-k'>2:</span><span class='ee-v'>604785</span></li><li><span class='ee-k'>3:</span><span class='ee-v'>0</span></li><li><span class='ee-k'>4:</span><span class='ee-v'>-30</span></li><li><span class='ee-k'>5:</span><span class='ee-v'>4259115</span></li></ul></li><li><label class='ee-shut'>data_type: double<input type='checkbox' class='ee-toggle'></label><ul><li><span class='ee-k'>type:</span><span class='ee-v'>PixelType</span></li><li><span class='ee-k'>max:</span><span class='ee-v'>1.6022125</span></li><li><span class='ee-k'>min:</span><span class='ee-v'>-0.2</span></li><li><span class='ee-k'>precision:</span><span class='ee-v'>double</span></li></ul></li><li><label class='ee-shut'>dimensions: [7501, 7291]<input type='checkbox' class='ee-toggle'></label><ul><li><span class='ee-k'>0:</span><span class='ee-v'>7501</span></li><li><span class='ee-k'>1:</span><span class='ee-v'>7291</span></li></ul></li></ul></li><li><label class='ee-shut'>4: \"SR_B5\", double, EPSG:32610, 7501x7291 px<input type='checkbox' class='ee-toggle'></label><ul><li><span class='ee-k'>id:</span><span class='ee-v'>SR_B5</span></li><li><span class='ee-k'>crs:</span><span class='ee-v'>EPSG:32610</span></li><li><label class='ee-shut'>crs_transform: [30, 0, 604785, 0, -30, 4259115]<input type='checkbox' class='ee-toggle'></label><ul><li><span class='ee-k'>0:</span><span class='ee-v'>30</span></li><li><span class='ee-k'>1:</span><span class='ee-v'>0</span></li><li><span class='ee-k'>2:</span><span class='ee-v'>604785</span></li><li><span class='ee-k'>3:</span><span class='ee-v'>0</span></li><li><span class='ee-k'>4:</span><span class='ee-v'>-30</span></li><li><span class='ee-k'>5:</span><span class='ee-v'>4259115</span></li></ul></li><li><label class='ee-shut'>data_type: double<input type='checkbox' class='ee-toggle'></label><ul><li><span class='ee-k'>type:</span><span class='ee-v'>PixelType</span></li><li><span class='ee-k'>max:</span><span class='ee-v'>1.6022125</span></li><li><span class='ee-k'>min:</span><span class='ee-v'>-0.2</span></li><li><span class='ee-k'>precision:</span><span class='ee-v'>double</span></li></ul></li><li><label class='ee-shut'>dimensions: [7501, 7291]<input type='checkbox' class='ee-toggle'></label><ul><li><span class='ee-k'>0:</span><span class='ee-v'>7501</span></li><li><span class='ee-k'>1:</span><span class='ee-v'>7291</span></li></ul></li></ul></li><li><label class='ee-shut'>5: \"SR_B6\", double, EPSG:32610, 7501x7291 px<input type='checkbox' class='ee-toggle'></label><ul><li><span class='ee-k'>id:</span><span class='ee-v'>SR_B6</span></li><li><span class='ee-k'>crs:</span><span class='ee-v'>EPSG:32610</span></li><li><label class='ee-shut'>crs_transform: [30, 0, 604785, 0, -30, 4259115]<input type='checkbox' class='ee-toggle'></label><ul><li><span class='ee-k'>0:</span><span class='ee-v'>30</span></li><li><span class='ee-k'>1:</span><span class='ee-v'>0</span></li><li><span class='ee-k'>2:</span><span class='ee-v'>604785</span></li><li><span class='ee-k'>3:</span><span class='ee-v'>0</span></li><li><span class='ee-k'>4:</span><span class='ee-v'>-30</span></li><li><span class='ee-k'>5:</span><span class='ee-v'>4259115</span></li></ul></li><li><label class='ee-shut'>data_type: double<input type='checkbox' class='ee-toggle'></label><ul><li><span class='ee-k'>type:</span><span class='ee-v'>PixelType</span></li><li><span class='ee-k'>max:</span><span class='ee-v'>1.6022125</span></li><li><span class='ee-k'>min:</span><span class='ee-v'>-0.2</span></li><li><span class='ee-k'>precision:</span><span class='ee-v'>double</span></li></ul></li><li><label class='ee-shut'>dimensions: [7501, 7291]<input type='checkbox' class='ee-toggle'></label><ul><li><span class='ee-k'>0:</span><span class='ee-v'>7501</span></li><li><span class='ee-k'>1:</span><span class='ee-v'>7291</span></li></ul></li></ul></li><li><label class='ee-shut'>6: \"SR_B7\", double, EPSG:32610, 7501x7291 px<input type='checkbox' class='ee-toggle'></label><ul><li><span class='ee-k'>id:</span><span class='ee-v'>SR_B7</span></li><li><span class='ee-k'>crs:</span><span class='ee-v'>EPSG:32610</span></li><li><label class='ee-shut'>crs_transform: [30, 0, 604785, 0, -30, 4259115]<input type='checkbox' class='ee-toggle'></label><ul><li><span class='ee-k'>0:</span><span class='ee-v'>30</span></li><li><span class='ee-k'>1:</span><span class='ee-v'>0</span></li><li><span class='ee-k'>2:</span><span class='ee-v'>604785</span></li><li><span class='ee-k'>3:</span><span class='ee-v'>0</span></li><li><span class='ee-k'>4:</span><span class='ee-v'>-30</span></li><li><span class='ee-k'>5:</span><span class='ee-v'>4259115</span></li></ul></li><li><label class='ee-shut'>data_type: double<input type='checkbox' class='ee-toggle'></label><ul><li><span class='ee-k'>type:</span><span class='ee-v'>PixelType</span></li><li><span class='ee-k'>max:</span><span class='ee-v'>1.6022125</span></li><li><span class='ee-k'>min:</span><span class='ee-v'>-0.2</span></li><li><span class='ee-k'>precision:</span><span class='ee-v'>double</span></li></ul></li><li><label class='ee-shut'>dimensions: [7501, 7291]<input type='checkbox' class='ee-toggle'></label><ul><li><span class='ee-k'>0:</span><span class='ee-v'>7501</span></li><li><span class='ee-k'>1:</span><span class='ee-v'>7291</span></li></ul></li></ul></li><li><label class='ee-shut'>7: \"SR_QA_AEROSOL\", unsigned int8, EPSG:32610, 7501x7291 px<input type='checkbox' class='ee-toggle'></label><ul><li><span class='ee-k'>id:</span><span class='ee-v'>SR_QA_AEROSOL</span></li><li><span class='ee-k'>crs:</span><span class='ee-v'>EPSG:32610</span></li><li><label class='ee-shut'>crs_transform: [30, 0, 604785, 0, -30, 4259115]<input type='checkbox' class='ee-toggle'></label><ul><li><span class='ee-k'>0:</span><span class='ee-v'>30</span></li><li><span class='ee-k'>1:</span><span class='ee-v'>0</span></li><li><span class='ee-k'>2:</span><span class='ee-v'>604785</span></li><li><span class='ee-k'>3:</span><span class='ee-v'>0</span></li><li><span class='ee-k'>4:</span><span class='ee-v'>-30</span></li><li><span class='ee-k'>5:</span><span class='ee-v'>4259115</span></li></ul></li><li><label class='ee-shut'>data_type: unsigned int8<input type='checkbox' class='ee-toggle'></label><ul><li><span class='ee-k'>type:</span><span class='ee-v'>PixelType</span></li><li><span class='ee-k'>max:</span><span class='ee-v'>255</span></li><li><span class='ee-k'>min:</span><span class='ee-v'>0</span></li><li><span class='ee-k'>precision:</span><span class='ee-v'>int</span></li></ul></li><li><label class='ee-shut'>dimensions: [7501, 7291]<input type='checkbox' class='ee-toggle'></label><ul><li><span class='ee-k'>0:</span><span class='ee-v'>7501</span></li><li><span class='ee-k'>1:</span><span class='ee-v'>7291</span></li></ul></li></ul></li><li><label class='ee-shut'>8: \"ST_B10\", double, EPSG:32610, 7501x7291 px<input type='checkbox' class='ee-toggle'></label><ul><li><span class='ee-k'>id:</span><span class='ee-v'>ST_B10</span></li><li><span class='ee-k'>crs:</span><span class='ee-v'>EPSG:32610</span></li><li><label class='ee-shut'>crs_transform: [30, 0, 604785, 0, -30, 4259115]<input type='checkbox' class='ee-toggle'></label><ul><li><span class='ee-k'>0:</span><span class='ee-v'>30</span></li><li><span class='ee-k'>1:</span><span class='ee-v'>0</span></li><li><span class='ee-k'>2:</span><span class='ee-v'>604785</span></li><li><span class='ee-k'>3:</span><span class='ee-v'>0</span></li><li><span class='ee-k'>4:</span><span class='ee-v'>-30</span></li><li><span class='ee-k'>5:</span><span class='ee-v'>4259115</span></li></ul></li><li><label class='ee-shut'>data_type: double<input type='checkbox' class='ee-toggle'></label><ul><li><span class='ee-k'>type:</span><span class='ee-v'>PixelType</span></li><li><span class='ee-k'>max:</span><span class='ee-v'>372.9999407</span></li><li><span class='ee-k'>min:</span><span class='ee-v'>149</span></li><li><span class='ee-k'>precision:</span><span class='ee-v'>double</span></li></ul></li><li><label class='ee-shut'>dimensions: [7501, 7291]<input type='checkbox' class='ee-toggle'></label><ul><li><span class='ee-k'>0:</span><span class='ee-v'>7501</span></li><li><span class='ee-k'>1:</span><span class='ee-v'>7291</span></li></ul></li></ul></li><li><label class='ee-shut'>9: \"ST_ATRAN\", signed int16, EPSG:32610, 7501x7291 px<input type='checkbox' class='ee-toggle'></label><ul><li><span class='ee-k'>id:</span><span class='ee-v'>ST_ATRAN</span></li><li><span class='ee-k'>crs:</span><span class='ee-v'>EPSG:32610</span></li><li><label class='ee-shut'>crs_transform: [30, 0, 604785, 0, -30, 4259115]<input type='checkbox' class='ee-toggle'></label><ul><li><span class='ee-k'>0:</span><span class='ee-v'>30</span></li><li><span class='ee-k'>1:</span><span class='ee-v'>0</span></li><li><span class='ee-k'>2:</span><span class='ee-v'>604785</span></li><li><span class='ee-k'>3:</span><span class='ee-v'>0</span></li><li><span class='ee-k'>4:</span><span class='ee-v'>-30</span></li><li><span class='ee-k'>5:</span><span class='ee-v'>4259115</span></li></ul></li><li><label class='ee-shut'>data_type: signed int16<input type='checkbox' class='ee-toggle'></label><ul><li><span class='ee-k'>type:</span><span class='ee-v'>PixelType</span></li><li><span class='ee-k'>max:</span><span class='ee-v'>32767</span></li><li><span class='ee-k'>min:</span><span class='ee-v'>-32768</span></li><li><span class='ee-k'>precision:</span><span class='ee-v'>int</span></li></ul></li><li><label class='ee-shut'>dimensions: [7501, 7291]<input type='checkbox' class='ee-toggle'></label><ul><li><span class='ee-k'>0:</span><span class='ee-v'>7501</span></li><li><span class='ee-k'>1:</span><span class='ee-v'>7291</span></li></ul></li></ul></li><li><label class='ee-shut'>10: \"ST_CDIST\", signed int16, EPSG:32610, 7501x7291 px<input type='checkbox' class='ee-toggle'></label><ul><li><span class='ee-k'>id:</span><span class='ee-v'>ST_CDIST</span></li><li><span class='ee-k'>crs:</span><span class='ee-v'>EPSG:32610</span></li><li><label class='ee-shut'>crs_transform: [30, 0, 604785, 0, -30, 4259115]<input type='checkbox' class='ee-toggle'></label><ul><li><span class='ee-k'>0:</span><span class='ee-v'>30</span></li><li><span class='ee-k'>1:</span><span class='ee-v'>0</span></li><li><span class='ee-k'>2:</span><span class='ee-v'>604785</span></li><li><span class='ee-k'>3:</span><span class='ee-v'>0</span></li><li><span class='ee-k'>4:</span><span class='ee-v'>-30</span></li><li><span class='ee-k'>5:</span><span class='ee-v'>4259115</span></li></ul></li><li><label class='ee-shut'>data_type: signed int16<input type='checkbox' class='ee-toggle'></label><ul><li><span class='ee-k'>type:</span><span class='ee-v'>PixelType</span></li><li><span class='ee-k'>max:</span><span class='ee-v'>32767</span></li><li><span class='ee-k'>min:</span><span class='ee-v'>-32768</span></li><li><span class='ee-k'>precision:</span><span class='ee-v'>int</span></li></ul></li><li><label class='ee-shut'>dimensions: [7501, 7291]<input type='checkbox' class='ee-toggle'></label><ul><li><span class='ee-k'>0:</span><span class='ee-v'>7501</span></li><li><span class='ee-k'>1:</span><span class='ee-v'>7291</span></li></ul></li></ul></li><li><label class='ee-shut'>11: \"ST_DRAD\", signed int16, EPSG:32610, 7501x7291 px<input type='checkbox' class='ee-toggle'></label><ul><li><span class='ee-k'>id:</span><span class='ee-v'>ST_DRAD</span></li><li><span class='ee-k'>crs:</span><span class='ee-v'>EPSG:32610</span></li><li><label class='ee-shut'>crs_transform: [30, 0, 604785, 0, -30, 4259115]<input type='checkbox' class='ee-toggle'></label><ul><li><span class='ee-k'>0:</span><span class='ee-v'>30</span></li><li><span class='ee-k'>1:</span><span class='ee-v'>0</span></li><li><span class='ee-k'>2:</span><span class='ee-v'>604785</span></li><li><span class='ee-k'>3:</span><span class='ee-v'>0</span></li><li><span class='ee-k'>4:</span><span class='ee-v'>-30</span></li><li><span class='ee-k'>5:</span><span class='ee-v'>4259115</span></li></ul></li><li><label class='ee-shut'>data_type: signed int16<input type='checkbox' class='ee-toggle'></label><ul><li><span class='ee-k'>type:</span><span class='ee-v'>PixelType</span></li><li><span class='ee-k'>max:</span><span class='ee-v'>32767</span></li><li><span class='ee-k'>min:</span><span class='ee-v'>-32768</span></li><li><span class='ee-k'>precision:</span><span class='ee-v'>int</span></li></ul></li><li><label class='ee-shut'>dimensions: [7501, 7291]<input type='checkbox' class='ee-toggle'></label><ul><li><span class='ee-k'>0:</span><span class='ee-v'>7501</span></li><li><span class='ee-k'>1:</span><span class='ee-v'>7291</span></li></ul></li></ul></li><li><label class='ee-shut'>12: \"ST_EMIS\", signed int16, EPSG:32610, 7501x7291 px<input type='checkbox' class='ee-toggle'></label><ul><li><span class='ee-k'>id:</span><span class='ee-v'>ST_EMIS</span></li><li><span class='ee-k'>crs:</span><span class='ee-v'>EPSG:32610</span></li><li><label class='ee-shut'>crs_transform: [30, 0, 604785, 0, -30, 4259115]<input type='checkbox' class='ee-toggle'></label><ul><li><span class='ee-k'>0:</span><span class='ee-v'>30</span></li><li><span class='ee-k'>1:</span><span class='ee-v'>0</span></li><li><span class='ee-k'>2:</span><span class='ee-v'>604785</span></li><li><span class='ee-k'>3:</span><span class='ee-v'>0</span></li><li><span class='ee-k'>4:</span><span class='ee-v'>-30</span></li><li><span class='ee-k'>5:</span><span class='ee-v'>4259115</span></li></ul></li><li><label class='ee-shut'>data_type: signed int16<input type='checkbox' class='ee-toggle'></label><ul><li><span class='ee-k'>type:</span><span class='ee-v'>PixelType</span></li><li><span class='ee-k'>max:</span><span class='ee-v'>32767</span></li><li><span class='ee-k'>min:</span><span class='ee-v'>-32768</span></li><li><span class='ee-k'>precision:</span><span class='ee-v'>int</span></li></ul></li><li><label class='ee-shut'>dimensions: [7501, 7291]<input type='checkbox' class='ee-toggle'></label><ul><li><span class='ee-k'>0:</span><span class='ee-v'>7501</span></li><li><span class='ee-k'>1:</span><span class='ee-v'>7291</span></li></ul></li></ul></li><li><label class='ee-shut'>13: \"ST_EMSD\", signed int16, EPSG:32610, 7501x7291 px<input type='checkbox' class='ee-toggle'></label><ul><li><span class='ee-k'>id:</span><span class='ee-v'>ST_EMSD</span></li><li><span class='ee-k'>crs:</span><span class='ee-v'>EPSG:32610</span></li><li><label class='ee-shut'>crs_transform: [30, 0, 604785, 0, -30, 4259115]<input type='checkbox' class='ee-toggle'></label><ul><li><span class='ee-k'>0:</span><span class='ee-v'>30</span></li><li><span class='ee-k'>1:</span><span class='ee-v'>0</span></li><li><span class='ee-k'>2:</span><span class='ee-v'>604785</span></li><li><span class='ee-k'>3:</span><span class='ee-v'>0</span></li><li><span class='ee-k'>4:</span><span class='ee-v'>-30</span></li><li><span class='ee-k'>5:</span><span class='ee-v'>4259115</span></li></ul></li><li><label class='ee-shut'>data_type: signed int16<input type='checkbox' class='ee-toggle'></label><ul><li><span class='ee-k'>type:</span><span class='ee-v'>PixelType</span></li><li><span class='ee-k'>max:</span><span class='ee-v'>32767</span></li><li><span class='ee-k'>min:</span><span class='ee-v'>-32768</span></li><li><span class='ee-k'>precision:</span><span class='ee-v'>int</span></li></ul></li><li><label class='ee-shut'>dimensions: [7501, 7291]<input type='checkbox' class='ee-toggle'></label><ul><li><span class='ee-k'>0:</span><span class='ee-v'>7501</span></li><li><span class='ee-k'>1:</span><span class='ee-v'>7291</span></li></ul></li></ul></li><li><label class='ee-shut'>14: \"ST_QA\", signed int16, EPSG:32610, 7501x7291 px<input type='checkbox' class='ee-toggle'></label><ul><li><span class='ee-k'>id:</span><span class='ee-v'>ST_QA</span></li><li><span class='ee-k'>crs:</span><span class='ee-v'>EPSG:32610</span></li><li><label class='ee-shut'>crs_transform: [30, 0, 604785, 0, -30, 4259115]<input type='checkbox' class='ee-toggle'></label><ul><li><span class='ee-k'>0:</span><span class='ee-v'>30</span></li><li><span class='ee-k'>1:</span><span class='ee-v'>0</span></li><li><span class='ee-k'>2:</span><span class='ee-v'>604785</span></li><li><span class='ee-k'>3:</span><span class='ee-v'>0</span></li><li><span class='ee-k'>4:</span><span class='ee-v'>-30</span></li><li><span class='ee-k'>5:</span><span class='ee-v'>4259115</span></li></ul></li><li><label class='ee-shut'>data_type: signed int16<input type='checkbox' class='ee-toggle'></label><ul><li><span class='ee-k'>type:</span><span class='ee-v'>PixelType</span></li><li><span class='ee-k'>max:</span><span class='ee-v'>32767</span></li><li><span class='ee-k'>min:</span><span class='ee-v'>-32768</span></li><li><span class='ee-k'>precision:</span><span class='ee-v'>int</span></li></ul></li><li><label class='ee-shut'>dimensions: [7501, 7291]<input type='checkbox' class='ee-toggle'></label><ul><li><span class='ee-k'>0:</span><span class='ee-v'>7501</span></li><li><span class='ee-k'>1:</span><span class='ee-v'>7291</span></li></ul></li></ul></li><li><label class='ee-shut'>15: \"ST_TRAD\", signed int16, EPSG:32610, 7501x7291 px<input type='checkbox' class='ee-toggle'></label><ul><li><span class='ee-k'>id:</span><span class='ee-v'>ST_TRAD</span></li><li><span class='ee-k'>crs:</span><span class='ee-v'>EPSG:32610</span></li><li><label class='ee-shut'>crs_transform: [30, 0, 604785, 0, -30, 4259115]<input type='checkbox' class='ee-toggle'></label><ul><li><span class='ee-k'>0:</span><span class='ee-v'>30</span></li><li><span class='ee-k'>1:</span><span class='ee-v'>0</span></li><li><span class='ee-k'>2:</span><span class='ee-v'>604785</span></li><li><span class='ee-k'>3:</span><span class='ee-v'>0</span></li><li><span class='ee-k'>4:</span><span class='ee-v'>-30</span></li><li><span class='ee-k'>5:</span><span class='ee-v'>4259115</span></li></ul></li><li><label class='ee-shut'>data_type: signed int16<input type='checkbox' class='ee-toggle'></label><ul><li><span class='ee-k'>type:</span><span class='ee-v'>PixelType</span></li><li><span class='ee-k'>max:</span><span class='ee-v'>32767</span></li><li><span class='ee-k'>min:</span><span class='ee-v'>-32768</span></li><li><span class='ee-k'>precision:</span><span class='ee-v'>int</span></li></ul></li><li><label class='ee-shut'>dimensions: [7501, 7291]<input type='checkbox' class='ee-toggle'></label><ul><li><span class='ee-k'>0:</span><span class='ee-v'>7501</span></li><li><span class='ee-k'>1:</span><span class='ee-v'>7291</span></li></ul></li></ul></li><li><label class='ee-shut'>16: \"ST_URAD\", signed int16, EPSG:32610, 7501x7291 px<input type='checkbox' class='ee-toggle'></label><ul><li><span class='ee-k'>id:</span><span class='ee-v'>ST_URAD</span></li><li><span class='ee-k'>crs:</span><span class='ee-v'>EPSG:32610</span></li><li><label class='ee-shut'>crs_transform: [30, 0, 604785, 0, -30, 4259115]<input type='checkbox' class='ee-toggle'></label><ul><li><span class='ee-k'>0:</span><span class='ee-v'>30</span></li><li><span class='ee-k'>1:</span><span class='ee-v'>0</span></li><li><span class='ee-k'>2:</span><span class='ee-v'>604785</span></li><li><span class='ee-k'>3:</span><span class='ee-v'>0</span></li><li><span class='ee-k'>4:</span><span class='ee-v'>-30</span></li><li><span class='ee-k'>5:</span><span class='ee-v'>4259115</span></li></ul></li><li><label class='ee-shut'>data_type: signed int16<input type='checkbox' class='ee-toggle'></label><ul><li><span class='ee-k'>type:</span><span class='ee-v'>PixelType</span></li><li><span class='ee-k'>max:</span><span class='ee-v'>32767</span></li><li><span class='ee-k'>min:</span><span class='ee-v'>-32768</span></li><li><span class='ee-k'>precision:</span><span class='ee-v'>int</span></li></ul></li><li><label class='ee-shut'>dimensions: [7501, 7291]<input type='checkbox' class='ee-toggle'></label><ul><li><span class='ee-k'>0:</span><span class='ee-v'>7501</span></li><li><span class='ee-k'>1:</span><span class='ee-v'>7291</span></li></ul></li></ul></li><li><label class='ee-shut'>17: \"QA_PIXEL\", unsigned int16, EPSG:32610, 7501x7291 px<input type='checkbox' class='ee-toggle'></label><ul><li><span class='ee-k'>id:</span><span class='ee-v'>QA_PIXEL</span></li><li><span class='ee-k'>crs:</span><span class='ee-v'>EPSG:32610</span></li><li><label class='ee-shut'>crs_transform: [30, 0, 604785, 0, -30, 4259115]<input type='checkbox' class='ee-toggle'></label><ul><li><span class='ee-k'>0:</span><span class='ee-v'>30</span></li><li><span class='ee-k'>1:</span><span class='ee-v'>0</span></li><li><span class='ee-k'>2:</span><span class='ee-v'>604785</span></li><li><span class='ee-k'>3:</span><span class='ee-v'>0</span></li><li><span class='ee-k'>4:</span><span class='ee-v'>-30</span></li><li><span class='ee-k'>5:</span><span class='ee-v'>4259115</span></li></ul></li><li><label class='ee-shut'>data_type: unsigned int16<input type='checkbox' class='ee-toggle'></label><ul><li><span class='ee-k'>type:</span><span class='ee-v'>PixelType</span></li><li><span class='ee-k'>max:</span><span class='ee-v'>65535</span></li><li><span class='ee-k'>min:</span><span class='ee-v'>0</span></li><li><span class='ee-k'>precision:</span><span class='ee-v'>int</span></li></ul></li><li><label class='ee-shut'>dimensions: [7501, 7291]<input type='checkbox' class='ee-toggle'></label><ul><li><span class='ee-k'>0:</span><span class='ee-v'>7501</span></li><li><span class='ee-k'>1:</span><span class='ee-v'>7291</span></li></ul></li></ul></li><li><label class='ee-shut'>18: \"QA_RADSAT\", unsigned int16, EPSG:32610, 7501x7291 px<input type='checkbox' class='ee-toggle'></label><ul><li><span class='ee-k'>id:</span><span class='ee-v'>QA_RADSAT</span></li><li><span class='ee-k'>crs:</span><span class='ee-v'>EPSG:32610</span></li><li><label class='ee-shut'>crs_transform: [30, 0, 604785, 0, -30, 4259115]<input type='checkbox' class='ee-toggle'></label><ul><li><span class='ee-k'>0:</span><span class='ee-v'>30</span></li><li><span class='ee-k'>1:</span><span class='ee-v'>0</span></li><li><span class='ee-k'>2:</span><span class='ee-v'>604785</span></li><li><span class='ee-k'>3:</span><span class='ee-v'>0</span></li><li><span class='ee-k'>4:</span><span class='ee-v'>-30</span></li><li><span class='ee-k'>5:</span><span class='ee-v'>4259115</span></li></ul></li><li><label class='ee-shut'>data_type: unsigned int16<input type='checkbox' class='ee-toggle'></label><ul><li><span class='ee-k'>type:</span><span class='ee-v'>PixelType</span></li><li><span class='ee-k'>max:</span><span class='ee-v'>65535</span></li><li><span class='ee-k'>min:</span><span class='ee-v'>0</span></li><li><span class='ee-k'>precision:</span><span class='ee-v'>int</span></li></ul></li><li><label class='ee-shut'>dimensions: [7501, 7291]<input type='checkbox' class='ee-toggle'></label><ul><li><span class='ee-k'>0:</span><span class='ee-v'>7501</span></li><li><span class='ee-k'>1:</span><span class='ee-v'>7291</span></li></ul></li></ul></li><li><label class='ee-shut'>19: \"NDVI\", float, EPSG:32610, 7501x7291 px<input type='checkbox' class='ee-toggle'></label><ul><li><span class='ee-k'>id:</span><span class='ee-v'>NDVI</span></li><li><span class='ee-k'>crs:</span><span class='ee-v'>EPSG:32610</span></li><li><label class='ee-shut'>crs_transform: [30, 0, 604785, 0, -30, 4259115]<input type='checkbox' class='ee-toggle'></label><ul><li><span class='ee-k'>0:</span><span class='ee-v'>30</span></li><li><span class='ee-k'>1:</span><span class='ee-v'>0</span></li><li><span class='ee-k'>2:</span><span class='ee-v'>604785</span></li><li><span class='ee-k'>3:</span><span class='ee-v'>0</span></li><li><span class='ee-k'>4:</span><span class='ee-v'>-30</span></li><li><span class='ee-k'>5:</span><span class='ee-v'>4259115</span></li></ul></li><li><label class='ee-shut'>data_type: float<input type='checkbox' class='ee-toggle'></label><ul><li><span class='ee-k'>type:</span><span class='ee-v'>PixelType</span></li><li><span class='ee-k'>precision:</span><span class='ee-v'>float</span></li></ul></li><li><label class='ee-shut'>dimensions: [7501, 7291]<input type='checkbox' class='ee-toggle'></label><ul><li><span class='ee-k'>0:</span><span class='ee-v'>7501</span></li><li><span class='ee-k'>1:</span><span class='ee-v'>7291</span></li></ul></li></ul></li><li><label class='ee-shut'>20: \"t\", float, EPSG:4326<input type='checkbox' class='ee-toggle'></label><ul><li><span class='ee-k'>id:</span><span class='ee-v'>t</span></li><li><span class='ee-k'>crs:</span><span class='ee-v'>EPSG:4326</span></li><li><label class='ee-shut'>crs_transform: [1, 0, 0, 0, 1, 0]<input type='checkbox' class='ee-toggle'></label><ul><li><span class='ee-k'>0:</span><span class='ee-v'>1</span></li><li><span class='ee-k'>1:</span><span class='ee-v'>0</span></li><li><span class='ee-k'>2:</span><span class='ee-v'>0</span></li><li><span class='ee-k'>3:</span><span class='ee-v'>0</span></li><li><span class='ee-k'>4:</span><span class='ee-v'>1</span></li><li><span class='ee-k'>5:</span><span class='ee-v'>0</span></li></ul></li><li><label class='ee-shut'>data_type: float<input type='checkbox' class='ee-toggle'></label><ul><li><span class='ee-k'>type:</span><span class='ee-v'>PixelType</span></li><li><span class='ee-k'>precision:</span><span class='ee-v'>float</span></li></ul></li></ul></li><li><label class='ee-shut'>21: \"cos_1\", double, EPSG:4326<input type='checkbox' class='ee-toggle'></label><ul><li><span class='ee-k'>id:</span><span class='ee-v'>cos_1</span></li><li><span class='ee-k'>crs:</span><span class='ee-v'>EPSG:4326</span></li><li><label class='ee-shut'>crs_transform: [1, 0, 0, 0, 1, 0]<input type='checkbox' class='ee-toggle'></label><ul><li><span class='ee-k'>0:</span><span class='ee-v'>1</span></li><li><span class='ee-k'>1:</span><span class='ee-v'>0</span></li><li><span class='ee-k'>2:</span><span class='ee-v'>0</span></li><li><span class='ee-k'>3:</span><span class='ee-v'>0</span></li><li><span class='ee-k'>4:</span><span class='ee-v'>1</span></li><li><span class='ee-k'>5:</span><span class='ee-v'>0</span></li></ul></li><li><label class='ee-shut'>data_type: double<input type='checkbox' class='ee-toggle'></label><ul><li><span class='ee-k'>type:</span><span class='ee-v'>PixelType</span></li><li><span class='ee-k'>precision:</span><span class='ee-v'>double</span></li></ul></li></ul></li><li><label class='ee-shut'>22: \"cos_2\", double, EPSG:4326<input type='checkbox' class='ee-toggle'></label><ul><li><span class='ee-k'>id:</span><span class='ee-v'>cos_2</span></li><li><span class='ee-k'>crs:</span><span class='ee-v'>EPSG:4326</span></li><li><label class='ee-shut'>crs_transform: [1, 0, 0, 0, 1, 0]<input type='checkbox' class='ee-toggle'></label><ul><li><span class='ee-k'>0:</span><span class='ee-v'>1</span></li><li><span class='ee-k'>1:</span><span class='ee-v'>0</span></li><li><span class='ee-k'>2:</span><span class='ee-v'>0</span></li><li><span class='ee-k'>3:</span><span class='ee-v'>0</span></li><li><span class='ee-k'>4:</span><span class='ee-v'>1</span></li><li><span class='ee-k'>5:</span><span class='ee-v'>0</span></li></ul></li><li><label class='ee-shut'>data_type: double<input type='checkbox' class='ee-toggle'></label><ul><li><span class='ee-k'>type:</span><span class='ee-v'>PixelType</span></li><li><span class='ee-k'>precision:</span><span class='ee-v'>double</span></li></ul></li></ul></li><li><label class='ee-shut'>23: \"cos_3\", double, EPSG:4326<input type='checkbox' class='ee-toggle'></label><ul><li><span class='ee-k'>id:</span><span class='ee-v'>cos_3</span></li><li><span class='ee-k'>crs:</span><span class='ee-v'>EPSG:4326</span></li><li><label class='ee-shut'>crs_transform: [1, 0, 0, 0, 1, 0]<input type='checkbox' class='ee-toggle'></label><ul><li><span class='ee-k'>0:</span><span class='ee-v'>1</span></li><li><span class='ee-k'>1:</span><span class='ee-v'>0</span></li><li><span class='ee-k'>2:</span><span class='ee-v'>0</span></li><li><span class='ee-k'>3:</span><span class='ee-v'>0</span></li><li><span class='ee-k'>4:</span><span class='ee-v'>1</span></li><li><span class='ee-k'>5:</span><span class='ee-v'>0</span></li></ul></li><li><label class='ee-shut'>data_type: double<input type='checkbox' class='ee-toggle'></label><ul><li><span class='ee-k'>type:</span><span class='ee-v'>PixelType</span></li><li><span class='ee-k'>precision:</span><span class='ee-v'>double</span></li></ul></li></ul></li><li><label class='ee-shut'>24: \"sin_1\", double, EPSG:4326<input type='checkbox' class='ee-toggle'></label><ul><li><span class='ee-k'>id:</span><span class='ee-v'>sin_1</span></li><li><span class='ee-k'>crs:</span><span class='ee-v'>EPSG:4326</span></li><li><label class='ee-shut'>crs_transform: [1, 0, 0, 0, 1, 0]<input type='checkbox' class='ee-toggle'></label><ul><li><span class='ee-k'>0:</span><span class='ee-v'>1</span></li><li><span class='ee-k'>1:</span><span class='ee-v'>0</span></li><li><span class='ee-k'>2:</span><span class='ee-v'>0</span></li><li><span class='ee-k'>3:</span><span class='ee-v'>0</span></li><li><span class='ee-k'>4:</span><span class='ee-v'>1</span></li><li><span class='ee-k'>5:</span><span class='ee-v'>0</span></li></ul></li><li><label class='ee-shut'>data_type: double<input type='checkbox' class='ee-toggle'></label><ul><li><span class='ee-k'>type:</span><span class='ee-v'>PixelType</span></li><li><span class='ee-k'>precision:</span><span class='ee-v'>double</span></li></ul></li></ul></li><li><label class='ee-shut'>25: \"sin_2\", double, EPSG:4326<input type='checkbox' class='ee-toggle'></label><ul><li><span class='ee-k'>id:</span><span class='ee-v'>sin_2</span></li><li><span class='ee-k'>crs:</span><span class='ee-v'>EPSG:4326</span></li><li><label class='ee-shut'>crs_transform: [1, 0, 0, 0, 1, 0]<input type='checkbox' class='ee-toggle'></label><ul><li><span class='ee-k'>0:</span><span class='ee-v'>1</span></li><li><span class='ee-k'>1:</span><span class='ee-v'>0</span></li><li><span class='ee-k'>2:</span><span class='ee-v'>0</span></li><li><span class='ee-k'>3:</span><span class='ee-v'>0</span></li><li><span class='ee-k'>4:</span><span class='ee-v'>1</span></li><li><span class='ee-k'>5:</span><span class='ee-v'>0</span></li></ul></li><li><label class='ee-shut'>data_type: double<input type='checkbox' class='ee-toggle'></label><ul><li><span class='ee-k'>type:</span><span class='ee-v'>PixelType</span></li><li><span class='ee-k'>precision:</span><span class='ee-v'>double</span></li></ul></li></ul></li><li><label class='ee-shut'>26: \"sin_3\", double, EPSG:4326<input type='checkbox' class='ee-toggle'></label><ul><li><span class='ee-k'>id:</span><span class='ee-v'>sin_3</span></li><li><span class='ee-k'>crs:</span><span class='ee-v'>EPSG:4326</span></li><li><label class='ee-shut'>crs_transform: [1, 0, 0, 0, 1, 0]<input type='checkbox' class='ee-toggle'></label><ul><li><span class='ee-k'>0:</span><span class='ee-v'>1</span></li><li><span class='ee-k'>1:</span><span class='ee-v'>0</span></li><li><span class='ee-k'>2:</span><span class='ee-v'>0</span></li><li><span class='ee-k'>3:</span><span class='ee-v'>0</span></li><li><span class='ee-k'>4:</span><span class='ee-v'>1</span></li><li><span class='ee-k'>5:</span><span class='ee-v'>0</span></li></ul></li><li><label class='ee-shut'>data_type: double<input type='checkbox' class='ee-toggle'></label><ul><li><span class='ee-k'>type:</span><span class='ee-v'>PixelType</span></li><li><span class='ee-k'>precision:</span><span class='ee-v'>double</span></li></ul></li></ul></li></ul></li><li><label class='ee-shut'>properties: Object (94 properties)<input type='checkbox' class='ee-toggle'></label><ul><li><span class='ee-k'>ALGORITHM_SOURCE_SURFACE_REFLECTANCE:</span><span class='ee-v'>LaSRC_1.5.0</span></li><li><span class='ee-k'>ALGORITHM_SOURCE_SURFACE_TEMPERATURE:</span><span class='ee-v'>st_1.3.0</span></li><li><span class='ee-k'>CLOUD_COVER:</span><span class='ee-v'>1.88</span></li><li><span class='ee-k'>CLOUD_COVER_LAND:</span><span class='ee-v'>1.88</span></li><li><span class='ee-k'>COLLECTION_CATEGORY:</span><span class='ee-v'>T1</span></li><li><span class='ee-k'>COLLECTION_NUMBER:</span><span class='ee-v'>2</span></li><li><span class='ee-k'>DATA_SOURCE_AIR_TEMPERATURE:</span><span class='ee-v'>MODIS</span></li><li><span class='ee-k'>DATA_SOURCE_ELEVATION:</span><span class='ee-v'>GLS2000</span></li><li><span class='ee-k'>DATA_SOURCE_OZONE:</span><span class='ee-v'>MODIS</span></li><li><span class='ee-k'>DATA_SOURCE_PRESSURE:</span><span class='ee-v'>Calculated</span></li><li><span class='ee-k'>DATA_SOURCE_REANALYSIS:</span><span class='ee-v'>GEOS-5 FP-IT</span></li><li><span class='ee-k'>DATA_SOURCE_TIRS_STRAY_LIGHT_CORRECTION:</span><span class='ee-v'>TIRS</span></li><li><span class='ee-k'>DATA_SOURCE_WATER_VAPOR:</span><span class='ee-v'>MODIS</span></li><li><span class='ee-k'>DATE_ACQUIRED:</span><span class='ee-v'>2013-04-25</span></li><li><span class='ee-k'>DATE_PRODUCT_GENERATED:</span><span class='ee-v'>1599954313000</span></li><li><span class='ee-k'>DATUM:</span><span class='ee-v'>WGS84</span></li><li><span class='ee-k'>EARTH_SUN_DISTANCE:</span><span class='ee-v'>1.0061524</span></li><li><span class='ee-k'>ELLIPSOID:</span><span class='ee-v'>WGS84</span></li><li><span class='ee-k'>GEOMETRIC_RMSE_MODEL:</span><span class='ee-v'>5.338</span></li><li><span class='ee-k'>GEOMETRIC_RMSE_MODEL_X:</span><span class='ee-v'>3.815</span></li><li><span class='ee-k'>GEOMETRIC_RMSE_MODEL_Y:</span><span class='ee-v'>3.733</span></li><li><span class='ee-k'>GEOMETRIC_RMSE_VERIFY:</span><span class='ee-v'>2.189</span></li><li><span class='ee-k'>GRID_CELL_SIZE_REFLECTIVE:</span><span class='ee-v'>30</span></li><li><span class='ee-k'>GRID_CELL_SIZE_THERMAL:</span><span class='ee-v'>30</span></li><li><span class='ee-k'>GROUND_CONTROL_POINTS_MODEL:</span><span class='ee-v'>1063</span></li><li><span class='ee-k'>GROUND_CONTROL_POINTS_VERIFY:</span><span class='ee-v'>261</span></li><li><span class='ee-k'>GROUND_CONTROL_POINTS_VERSION:</span><span class='ee-v'>5</span></li><li><span class='ee-k'>IMAGE_QUALITY_OLI:</span><span class='ee-v'>9</span></li><li><span class='ee-k'>IMAGE_QUALITY_TIRS:</span><span class='ee-v'>9</span></li><li><span class='ee-k'>L1_DATE_PRODUCT_GENERATED:</span><span class='ee-v'>2020-09-12T23:33:52Z</span></li><li><span class='ee-k'>L1_LANDSAT_PRODUCT_ID:</span><span class='ee-v'>LC08_L1TP_043034_20130425_20200912_02_T1</span></li><li><span class='ee-k'>L1_PROCESSING_LEVEL:</span><span class='ee-v'>L1TP</span></li><li><span class='ee-k'>L1_PROCESSING_SOFTWARE_VERSION:</span><span class='ee-v'>LPGS_15.3.1c</span></li><li><span class='ee-k'>L1_REQUEST_ID:</span><span class='ee-v'>L2</span></li><li><span class='ee-k'>LANDSAT_PRODUCT_ID:</span><span class='ee-v'>LC08_L2SP_043034_20130425_20200912_02_T1</span></li><li><span class='ee-k'>LANDSAT_SCENE_ID:</span><span class='ee-v'>LC80430342013115LGN03</span></li><li><span class='ee-k'>MAP_PROJECTION:</span><span class='ee-v'>UTM</span></li><li><span class='ee-k'>NADIR_OFFNADIR:</span><span class='ee-v'>NADIR</span></li><li><span class='ee-k'>ORIENTATION:</span><span class='ee-v'>NORTH_UP</span></li><li><span class='ee-k'>PROCESSING_LEVEL:</span><span class='ee-v'>L2SP</span></li><li><span class='ee-k'>PROCESSING_SOFTWARE_VERSION:</span><span class='ee-v'>LPGS_15.3.1c</span></li><li><span class='ee-k'>REFLECTANCE_ADD_BAND_1:</span><span class='ee-v'>-0.2</span></li><li><span class='ee-k'>REFLECTANCE_ADD_BAND_2:</span><span class='ee-v'>-0.2</span></li><li><span class='ee-k'>REFLECTANCE_ADD_BAND_3:</span><span class='ee-v'>-0.2</span></li><li><span class='ee-k'>REFLECTANCE_ADD_BAND_4:</span><span class='ee-v'>-0.2</span></li><li><span class='ee-k'>REFLECTANCE_ADD_BAND_5:</span><span class='ee-v'>-0.2</span></li><li><span class='ee-k'>REFLECTANCE_ADD_BAND_6:</span><span class='ee-v'>-0.2</span></li><li><span class='ee-k'>REFLECTANCE_ADD_BAND_7:</span><span class='ee-v'>-0.2</span></li><li><span class='ee-k'>REFLECTANCE_MULT_BAND_1:</span><span class='ee-v'>2.75e-05</span></li><li><span class='ee-k'>REFLECTANCE_MULT_BAND_2:</span><span class='ee-v'>2.75e-05</span></li><li><span class='ee-k'>REFLECTANCE_MULT_BAND_3:</span><span class='ee-v'>2.75e-05</span></li><li><span class='ee-k'>REFLECTANCE_MULT_BAND_4:</span><span class='ee-v'>2.75e-05</span></li><li><span class='ee-k'>REFLECTANCE_MULT_BAND_5:</span><span class='ee-v'>2.75e-05</span></li><li><span class='ee-k'>REFLECTANCE_MULT_BAND_6:</span><span class='ee-v'>2.75e-05</span></li><li><span class='ee-k'>REFLECTANCE_MULT_BAND_7:</span><span class='ee-v'>2.75e-05</span></li><li><span class='ee-k'>REFLECTIVE_LINES:</span><span class='ee-v'>7291</span></li><li><span class='ee-k'>REFLECTIVE_SAMPLES:</span><span class='ee-v'>7501</span></li><li><span class='ee-k'>REQUEST_ID:</span><span class='ee-v'>L2</span></li><li><span class='ee-k'>ROLL_ANGLE:</span><span class='ee-v'>-0.001</span></li><li><span class='ee-k'>SATURATION_BAND_1:</span><span class='ee-v'>N</span></li><li><span class='ee-k'>SATURATION_BAND_2:</span><span class='ee-v'>N</span></li><li><span class='ee-k'>SATURATION_BAND_3:</span><span class='ee-v'>N</span></li><li><span class='ee-k'>SATURATION_BAND_4:</span><span class='ee-v'>N</span></li><li><span class='ee-k'>SATURATION_BAND_5:</span><span class='ee-v'>Y</span></li><li><span class='ee-k'>SATURATION_BAND_6:</span><span class='ee-v'>Y</span></li><li><span class='ee-k'>SATURATION_BAND_7:</span><span class='ee-v'>Y</span></li><li><span class='ee-k'>SATURATION_BAND_8:</span><span class='ee-v'>N</span></li><li><span class='ee-k'>SATURATION_BAND_9:</span><span class='ee-v'>N</span></li><li><span class='ee-k'>SCENE_CENTER_TIME:</span><span class='ee-v'>18:41:39.0246000Z</span></li><li><span class='ee-k'>SENSOR_ID:</span><span class='ee-v'>OLI_TIRS</span></li><li><span class='ee-k'>SPACECRAFT_ID:</span><span class='ee-v'>LANDSAT_8</span></li><li><span class='ee-k'>STATION_ID:</span><span class='ee-v'>LGN</span></li><li><span class='ee-k'>SUN_AZIMUTH:</span><span class='ee-v'>138.85095424</span></li><li><span class='ee-k'>SUN_ELEVATION:</span><span class='ee-v'>60.28139977</span></li><li><span class='ee-k'>TARGET_WRS_PATH:</span><span class='ee-v'>43</span></li><li><span class='ee-k'>TARGET_WRS_ROW:</span><span class='ee-v'>34</span></li><li><span class='ee-k'>TEMPERATURE_ADD_BAND_ST_B10:</span><span class='ee-v'>149</span></li><li><span class='ee-k'>TEMPERATURE_MAXIMUM_BAND_ST_B10:</span><span class='ee-v'>372.999941</span></li><li><span class='ee-k'>TEMPERATURE_MINIMUM_BAND_ST_B10:</span><span class='ee-v'>149.003418</span></li><li><span class='ee-k'>TEMPERATURE_MULT_BAND_ST_B10:</span><span class='ee-v'>0.00341802</span></li><li><span class='ee-k'>THERMAL_LINES:</span><span class='ee-v'>7291</span></li><li><span class='ee-k'>THERMAL_SAMPLES:</span><span class='ee-v'>7501</span></li><li><span class='ee-k'>TIRS_SSM_MODEL:</span><span class='ee-v'>ACTUAL</span></li><li><span class='ee-k'>TIRS_SSM_POSITION_STATUS:</span><span class='ee-v'>NOMINAL</span></li><li><span class='ee-k'>TRUNCATION_OLI:</span><span class='ee-v'>UPPER</span></li><li><span class='ee-k'>UTM_ZONE:</span><span class='ee-v'>10</span></li><li><span class='ee-k'>WRS_PATH:</span><span class='ee-v'>43</span></li><li><span class='ee-k'>WRS_ROW:</span><span class='ee-v'>34</span></li><li><span class='ee-k'>WRS_TYPE:</span><span class='ee-v'>2</span></li><li><span class='ee-k'>system:asset_size:</span><span class='ee-v'>923692083</span></li><li><label class='ee-shut'>system:footprint: LinearRing (21 vertices)<input type='checkbox' class='ee-toggle'></label><ul><li><span class='ee-k'>type:</span><span class='ee-v'>LinearRing</span></li><li><label class='ee-shut'>coordinates: List (21 elements)<input type='checkbox' class='ee-toggle'></label><ul><li><label class='ee-shut'>0: [-121.33505369721036, 38.46176992940152]<input type='checkbox' class='ee-toggle'></label><ul><li><span class='ee-k'>0:</span><span class='ee-v'>-121.33505369721036</span></li><li><span class='ee-k'>1:</span><span class='ee-v'>38.46176992940152</span></li></ul></li><li><label class='ee-shut'>1: [-121.3558362325698, 38.46546867484676]<input type='checkbox' class='ee-toggle'></label><ul><li><span class='ee-k'>0:</span><span class='ee-v'>-121.3558362325698</span></li><li><span class='ee-k'>1:</span><span class='ee-v'>38.46546867484676</span></li></ul></li><li><label class='ee-shut'>2: [-121.586036806864, 37.666474795303756]<input type='checkbox' class='ee-toggle'></label><ul><li><span class='ee-k'>0:</span><span class='ee-v'>-121.586036806864</span></li><li><span class='ee-k'>1:</span><span class='ee-v'>37.666474795303756</span></li></ul></li><li><label class='ee-shut'>3: [-121.81163576981429, 36.86488880106467]<input type='checkbox' class='ee-toggle'></label><ul><li><span class='ee-k'>0:</span><span class='ee-v'>-121.81163576981429</span></li><li><span class='ee-k'>1:</span><span class='ee-v'>36.86488880106467</span></li></ul></li><li><label class='ee-shut'>4: [-121.81165454079863, 36.8636754756665]<input type='checkbox' class='ee-toggle'></label><ul><li><span class='ee-k'>0:</span><span class='ee-v'>-121.81165454079863</span></li><li><span class='ee-k'>1:</span><span class='ee-v'>36.8636754756665</span></li></ul></li><li><label class='ee-shut'>5: [-121.78487825432727, 36.85878099827164]<input type='checkbox' class='ee-toggle'></label><ul><li><span class='ee-k'>0:</span><span class='ee-v'>-121.78487825432727</span></li><li><span class='ee-k'>1:</span><span class='ee-v'>36.85878099827164</span></li></ul></li><li><label class='ee-shut'>6: [-121.40103784268543, 36.787985835331476]<input type='checkbox' class='ee-toggle'></label><ul><li><span class='ee-k'>0:</span><span class='ee-v'>-121.40103784268543</span></li><li><span class='ee-k'>1:</span><span class='ee-v'>36.787985835331476</span></li></ul></li><li><label class='ee-shut'>7: [-119.80202962908605, 36.478372061401096]<input type='checkbox' class='ee-toggle'></label><ul><li><span class='ee-k'>0:</span><span class='ee-v'>-119.80202962908605</span></li><li><span class='ee-k'>1:</span><span class='ee-v'>36.478372061401096</span></li></ul></li><li><label class='ee-shut'>8: [-119.78280081826105, 36.47452334414627]<input type='checkbox' class='ee-toggle'></label><ul><li><span class='ee-k'>0:</span><span class='ee-v'>-119.78280081826105</span></li><li><span class='ee-k'>1:</span><span class='ee-v'>36.47452334414627</span></li></ul></li><li><label class='ee-shut'>9: [-119.78187183909249, 36.4771482568197]<input type='checkbox' class='ee-toggle'></label><ul><li><span class='ee-k'>0:</span><span class='ee-v'>-119.78187183909249</span></li><li><span class='ee-k'>1:</span><span class='ee-v'>36.4771482568197</span></li></ul></li><li><label class='ee-shut'>10: [-119.7625773362403, 36.53996129370961]<input type='checkbox' class='ee-toggle'></label><ul><li><span class='ee-k'>0:</span><span class='ee-v'>-119.7625773362403</span></li><li><span class='ee-k'>1:</span><span class='ee-v'>36.53996129370961</span></li></ul></li><li><label class='ee-shut'>11: [-119.71478648573375, 36.695168981303794]<input type='checkbox' class='ee-toggle'></label><ul><li><span class='ee-k'>0:</span><span class='ee-v'>-119.71478648573375</span></li><li><span class='ee-k'>1:</span><span class='ee-v'>36.695168981303794</span></li></ul></li><li><label class='ee-shut'>12: [-119.6874867831839, 36.78361583376816]<input type='checkbox' class='ee-toggle'></label><ul><li><span class='ee-k'>0:</span><span class='ee-v'>-119.6874867831839</span></li><li><span class='ee-k'>1:</span><span class='ee-v'>36.78361583376816</span></li></ul></li><li><label class='ee-shut'>13: [-119.65541251633749, 36.887327445713225]<input type='checkbox' class='ee-toggle'></label><ul><li><span class='ee-k'>0:</span><span class='ee-v'>-119.65541251633749</span></li><li><span class='ee-k'>1:</span><span class='ee-v'>36.887327445713225</span></li></ul></li><li><label class='ee-shut'>14: [-119.63501539401123, 36.95324625148282]<input type='checkbox' class='ee-toggle'></label><ul><li><span class='ee-k'>0:</span><span class='ee-v'>-119.63501539401123</span></li><li><span class='ee-k'>1:</span><span class='ee-v'>36.95324625148282</span></li></ul></li><li><label class='ee-shut'>15: [-119.59803968529475, 37.07247559305706]<input type='checkbox' class='ee-toggle'></label><ul><li><span class='ee-k'>0:</span><span class='ee-v'>-119.59803968529475</span></li><li><span class='ee-k'>1:</span><span class='ee-v'>37.07247559305706</span></li></ul></li><li><label class='ee-shut'>16: [-119.44394899460099, 37.573238210684394]<input type='checkbox' class='ee-toggle'></label><ul><li><span class='ee-k'>0:</span><span class='ee-v'>-119.44394899460099</span></li><li><span class='ee-k'>1:</span><span class='ee-v'>37.573238210684394</span></li></ul></li><li><label class='ee-shut'>17: [-119.28710521909974, 38.07497596319536]<input type='checkbox' class='ee-toggle'></label><ul><li><span class='ee-k'>0:</span><span class='ee-v'>-119.28710521909974</span></li><li><span class='ee-k'>1:</span><span class='ee-v'>38.07497596319536</span></li></ul></li><li><label class='ee-shut'>18: [-119.28704378815999, 38.07618853485554]<input type='checkbox' class='ee-toggle'></label><ul><li><span class='ee-k'>0:</span><span class='ee-v'>-119.28704378815999</span></li><li><span class='ee-k'>1:</span><span class='ee-v'>38.07618853485554</span></li></ul></li><li><label class='ee-shut'>19: [-119.42479601293059, 38.10336959400444]<input type='checkbox' class='ee-toggle'></label><ul><li><span class='ee-k'>0:</span><span class='ee-v'>-119.42479601293059</span></li><li><span class='ee-k'>1:</span><span class='ee-v'>38.10336959400444</span></li></ul></li><li><label class='ee-shut'>20: [-121.33505369721036, 38.46176992940152]<input type='checkbox' class='ee-toggle'></label><ul><li><span class='ee-k'>0:</span><span class='ee-v'>-121.33505369721036</span></li><li><span class='ee-k'>1:</span><span class='ee-v'>38.46176992940152</span></li></ul></li></ul></li></ul></li><li><span class='ee-k'>system:index:</span><span class='ee-v'>LC08_043034_20130425</span></li><li><span class='ee-k'>system:time_end:</span><span class='ee-v'>1366915299024</span></li><li><span class='ee-k'>system:time_start:</span><span class='ee-v'>1366915299024</span></li></ul></li></ul></li></ul></div><script>function toggleHeader() {\n",
       "    const parent = this.parentElement;\n",
       "    parent.className = parent.className === \"ee-open\" ? \"ee-shut\" : \"ee-open\";\n",
       "}\n",
       "\n",
       "for (let c of document.getElementsByClassName(\"ee-toggle\")) {\n",
       "    c.onclick = toggleHeader;\n",
       "}</script></div>"
      ],
      "text/plain": [
       "<ee.image.Image at 0x7f80f91b7550>"
      ]
     },
     "execution_count": 84,
     "metadata": {},
     "output_type": "execute_result"
    }
   ],
   "source": [
    "dataset.first()"
   ]
  },
  {
   "cell_type": "code",
   "execution_count": 85,
   "metadata": {},
   "outputs": [
    {
     "data": {
      "text/html": [
       "\n",
       "            <style>\n",
       "                .geemap-dark {\n",
       "                    --jp-widgets-color: white;\n",
       "                    --jp-widgets-label-color: white;\n",
       "                    --jp-ui-font-color1: white;\n",
       "                    --jp-layout-color2: #454545;\n",
       "                    background-color: #383838;\n",
       "                }\n",
       "\n",
       "                .geemap-dark .jupyter-button {\n",
       "                    --jp-layout-color3: #383838;\n",
       "                }\n",
       "\n",
       "                .geemap-colab {\n",
       "                    background-color: var(--colab-primary-surface-color, white);\n",
       "                }\n",
       "\n",
       "                .geemap-colab .jupyter-button {\n",
       "                    --jp-layout-color3: var(--colab-primary-surface-color, white);\n",
       "                }\n",
       "            </style>\n",
       "            "
      ],
      "text/plain": [
       "<IPython.core.display.HTML object>"
      ]
     },
     "metadata": {},
     "output_type": "display_data"
    },
    {
     "ename": "NameError",
     "evalue": "name 'independents' is not defined",
     "output_type": "error",
     "traceback": [
      "\u001b[0;31m---------------------------------------------------------------------------\u001b[0m",
      "\u001b[0;31mNameError\u001b[0m                                 Traceback (most recent call last)",
      "Cell \u001b[0;32mIn[85], line 1\u001b[0m\n\u001b[0;32m----> 1\u001b[0m trend \u001b[38;5;241m=\u001b[39m geeft\u001b[38;5;241m.\u001b[39m_compute_trend(dataset, dependent, \u001b[43mindependents\u001b[49m)\n",
      "\u001b[0;31mNameError\u001b[0m: name 'independents' is not defined"
     ]
    }
   ],
   "source": []
  },
  {
   "cell_type": "code",
   "execution_count": null,
   "metadata": {},
   "outputs": [],
   "source": [
    "trend"
   ]
  }
 ],
 "metadata": {
  "kernelspec": {
   "display_name": "geeft",
   "language": "python",
   "name": "python3"
  },
  "language_info": {
   "codemirror_mode": {
    "name": "ipython",
    "version": 3
   },
   "file_extension": ".py",
   "mimetype": "text/x-python",
   "name": "python",
   "nbconvert_exporter": "python",
   "pygments_lexer": "ipython3",
   "version": "3.11.9"
  }
 },
 "nbformat": 4,
 "nbformat_minor": 2
}
